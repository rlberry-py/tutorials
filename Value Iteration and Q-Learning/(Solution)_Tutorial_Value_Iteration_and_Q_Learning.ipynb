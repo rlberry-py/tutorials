{
 "cells": [
  {
   "cell_type": "markdown",
   "metadata": {
    "colab_type": "text",
    "id": "view-in-github"
   },
   "source": [
    "<a href=\"https://colab.research.google.com/github/rlberry-py/tutorials/blob/main/Value%20Iteration%20and%20Q-Learning/(Solution)_Tutorial_Value_Iteration_and_Q_Learning.ipynb\" target=\"_parent\"><img src=\"https://colab.research.google.com/assets/colab-badge.svg\" alt=\"Open In Colab\"/></a>"
   ]
  },
  {
   "cell_type": "markdown",
   "metadata": {
    "id": "Io_4iovMTlzT"
   },
   "source": [
    "# Tutorial - Value Iteration and Q-Learning\n",
    "---------------------------------\n",
    "\n",
    "In this tutorial, you will:\n",
    "\n",
    "* Implement the value iteration algorithm to approximate the value function when *a model of the environment is available*.\n",
    "* Implement the Q-Learning algorithm to approximate the value function when *the model is unknown*, that is, the agent must learn through interactions.\n",
    "\n",
    "We start with a short review of these algorithms.\n",
    "\n",
    "\n",
    "## Markov decision processes and value functions\n",
    "\n",
    "In reinforcement learning, an agent interacts with an enviroment by taking actions and observing rewards. Its goal is to learn a *policy*, that is, a mapping from states to actions, that maximizes the amount of reward it gathers.\n",
    "\n",
    "The enviroment is modeled as a __Markov decision process (MDP)__, defined by a set of states $\\mathcal{S}$, a set of actions $\\mathcal{A}$, a reward function $r(s, a)$ and transition probabilities $P(s'|s,a)$. When an agent takes action $a$ in state $s$, it receives a random reward with mean $r(s,a)$ and makes a transion to a state $s'$ distributed according to $P(s'|s,a)$.\n",
    "\n",
    "A __policy__ $\\pi$ is such that $\\pi(a|s)$ gives the probability of choosing an action $a$ in state $s$. __If the policy is deterministic__, we denote by $\\pi(s)$ the action that it chooses in state $s$. We are interested in finding a policy that maximizes the value function $V^\\pi$, defined as \n",
    "\n",
    "$$\n",
    "V^\\pi(s) = \\sum_{a\\in \\mathcal{A}} \\pi(a|s) Q^\\pi(s, a), \n",
    "\\quad \\text{where} \\quad \n",
    "Q^\\pi(s, a) = \\mathbf{E}\\left[ \\sum_{t=0}^\\infty \\gamma^t r(S_t, A_t)  \\Big| S_0 = s, A_0 = a\\right].\n",
    "$$\n",
    "and represents the mean of the sum of discounted rewards gathered by the policy $\\pi$ in the MDP, where $\\gamma \\in [0, 1[$ is a discount factor ensuring the convergence of the sum. \n",
    "\n",
    "The __action-value function__ $Q^\\pi$ is the __fixed point of the Bellman operator $T^\\pi$__:\n",
    "\n",
    "$$ \n",
    "Q^\\pi(s, a) = T^\\pi Q^\\pi(s, a)\n",
    "$$\n",
    "where, for any function $f: \\mathcal{S}\\times\\mathcal{A} \\to \\mathbb{R}$\n",
    "$$\n",
    "T^\\pi f(s, a) =  r(s, a) + \\gamma \\sum_{s'} P(s'|s,a) \\left(\\sum_{a'}\\pi(a'|s')f(s',a')\\right) \n",
    "$$\n",
    "\n",
    "\n",
    "The __optimal value function__, defined as $V^*(s) = \\max_\\pi V^\\pi(s)$ can be shown to satisfy $V^*(s) = \\max_a Q^*(s, a)$, where $Q^*$ is the __fixed point of the optimal Bellman operator $T^*$__: \n",
    "\n",
    "$$ \n",
    "Q^*(s, a) = T^* Q^*(s, a)\n",
    "$$\n",
    "where, for any function $f: \\mathcal{S}\\times\\mathcal{A} \\to \\mathbb{R}$\n",
    "$$\n",
    "T^* f(s, a) =  r(s, a) + \\gamma \\sum_{s'} P(s'|s,a) \\max_{a'} f(s', a')\n",
    "$$\n",
    "and there exists an __optimal policy__ which is deterministic, given by $\\pi^*(s) \\in \\arg\\max_a Q^*(s, a)$.\n",
    "\n",
    "\n",
    "## Value iteration\n",
    "\n",
    "If both the reward function $r$ and the transition probablities $P$ are known, we can compute $Q^*$ using value iteration, which proceeds as follows:\n",
    "\n",
    "1. Start with arbitrary $Q_0$, set $t=0$.\n",
    "2. Compute $Q_{t+1}(s, a) = T^*Q_t(s,a)$ for every $(s, a)$.\n",
    "3. If $\\max_{s,a} | Q_{t+1}(s, a) -  Q_t(s,a)| \\leq \\varepsilon$, return $Q_{t}$. Otherwise, set $t \\gets t+1$ and go back to 2. \n",
    "\n",
    "The convergence is guaranteed by the contraction property of the Bellman operator, and $Q_{t+1}$ can be shown to be a good approximation of $Q^*$ for small epsilon. \n",
    "\n",
    "__Question__: Can you bound the error $\\max_{s,a} | Q^*(s, a) -  Q_t(s,a)|$ as a function of $\\gamma$ and $\\varepsilon$?\n",
    "\n",
    "## Q-Learning\n",
    "\n",
    "In value iteration, we need to know $r$ and $P$ to implement the Bellman operator. When these quantities are not available, we can approximate $Q^*$ using *samples* from the environment with the Q-Learning algorithm.\n",
    "\n",
    "Q-Learning with __$\\varepsilon$-greedy exploration__ proceeds as follows:\n",
    "\n",
    "1. Start with arbitrary $Q_0$, get starting state $s_0$, set $t=0$.\n",
    "2. Choosing action $a_t$: \n",
    "  * With probability $\\varepsilon$ choose $a_t$ randomly (uniform distribution)  \n",
    "  * With probability $1-\\varepsilon$, choose $a_t \\in \\arg\\max_a Q_t(s_t, a)$.\n",
    "3. Take action $a_t$, observe next state $s_{t+1}$ and reward $r_t$.\n",
    "4. Compute error $\\delta_t = r_t + \\gamma \\max_a Q_t(s_{t+1}, a) - Q_t(s_t, a_t)$.\n",
    "5. Update \n",
    "  * $Q_{t+1}(s, a) = Q_t(s, a) + \\alpha_t(s,a) \\delta_t$,  __if $s=s_t$ and $a=a_t$__\n",
    "  * $Q_{t+1}(s, a) = Q_{t}(s, a)$ otherwise.\n",
    "\n",
    "Here, $\\alpha_t(s,a)$ is a learning rate that can depend, for instance, on the number of times the algorithm has visited the state-action pair $(s, a)$. \n"
   ]
  },
  {
   "cell_type": "markdown",
   "metadata": {
    "id": "KYq9-63OR8RW"
   },
   "source": [
    "# Colab setup"
   ]
  },
  {
   "cell_type": "code",
   "execution_count": 1,
   "metadata": {
    "colab": {
     "base_uri": "https://localhost:8080/"
    },
    "id": "AxepTGrNR3DX",
    "outputId": "65b8def6-dec3-4d59-d6a3-8bd3835ae227"
   },
   "outputs": [],
   "source": [
    "if 'google.colab' in str(get_ipython()):\n",
    "  print(\"Installing packages, please wait a few moments. Restart the runtime after the installation.\")\n",
    "\n",
    "  # install rlberry library\n",
    "  !pip install git+https://github.com/rlberry-py/rlberry.git#egg=rlberry[default] > /dev/null 2>&1\n",
    "\n",
    "  # packages required to show video\n",
    "  !pip install pyvirtualdisplay > /dev/null 2>&1\n",
    "  !apt-get install -y xvfb python-opengl ffmpeg > /dev/null 2>&1\n"
   ]
  },
  {
   "cell_type": "code",
   "execution_count": 2,
   "metadata": {
    "id": "3_bPhqKlSiF0"
   },
   "outputs": [],
   "source": [
    "# Create directory for saving videos\n",
    "!mkdir videos > /dev/null 2>&1\n",
    "\n",
    "# Initialize virtual display and import show_video function\n",
    "import rlberry.colab_utils.display_setup\n",
    "from rlberry.colab_utils.display_setup import show_video"
   ]
  },
  {
   "cell_type": "code",
   "execution_count": 3,
   "metadata": {
    "id": "ZYZCXMpisE_O"
   },
   "outputs": [],
   "source": [
    "# other required libraries\n",
    "import numpy as np\n",
    "import matplotlib.pyplot as plt\n"
   ]
  },
  {
   "cell_type": "markdown",
   "metadata": {
    "id": "zOPiAupGmkxh"
   },
   "source": [
    "# Warm up: interacting with a reinforcement learning environment"
   ]
  },
  {
   "cell_type": "code",
   "execution_count": 4,
   "metadata": {
    "colab": {
     "base_uri": "https://localhost:8080/",
     "height": 561
    },
    "id": "6IZ0bVAlTjpZ",
    "outputId": "540f784b-5849-4f67-c274-1a4242b2b323"
   },
   "outputs": [
    {
     "name": "stderr",
     "output_type": "stream",
     "text": [
      "[INFO] OpenGL_accelerate module loaded \n",
      "[INFO] Using accelerated ArrayDatatype \n"
     ]
    },
    {
     "name": "stdout",
     "output_type": "stream",
     "text": [
      "number of states =  13\n",
      "number of actions =  4\n",
      "transition probabilities from state 0 by taking action 1:  [0.  0.9 0.  0.  0.1 0.  0.  0.  0.  0.  0.  0.  0. ]\n",
      "mean reward in state 0 for action 1 =  0.0\n"
     ]
    },
    {
     "data": {
      "text/html": [
       "<video alt=\"videos/random_policy.mp4\" autoplay\n",
       "                      loop controls style=\"height: 400px;\">\n",
       "                    <source src=\"data:video/mp4;base64,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\" type=\"video/mp4\" />\n",
       "                 </video>"
      ],
      "text/plain": [
       "<IPython.core.display.HTML object>"
      ]
     },
     "metadata": {},
     "output_type": "display_data"
    }
   ],
   "source": [
    "from rlberry.envs import GridWorld\n",
    "\n",
    "# A GridWorld is an environment where an agent moves in a 2d grid and aims to reach the state which gives a reward.\n",
    "env = GridWorld(nrows=3, ncols=5, walls=((0,2),(1, 2)), success_probability=0.9)\n",
    "\n",
    "# Number of states and actions\n",
    "print(\"number of states = \", env.observation_space.n)\n",
    "print(\"number of actions = \", env.action_space.n)\n",
    "\n",
    "# Transitions probabilities, env.P[s, a, s'] = P(s'|s, a)\n",
    "print(\"transition probabilities from state 0 by taking action 1: \", env.P[0, 1, :])\n",
    "\n",
    "# Reward function: env.R[s, a] = r(s, a)\n",
    "print(\"mean reward in state 0 for action 1 = \", env.R[0, 1])\n",
    "\n",
    "# Following a random policy \n",
    "state = env.reset()     # initial state \n",
    "env.enable_rendering()  # save states for visualization\n",
    "for tt in range(100):   # interact for 100 time steps\n",
    "  action = env.action_space.sample()  # random action, a good RL agent must have a better strategy!\n",
    "  next_state, reward, is_terminal, info = env.step(action)\n",
    "  if is_terminal:\n",
    "    break\n",
    "  state = next_state\n",
    "\n",
    "# save video \n",
    "env.save_video('./videos/random_policy.mp4', framerate=10)\n",
    "# clear rendering data\n",
    "env.clear_render_buffer()\n",
    "env.disable_rendering()\n",
    "# see video\n",
    "show_video(filename='./videos/random_policy.mp4')"
   ]
  },
  {
   "cell_type": "markdown",
   "metadata": {
    "id": "snmFW5Bzqpwj"
   },
   "source": [
    "# Implementing Value Iteration\n",
    "\n",
    "1. Write a function ``bellman_operator`` that takes as input a function $Q$ and returns $T^* Q$.\n",
    "2. Write a function  ``value_iteration`` that returns a function $Q$ such that $||Q-T^* Q||_\\infty \\leq \\varepsilon$\n",
    "3. Evaluate the performance of the policy $\\pi(s) = \\arg\\max_a Q(s, a)$, where Q is returned by ``value_iteration``."
   ]
  },
  {
   "cell_type": "code",
   "execution_count": 5,
   "metadata": {
    "id": "RPIOmpjkq0YX"
   },
   "outputs": [],
   "source": [
    "def bellman_operator(Q, env, gamma=0.99):\n",
    "  S = env.observation_space.n\n",
    "  A = env.action_space.n \n",
    "  TQ = np.zeros((S, A))\n",
    "\n",
    "  V = Q.max(axis=1)\n",
    "  for ss in range(S):\n",
    "    for aa in range(A):\n",
    "      TQ[ss, aa] = env.R[ss, aa] + gamma*env.P[ss, aa, :].dot(V)\n",
    "  return TQ"
   ]
  },
  {
   "cell_type": "code",
   "execution_count": 6,
   "metadata": {
    "id": "tEKAtA1LsYFx"
   },
   "outputs": [],
   "source": [
    "def value_iteration(env, gamma=0.99, epsilon=1e-6):\n",
    "  S = env.observation_space.n\n",
    "  A = env.action_space.n \n",
    "  Q = np.zeros((S, A))\n",
    "\n",
    "  while True:\n",
    "    TQ = bellman_operator(Q, env, gamma)\n",
    "    if np.abs(TQ-Q).max() < epsilon:\n",
    "      break\n",
    "    Q = TQ\n",
    "    \n",
    "  return Q"
   ]
  },
  {
   "cell_type": "code",
   "execution_count": 7,
   "metadata": {
    "colab": {
     "base_uri": "https://localhost:8080/",
     "height": 422
    },
    "id": "rZ7k-rDLssSk",
    "outputId": "9f081edd-f56b-436b-9130-8cb82ff7216e"
   },
   "outputs": [
    {
     "data": {
      "text/html": [
       "<video alt=\"videos/value_iteration_policy.mp4\" autoplay\n",
       "                      loop controls style=\"height: 400px;\">\n",
       "                    <source src=\"data:video/mp4;base64,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\" type=\"video/mp4\" />\n",
       "                 </video>"
      ],
      "text/plain": [
       "<IPython.core.display.HTML object>"
      ]
     },
     "metadata": {},
     "output_type": "display_data"
    }
   ],
   "source": [
    "Q_vi = value_iteration(env)\n",
    "\n",
    "# Following value iteration policy \n",
    "state = env.reset()     \n",
    "env.enable_rendering()  \n",
    "for tt in range(100):   \n",
    "  action = Q_vi[state, :].argmax()\n",
    "  next_state, reward, is_terminal, info = env.step(action)\n",
    "  if is_terminal:\n",
    "    break\n",
    "  state = next_state\n",
    "\n",
    "# save video (run last cell to visualize it!)\n",
    "env.save_video('./videos/value_iteration_policy.mp4', framerate=10)\n",
    "# clear rendering data\n",
    "env.clear_render_buffer()\n",
    "env.disable_rendering()\n",
    "# see video\n",
    "show_video(filename='./videos/value_iteration_policy.mp4')"
   ]
  },
  {
   "cell_type": "markdown",
   "metadata": {
    "id": "1Uw6LVyVulOX"
   },
   "source": [
    "# Implementing Q-Learning\n",
    "\n",
    "Implement a function ``q_learning`` that takes as input an environment, runs Q learning for $T$ time steps and returns $Q_T$. \n",
    "\n",
    "Test different learning rates:\n",
    "  * $\\alpha_t(s, a) = \\frac{1}{\\text{number of visits to} (s, a)}$\n",
    "  * $\\alpha_t(s, a) =$ constant in $]0, 1[$\n",
    "  * others?\n",
    "\n",
    "Test different initializations of the Q function and try different values of $\\varepsilon$ in the $\\varepsilon$-greedy exploration!\n",
    "\n",
    "It might be very useful to plot the difference between the Q-learning approximation and the output of value iteration above, as a function of time.\n"
   ]
  },
  {
   "cell_type": "code",
   "execution_count": 8,
   "metadata": {
    "id": "OrhUOlrfv6xp"
   },
   "outputs": [],
   "source": [
    "def q_learning(env, gamma=0.99, T=20000, Q_vi=None):\n",
    "  \"\"\"\n",
    "  Q_vi is the output of value iteration.\n",
    "  \"\"\"\n",
    "  S = env.observation_space.n\n",
    "  A = env.action_space.n \n",
    "  error = np.zeros(T)\n",
    "  Q = np.zeros((S, A)) \n",
    "  N = np.zeros((S, A))  # number of visits to each (s, a)\n",
    "\n",
    "  # epsilon for exploration\n",
    "  epsilon = 0.5\n",
    "\n",
    "  state = env.reset()\n",
    "    # to complete...\n",
    "  for tt in range(T):\n",
    "\n",
    "    #\n",
    "    # epsilon-greedy exploration\n",
    "    #\n",
    "\n",
    "    if np.random.uniform() < epsilon:  # happers with prob epsilon\n",
    "      action = env.action_space.sample()\n",
    "    else:\n",
    "      action = Q[state, :].argmax()\n",
    "\n",
    "    # take action, observe next state and reward \n",
    "    next_state, reward, _, _ = env.step(action)\n",
    "    \n",
    "    # compute delta_t\n",
    "    delta = reward + gamma*Q[next_state, :].max() - Q[state, action]\n",
    "\n",
    "    # update Q\n",
    "    alpha = np.sqrt(1.0/(1.0+N[state, action]))\n",
    "    Q[state, action] += alpha*delta\n",
    "\n",
    "    # update number of visits\n",
    "    N[state, action] += 1\n",
    "\n",
    "    error[tt] = np.abs(Q-Q_vi).mean()\n",
    "\n",
    "    # update state\n",
    "    state = next_state\n",
    "\n",
    "  plt.plot(error)\n",
    "  plt.xlabel('iteration')\n",
    "  plt.title('Q-Learning error')\n",
    "  plt.show()\n",
    "  \n",
    "  return Q "
   ]
  },
  {
   "cell_type": "code",
   "execution_count": 9,
   "metadata": {
    "colab": {
     "base_uri": "https://localhost:8080/",
     "height": 295
    },
    "id": "fOetdWM4xhLt",
    "outputId": "1f83616a-1147-422a-87d1-7998b67192e9"
   },
   "outputs": [
    {
     "data": {
      "image/png": "[encoded data removed]",
      "text/plain": [
       "<Figure size 432x288 with 1 Axes>"
      ]
     },
     "metadata": {
      "needs_background": "light"
     },
     "output_type": "display_data"
    }
   ],
   "source": [
    "Q_ql = q_learning(env, Q_vi=Q_vi)"
   ]
  },
  {
   "cell_type": "code",
   "execution_count": 10,
   "metadata": {
    "colab": {
     "base_uri": "https://localhost:8080/",
     "height": 422
    },
    "id": "aHP9COPPGDGQ",
    "outputId": "cb787e68-14f6-4b9d-c9ef-df3196b6fabb"
   },
   "outputs": [
    {
     "data": {
      "text/html": [
       "<video alt=\"videos/q_learning_policy.mp4\" autoplay\n",
       "                      loop controls style=\"height: 400px;\">\n",
       "                    <source src=\"data:video/mp4;base64,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\" type=\"video/mp4\" />\n",
       "                 </video>"
      ],
      "text/plain": [
       "<IPython.core.display.HTML object>"
      ]
     },
     "metadata": {},
     "output_type": "display_data"
    }
   ],
   "source": [
    "# Following Q-Learning policy \n",
    "state = env.reset()     \n",
    "env.enable_rendering()  \n",
    "for tt in range(20):   \n",
    "  action = Q_ql[state, :].argmax()\n",
    "  next_state, reward, is_terminal, info = env.step(action)\n",
    "  if is_terminal:\n",
    "    break\n",
    "  state = next_state\n",
    "\n",
    "# save video (run last cell to visualize it!)\n",
    "env.save_video('./videos/q_learning_policy.mp4', framerate=10)\n",
    "# clear rendering data\n",
    "env.clear_render_buffer()\n",
    "env.disable_rendering()\n",
    "# see video\n",
    "show_video(filename='./videos/q_learning_policy.mp4')"
   ]
  }
 ],
 "metadata": {
  "colab": {
   "authorship_tag": "ABX9TyMtDoGdmnRiMcpTQ+t1iShl",
   "collapsed_sections": [],
   "include_colab_link": true,
   "name": "(Solution) Tutorial - Value Iteration and Q-Learning.ipynb",
   "provenance": []
  },
  "kernelspec": {
   "display_name": "Python 3",
   "language": "python",
   "name": "python3"
  },
  "language_info": {
   "codemirror_mode": {
    "name": "ipython",
    "version": 3
   },
   "file_extension": ".py",
   "mimetype": "text/x-python",
   "name": "python",
   "nbconvert_exporter": "python",
   "pygments_lexer": "ipython3",
   "version": "3.8.12"
  }
 },
 "nbformat": 4,
 "nbformat_minor": 1
}
