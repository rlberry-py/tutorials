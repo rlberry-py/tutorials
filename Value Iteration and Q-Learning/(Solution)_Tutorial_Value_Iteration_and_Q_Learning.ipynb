{
  "nbformat": 4,
  "nbformat_minor": 0,
  "metadata": {
    "colab": {
      "name": "(Solution) Tutorial - Value Iteration and Q-Learning.ipynb",
      "provenance": [],
      "collapsed_sections": [],
      "authorship_tag": "ABX9TyMG/+jPGsLq6xcAu5bN7vlx",
      "include_colab_link": true
    },
    "kernelspec": {
      "name": "python3",
      "display_name": "Python 3"
    }
  },
  "cells": [
    {
      "cell_type": "markdown",
      "metadata": {
        "id": "view-in-github",
        "colab_type": "text"
      },
      "source": [
        "<a href=\"https://colab.research.google.com/github/rlberry-py/tutorials/blob/main/Value%20Iteration%20and%20Q-Learning/(Solution)_Tutorial_Value_Iteration_and_Q_Learning.ipynb\" target=\"_parent\"><img src=\"https://colab.research.google.com/assets/colab-badge.svg\" alt=\"Open In Colab\"/></a>"
      ]
    },
    {
      "cell_type": "markdown",
      "metadata": {
        "id": "Io_4iovMTlzT"
      },
      "source": [
        "# Tutorial - Value Iteration and Q-Learning\n",
        "---------------------------------\n",
        "\n",
        "In this tutorial, you will:\n",
        "\n",
        "* Implement the value iteration algorithm to approximate the value function when *a model of the environment is available*.\n",
        "* Implement the Q-Learning algorithm to approximate the value function when *the model is unknown*, that is, the agent must learn through interactions.\n",
        "\n",
        "We start with a short review of these algorithms.\n",
        "\n",
        "\n",
        "## Markov decision processes and value functions\n",
        "\n",
        "In reinforcement learning, an agent interacts with an enviroment by taking actions and observing rewards. Its goal is to learn a *policy*, that is, a mapping from states to actions, that maximizes the amount of reward it gathers.\n",
        "\n",
        "The enviroment is modeled as a __Markov decision process (MDP)__, defined by a set of states $\\mathcal{S}$, a set of actions $\\mathcal{A}$, a reward function $r(s, a)$ and transition probabilities $P(s'|s,a)$. When an agent takes action $a$ in state $s$, it receives a random reward with mean $r(s,a)$ and makes a transion to a state $s'$ distributed according to $P(s'|s,a)$.\n",
        "\n",
        "A __policy__ $\\pi$ is such that $\\pi(a|s)$ gives the probability of choosing an action $a$ in state $s$. __If the policy is deterministic__, we denote by $\\pi(s)$ the action that it chooses in state $s$. We are interested in finding a policy that maximizes the value function $V^\\pi$, defined as \n",
        "\n",
        "$$\n",
        "V^\\pi(s) = \\sum_{a\\in \\mathcal{A}} \\pi(a|s) Q^\\pi(s, a), \n",
        "\\quad \\text{where} \\quad \n",
        "Q^\\pi(s, a) = \\mathbf{E}\\left[ \\sum_{t=0}^\\infty \\gamma^t r(S_t, A_t)  \\Big| S_0 = s, A_0 = a\\right].\n",
        "$$\n",
        "and represents the mean of the sum of discounted rewards gathered by the policy $\\pi$ in the MDP, where $\\gamma \\in [0, 1[$ is a discount factor ensuring the convergence of the sum. \n",
        "\n",
        "The __action-value function__ $Q^\\pi$ is the __fixed point of the Bellman operator $T^\\pi$__:\n",
        "\n",
        "$$ \n",
        "Q^\\pi(s, a) = T^\\pi Q^\\pi(s, a)\n",
        "$$\n",
        "where, for any function $f: \\mathcal{S}\\times\\mathcal{A} \\to \\mathbb{R}$\n",
        "$$\n",
        "T^\\pi f(s, a) =  r(s, a) + \\gamma \\sum_{s'} P(s'|s,a) \\left(\\sum_{a'}\\pi(a'|s')f(s',a')\\right) \n",
        "$$\n",
        "\n",
        "\n",
        "The __optimal value function__, defined as $V^*(s) = \\max_\\pi V^\\pi(s)$ can be shown to satisfy $V^*(s) = \\max_a Q^*(s, a)$, where $Q^*$ is the __fixed point of the optimal Bellman operator $T^*$__: \n",
        "\n",
        "$$ \n",
        "Q^*(s, a) = T^* Q^*(s, a)\n",
        "$$\n",
        "where, for any function $f: \\mathcal{S}\\times\\mathcal{A} \\to \\mathbb{R}$\n",
        "$$\n",
        "T^* f(s, a) =  r(s, a) + \\gamma \\sum_{s'} P(s'|s,a) \\max_{a'} f(s', a')\n",
        "$$\n",
        "and there exists an __optimal policy__ which is deterministic, given by $\\pi^*(s) \\in \\arg\\max_a Q^*(s, a)$.\n",
        "\n",
        "\n",
        "## Value iteration\n",
        "\n",
        "If both the reward function $r$ and the transition probablities $P$ are known, we can compute $Q^*$ using value iteration, which proceeds as follows:\n",
        "\n",
        "1. Start with arbitrary $Q_0$, set $t=0$.\n",
        "2. Compute $Q_{t+1}(s, a) = T^*Q_t(s,a)$ for every $(s, a)$.\n",
        "3. If $\\max_{s,a} | Q_{t+1}(s, a) -  Q_t(s,a)| \\leq \\varepsilon$, return $Q_{t}$. Otherwise, set $t \\gets t+1$ and go back to 2. \n",
        "\n",
        "The convergence is guaranteed by the contraction property of the Bellman operator, and $Q_{t+1}$ can be shown to be a good approximation of $Q^*$ for small epsilon. \n",
        "\n",
        "__Question__: Can you bound the error $\\max_{s,a} | Q^*(s, a) -  Q_t(s,a)|$ as a function of $\\gamma$ and $\\varepsilon$?\n",
        "\n",
        "## Q-Learning\n",
        "\n",
        "In value iteration, we need to know $r$ and $P$ to implement the Bellman operator. When these quantities are not available, we can approximate $Q^*$ using *samples* from the environment with the Q-Learning algorithm.\n",
        "\n",
        "Q-Learning with __$\\varepsilon$-greedy exploration__ proceeds as follows:\n",
        "\n",
        "1. Start with arbitrary $Q_0$, get starting state $s_0$, set $t=0$.\n",
        "2. Choosing action $a_t$: \n",
        "  * With probability $\\varepsilon$ choose $a_t$ randomly (uniform distribution)  \n",
        "  * With probability $1-\\varepsilon$, choose $a_t \\in \\arg\\max_a Q_t(s_t, a)$.\n",
        "3. Take action $a_t$, observe next state $s_{t+1}$ and reward $r_t$.\n",
        "4. Compute error $\\delta_t = r_t + \\gamma \\max_a Q_t(s_{t+1}, a) - Q_t(s_t, a_t)$.\n",
        "5. Update \n",
        "  * $Q_{t+1}(s, a) = Q_t(s, a) + \\alpha_t(s,a) \\delta_t$,  __if $s=s_t$ and $a=a_t$__\n",
        "  * $Q_{t+1}(s, a) = Q_{t}(s, a)$ otherwise.\n",
        "\n",
        "Here, $\\alpha_t(s,a)$ is a learning rate that can depend, for instance, on the number of times the algorithm has visited the state-action pair $(s, a)$. \n"
      ]
    },
    {
      "cell_type": "markdown",
      "metadata": {
        "id": "KYq9-63OR8RW"
      },
      "source": [
        "# Colab setup"
      ]
    },
    {
      "cell_type": "code",
      "metadata": {
        "id": "AxepTGrNR3DX",
        "colab": {
          "base_uri": "https://localhost:8080/"
        },
        "outputId": "043fb67b-4029-4792-c513-50ce49ec9d13"
      },
      "source": [
        "print(\"Installing packages, please wait a few moments. Notice that the runtime is restarted after the installation.\")\n",
        "\n",
        "# install rlberry library\n",
        "!git clone https://github.com/rlberry-py/rlberry.git > /dev/null 2>&1\n",
        "!cd rlberry && git pull && pip install -e . > /dev/null 2>&1\n",
        "!pip install ffmpeg-python > /dev/null 2>&1\n",
        "\n",
        "# packages required to show video\n",
        "!pip install pyvirtualdisplay > /dev/null 2>&1\n",
        "!apt-get install -y xvfb python-opengl ffmpeg > /dev/null 2>&1\n",
        "\n",
        "# restart runtime \n",
        "import os\n",
        "os.kill(os.getpid(), 9)"
      ],
      "execution_count": null,
      "outputs": [
        {
          "output_type": "stream",
          "text": [
            "Installing packages, please wait a few moments. Notice that the runtime is restarted after the installation.\n",
            "Already up to date.\n"
          ],
          "name": "stdout"
        }
      ]
    },
    {
      "cell_type": "code",
      "metadata": {
        "id": "3_bPhqKlSiF0"
      },
      "source": [
        "# Create directory for saving videos\n",
        "!mkdir videos > /dev/null 2>&1\n",
        "\n",
        "# Initialize virtual display and import show_video function\n",
        "import rlberry.colab_utils.display_setup\n",
        "from rlberry.colab_utils.display_setup import show_video"
      ],
      "execution_count": 48,
      "outputs": []
    },
    {
      "cell_type": "code",
      "metadata": {
        "id": "ZYZCXMpisE_O"
      },
      "source": [
        "# other required libraries\n",
        "import numpy as np\n",
        "import matplotlib.pyplot as plt\n"
      ],
      "execution_count": 49,
      "outputs": []
    },
    {
      "cell_type": "markdown",
      "metadata": {
        "id": "zOPiAupGmkxh"
      },
      "source": [
        "# Warm up: interacting with a reinforcement learning environment"
      ]
    },
    {
      "cell_type": "code",
      "metadata": {
        "id": "6IZ0bVAlTjpZ",
        "colab": {
          "base_uri": "https://localhost:8080/",
          "height": 510
        },
        "outputId": "77af80ec-b2aa-4c7f-f5e5-8cdd94be1c31"
      },
      "source": [
        "from rlberry.envs import GridWorld\n",
        "\n",
        "# A GridWorld is an environment where an agent moves in a 2d grid and aims to reach the state which gives a reward.\n",
        "env = GridWorld(nrows=3, ncols=5, walls=((0,2),(1, 2)), success_probability=0.9)\n",
        "\n",
        "# Number of states and actions\n",
        "print(\"number of states = \", env.observation_space.n)\n",
        "print(\"number of actions = \", env.action_space.n)\n",
        "\n",
        "# Transitions probabilities, env.P[s, a, s'] = P(s'|s, a)\n",
        "print(\"transition probabilities from state 0 by taking action 1: \", env.P[0, 1, :])\n",
        "\n",
        "# Reward function: env.R[s, a] = r(s, a)\n",
        "print(\"mean reward in state 0 for action 1 = \", env.R[0, 1])\n",
        "\n",
        "# Following a random policy \n",
        "state = env.reset()     # initial state \n",
        "env.enable_rendering()  # save states for visualization\n",
        "for tt in range(100):   # interact for 100 time steps\n",
        "  action = env.action_space.sample()  # random action, a good RL agent must have a better strategy!\n",
        "  next_state, reward, is_terminal, info = env.step(action)\n",
        "  if is_terminal:\n",
        "    break\n",
        "  state = next_state\n",
        "\n",
        "# save video \n",
        "env.save_video('./videos/random_policy.mp4', framerate=10)\n",
        "# clear rendering data\n",
        "env.clear_render_buffer()\n",
        "env.disable_rendering()\n",
        "# see video\n",
        "show_video(filename='./videos/random_policy.mp4')"
      ],
      "execution_count": 50,
      "outputs": [
        {
          "output_type": "stream",
          "text": [
            "number of states =  13\n",
            "number of actions =  4\n",
            "transition probabilities from state 0 by taking action 1:  [0.  0.9 0.  0.  0.1 0.  0.  0.  0.  0.  0.  0.  0. ]\n",
            "mean reward in state 0 for action 1 =  0.0\n",
            "videos/random_policy.mp4\n"
          ],
          "name": "stdout"
        },
        {
          "output_type": "display_data",
          "data": {
            "text/html": [
              "<video alt=\"videos/random_policy.mp4\" autoplay\n",
              "                      loop controls style=\"height: 400px;\">\n",
              "                    <source src=\"data:video/mp4;base64,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\" type=\"video/mp4\" />\n",
              "                 </video>"
            ],
            "text/plain": [
              "<IPython.core.display.HTML object>"
            ]
          },
          "metadata": {
            "tags": []
          }
        }
      ]
    },
    {
      "cell_type": "markdown",
      "metadata": {
        "id": "snmFW5Bzqpwj"
      },
      "source": [
        "# Implementing Value Iteration\n",
        "\n",
        "1. Write a function ``bellman_operator`` that takes as input a function $Q$ and returns $T^* Q$.\n",
        "2. Write a function  ``value_iteration`` that returns a function $Q$ such that $||Q-T^* Q||_\\infty \\leq \\varepsilon$\n",
        "3. Evaluate the performance of the policy $\\pi(s) = \\arg\\max_a Q(s, a)$, where Q is returned by ``value_iteration``."
      ]
    },
    {
      "cell_type": "code",
      "metadata": {
        "id": "RPIOmpjkq0YX"
      },
      "source": [
        "def bellman_operator(Q, env, gamma=0.99):\n",
        "  S = env.observation_space.n\n",
        "  A = env.action_space.n \n",
        "  TQ = np.zeros((S, A))\n",
        "\n",
        "  V = Q.max(axis=1)\n",
        "  for ss in range(S):\n",
        "    for aa in range(A):\n",
        "      TQ[ss, aa] = env.R[ss, aa] + gamma*env.P[ss, aa, :].dot(V)\n",
        "  return TQ"
      ],
      "execution_count": 51,
      "outputs": []
    },
    {
      "cell_type": "code",
      "metadata": {
        "id": "tEKAtA1LsYFx"
      },
      "source": [
        "def value_iteration(env, gamma=0.99, epsilon=1e-6):\n",
        "  S = env.observation_space.n\n",
        "  A = env.action_space.n \n",
        "  Q = np.zeros((S, A))\n",
        "\n",
        "  while True:\n",
        "    TQ = bellman_operator(Q, env, gamma)\n",
        "    if np.abs(TQ-Q).max() < epsilon:\n",
        "      break\n",
        "    Q = TQ\n",
        "    \n",
        "  return Q"
      ],
      "execution_count": 52,
      "outputs": []
    },
    {
      "cell_type": "code",
      "metadata": {
        "id": "rZ7k-rDLssSk",
        "colab": {
          "base_uri": "https://localhost:8080/",
          "height": 438
        },
        "outputId": "6040227b-7fef-4a90-ae1f-6bae73a8100f"
      },
      "source": [
        "Q_vi = value_iteration(env)\n",
        "\n",
        "# Following value iteration policy \n",
        "state = env.reset()     \n",
        "env.enable_rendering()  \n",
        "for tt in range(100):   \n",
        "  action = Q_vi[state, :].argmax()\n",
        "  next_state, reward, is_terminal, info = env.step(action)\n",
        "  if is_terminal:\n",
        "    break\n",
        "  state = next_state\n",
        "\n",
        "# save video (run last cell to visualize it!)\n",
        "env.save_video('./videos/value_iteration_policy.mp4', framerate=10)\n",
        "# clear rendering data\n",
        "env.clear_render_buffer()\n",
        "env.disable_rendering()\n",
        "# see video\n",
        "show_video(filename='./videos/value_iteration_policy.mp4')"
      ],
      "execution_count": 53,
      "outputs": [
        {
          "output_type": "stream",
          "text": [
            "videos/value_iteration_policy.mp4\n"
          ],
          "name": "stdout"
        },
        {
          "output_type": "display_data",
          "data": {
            "text/html": [
              "<video alt=\"videos/value_iteration_policy.mp4\" autoplay\n",
              "                      loop controls style=\"height: 400px;\">\n",
              "                    <source src=\"data:video/mp4;base64,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\" type=\"video/mp4\" />\n",
              "                 </video>"
            ],
            "text/plain": [
              "<IPython.core.display.HTML object>"
            ]
          },
          "metadata": {
            "tags": []
          }
        }
      ]
    },
    {
      "cell_type": "markdown",
      "metadata": {
        "id": "1Uw6LVyVulOX"
      },
      "source": [
        "# Implementing Q-Learning\n",
        "\n",
        "Implement a function ``q_learning`` that takes as input an environment, runs Q learning for $T$ time steps and returns $Q_T$. \n",
        "\n",
        "Test different learning rates:\n",
        "  * $\\alpha_t(s, a) = \\frac{1}{\\text{number of visits to} (s, a)}$\n",
        "  * $\\alpha_t(s, a) =$ constant in $]0, 1[$\n",
        "  * others?\n",
        "\n",
        "Test different initializations of the Q function and try different values of $\\varepsilon$ in the $\\varepsilon$-greedy exploration!\n",
        "\n",
        "It might be very useful to plot the difference between the Q-learning approximation and the output of value iteration above, as a function of time.\n"
      ]
    },
    {
      "cell_type": "code",
      "metadata": {
        "id": "OrhUOlrfv6xp"
      },
      "source": [
        "def q_learning(env, gamma=0.99, T=20000, Q_vi=None):\n",
        "  \"\"\"\n",
        "  Q_vi is the output of value iteration.\n",
        "  \"\"\"\n",
        "  S = env.observation_space.n\n",
        "  A = env.action_space.n \n",
        "  error = np.zeros(T)\n",
        "  Q = np.zeros((S, A)) \n",
        "  N = np.zeros((S, A))  # number of visits to each (s, a)\n",
        "\n",
        "  # epsilon for exploration\n",
        "  epsilon = 0.5\n",
        "\n",
        "  state = env.reset()\n",
        "    # to complete...\n",
        "  for tt in range(T):\n",
        "\n",
        "    #\n",
        "    # epsilon-greedy exploration\n",
        "    #\n",
        "\n",
        "    if np.random.uniform() < epsilon:  # happers with prob epsilon\n",
        "      action = env.action_space.sample()\n",
        "    else:\n",
        "      action = Q[state, :].argmax()\n",
        "\n",
        "    # take action, observe next state and reward \n",
        "    next_state, reward, _, _ = env.step(action)\n",
        "    \n",
        "    # compute delta_t\n",
        "    delta = reward + gamma*Q[next_state, :].max() - Q[state, action]\n",
        "\n",
        "    # update Q\n",
        "    alpha = np.sqrt(1.0/(1.0+N[state, action]))\n",
        "    Q[state, action] += alpha*delta\n",
        "\n",
        "    # update number of visits\n",
        "    N[state, action] += 1\n",
        "\n",
        "    error[tt] = np.abs(Q-Q_vi).mean()\n",
        "\n",
        "    # update state\n",
        "    state = next_state\n",
        "\n",
        "  plt.plot(error)\n",
        "  plt.xlabel('iteration')\n",
        "  plt.title('Q-Learning error')\n",
        "  plt.show()\n",
        "  \n",
        "  return Q "
      ],
      "execution_count": 54,
      "outputs": []
    },
    {
      "cell_type": "code",
      "metadata": {
        "id": "fOetdWM4xhLt",
        "colab": {
          "base_uri": "https://localhost:8080/",
          "height": 295
        },
        "outputId": "c2d560c4-a562-4f4d-fc8b-0960d9d044fe"
      },
      "source": [
        "Q_ql = q_learning(env, Q_vi=Q_vi)"
      ],
      "execution_count": 59,
      "outputs": [
        {
          "output_type": "display_data",
          "data": {
            "image/png": "[encoded data removed]",
            "text/plain": [
              "<Figure size 432x288 with 1 Axes>"
            ]
          },
          "metadata": {
            "tags": [],
            "needs_background": "light"
          }
        }
      ]
    },
    {
      "cell_type": "code",
      "metadata": {
        "colab": {
          "base_uri": "https://localhost:8080/",
          "height": 438
        },
        "id": "aHP9COPPGDGQ",
        "outputId": "b7ab1ec9-90cd-42e2-f4c7-0a3bd51758af"
      },
      "source": [
        "# Following Q-Learning policy \n",
        "state = env.reset()     \n",
        "env.enable_rendering()  \n",
        "for tt in range(20):   \n",
        "  action = Q_ql[state, :].argmax()\n",
        "  next_state, reward, is_terminal, info = env.step(action)\n",
        "  if is_terminal:\n",
        "    break\n",
        "  state = next_state\n",
        "\n",
        "# save video (run last cell to visualize it!)\n",
        "env.save_video('./videos/q_learning_policy.mp4', framerate=10)\n",
        "# clear rendering data\n",
        "env.clear_render_buffer()\n",
        "env.disable_rendering()\n",
        "# see video\n",
        "show_video(filename='./videos/q_learning_policy.mp4')"
      ],
      "execution_count": 60,
      "outputs": [
        {
          "output_type": "stream",
          "text": [
            "videos/q_learning_policy.mp4\n"
          ],
          "name": "stdout"
        },
        {
          "output_type": "display_data",
          "data": {
            "text/html": [
              "<video alt=\"videos/q_learning_policy.mp4\" autoplay\n",
              "                      loop controls style=\"height: 400px;\">\n",
              "                    <source src=\"data:video/mp4;base64,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\" type=\"video/mp4\" />\n",
              "                 </video>"
            ],
            "text/plain": [
              "<IPython.core.display.HTML object>"
            ]
          },
          "metadata": {
            "tags": []
          }
        }
      ]
    }
  ]
}