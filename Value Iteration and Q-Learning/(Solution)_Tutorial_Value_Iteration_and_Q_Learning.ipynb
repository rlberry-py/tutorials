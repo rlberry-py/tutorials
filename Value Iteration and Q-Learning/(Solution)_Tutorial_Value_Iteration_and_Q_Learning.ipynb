{
  "nbformat": 4,
  "nbformat_minor": 0,
  "metadata": {
    "colab": {
      "name": "(Solution) Tutorial - Value Iteration and Q-Learning.ipynb",
      "provenance": [],
      "collapsed_sections": [],
      "authorship_tag": "ABX9TyMtDoGdmnRiMcpTQ+t1iShl",
      "include_colab_link": true
    },
    "kernelspec": {
      "name": "python3",
      "display_name": "Python 3"
    }
  },
  "cells": [
    {
      "cell_type": "markdown",
      "metadata": {
        "id": "view-in-github",
        "colab_type": "text"
      },
      "source": [
        "<a href=\"https://colab.research.google.com/github/rlberry-py/tutorials/blob/main/Value%20Iteration%20and%20Q-Learning/(Solution)_Tutorial_Value_Iteration_and_Q_Learning.ipynb\" target=\"_parent\"><img src=\"https://colab.research.google.com/assets/colab-badge.svg\" alt=\"Open In Colab\"/></a>"
      ]
    },
    {
      "cell_type": "markdown",
      "metadata": {
        "id": "Io_4iovMTlzT"
      },
      "source": [
        "# Tutorial - Value Iteration and Q-Learning\n",
        "---------------------------------\n",
        "\n",
        "In this tutorial, you will:\n",
        "\n",
        "* Implement the value iteration algorithm to approximate the value function when *a model of the environment is available*.\n",
        "* Implement the Q-Learning algorithm to approximate the value function when *the model is unknown*, that is, the agent must learn through interactions.\n",
        "\n",
        "We start with a short review of these algorithms.\n",
        "\n",
        "\n",
        "## Markov decision processes and value functions\n",
        "\n",
        "In reinforcement learning, an agent interacts with an enviroment by taking actions and observing rewards. Its goal is to learn a *policy*, that is, a mapping from states to actions, that maximizes the amount of reward it gathers.\n",
        "\n",
        "The enviroment is modeled as a __Markov decision process (MDP)__, defined by a set of states $\\mathcal{S}$, a set of actions $\\mathcal{A}$, a reward function $r(s, a)$ and transition probabilities $P(s'|s,a)$. When an agent takes action $a$ in state $s$, it receives a random reward with mean $r(s,a)$ and makes a transion to a state $s'$ distributed according to $P(s'|s,a)$.\n",
        "\n",
        "A __policy__ $\\pi$ is such that $\\pi(a|s)$ gives the probability of choosing an action $a$ in state $s$. __If the policy is deterministic__, we denote by $\\pi(s)$ the action that it chooses in state $s$. We are interested in finding a policy that maximizes the value function $V^\\pi$, defined as \n",
        "\n",
        "$$\n",
        "V^\\pi(s) = \\sum_{a\\in \\mathcal{A}} \\pi(a|s) Q^\\pi(s, a), \n",
        "\\quad \\text{where} \\quad \n",
        "Q^\\pi(s, a) = \\mathbf{E}\\left[ \\sum_{t=0}^\\infty \\gamma^t r(S_t, A_t)  \\Big| S_0 = s, A_0 = a\\right].\n",
        "$$\n",
        "and represents the mean of the sum of discounted rewards gathered by the policy $\\pi$ in the MDP, where $\\gamma \\in [0, 1[$ is a discount factor ensuring the convergence of the sum. \n",
        "\n",
        "The __action-value function__ $Q^\\pi$ is the __fixed point of the Bellman operator $T^\\pi$__:\n",
        "\n",
        "$$ \n",
        "Q^\\pi(s, a) = T^\\pi Q^\\pi(s, a)\n",
        "$$\n",
        "where, for any function $f: \\mathcal{S}\\times\\mathcal{A} \\to \\mathbb{R}$\n",
        "$$\n",
        "T^\\pi f(s, a) =  r(s, a) + \\gamma \\sum_{s'} P(s'|s,a) \\left(\\sum_{a'}\\pi(a'|s')f(s',a')\\right) \n",
        "$$\n",
        "\n",
        "\n",
        "The __optimal value function__, defined as $V^*(s) = \\max_\\pi V^\\pi(s)$ can be shown to satisfy $V^*(s) = \\max_a Q^*(s, a)$, where $Q^*$ is the __fixed point of the optimal Bellman operator $T^*$__: \n",
        "\n",
        "$$ \n",
        "Q^*(s, a) = T^* Q^*(s, a)\n",
        "$$\n",
        "where, for any function $f: \\mathcal{S}\\times\\mathcal{A} \\to \\mathbb{R}$\n",
        "$$\n",
        "T^* f(s, a) =  r(s, a) + \\gamma \\sum_{s'} P(s'|s,a) \\max_{a'} f(s', a')\n",
        "$$\n",
        "and there exists an __optimal policy__ which is deterministic, given by $\\pi^*(s) \\in \\arg\\max_a Q^*(s, a)$.\n",
        "\n",
        "\n",
        "## Value iteration\n",
        "\n",
        "If both the reward function $r$ and the transition probablities $P$ are known, we can compute $Q^*$ using value iteration, which proceeds as follows:\n",
        "\n",
        "1. Start with arbitrary $Q_0$, set $t=0$.\n",
        "2. Compute $Q_{t+1}(s, a) = T^*Q_t(s,a)$ for every $(s, a)$.\n",
        "3. If $\\max_{s,a} | Q_{t+1}(s, a) -  Q_t(s,a)| \\leq \\varepsilon$, return $Q_{t}$. Otherwise, set $t \\gets t+1$ and go back to 2. \n",
        "\n",
        "The convergence is guaranteed by the contraction property of the Bellman operator, and $Q_{t+1}$ can be shown to be a good approximation of $Q^*$ for small epsilon. \n",
        "\n",
        "__Question__: Can you bound the error $\\max_{s,a} | Q^*(s, a) -  Q_t(s,a)|$ as a function of $\\gamma$ and $\\varepsilon$?\n",
        "\n",
        "## Q-Learning\n",
        "\n",
        "In value iteration, we need to know $r$ and $P$ to implement the Bellman operator. When these quantities are not available, we can approximate $Q^*$ using *samples* from the environment with the Q-Learning algorithm.\n",
        "\n",
        "Q-Learning with __$\\varepsilon$-greedy exploration__ proceeds as follows:\n",
        "\n",
        "1. Start with arbitrary $Q_0$, get starting state $s_0$, set $t=0$.\n",
        "2. Choosing action $a_t$: \n",
        "  * With probability $\\varepsilon$ choose $a_t$ randomly (uniform distribution)  \n",
        "  * With probability $1-\\varepsilon$, choose $a_t \\in \\arg\\max_a Q_t(s_t, a)$.\n",
        "3. Take action $a_t$, observe next state $s_{t+1}$ and reward $r_t$.\n",
        "4. Compute error $\\delta_t = r_t + \\gamma \\max_a Q_t(s_{t+1}, a) - Q_t(s_t, a_t)$.\n",
        "5. Update \n",
        "  * $Q_{t+1}(s, a) = Q_t(s, a) + \\alpha_t(s,a) \\delta_t$,  __if $s=s_t$ and $a=a_t$__\n",
        "  * $Q_{t+1}(s, a) = Q_{t}(s, a)$ otherwise.\n",
        "\n",
        "Here, $\\alpha_t(s,a)$ is a learning rate that can depend, for instance, on the number of times the algorithm has visited the state-action pair $(s, a)$. \n"
      ]
    },
    {
      "cell_type": "markdown",
      "metadata": {
        "id": "KYq9-63OR8RW"
      },
      "source": [
        "# Colab setup"
      ]
    },
    {
      "cell_type": "code",
      "metadata": {
        "id": "AxepTGrNR3DX",
        "colab": {
          "base_uri": "https://localhost:8080/"
        },
        "outputId": "65b8def6-dec3-4d59-d6a3-8bd3835ae227"
      },
      "source": [
        "if 'google.colab' in str(get_ipython()):\n",
        "  print(\"Installing packages, please wait a few moments. Restart the runtime after the installation.\")\n",
        "\n",
        "  # install rlberry library\n",
        "  !pip install git+https://github.com/rlberry-py/rlberry.git#egg=rlberry[default] > /dev/null 2>&1\n",
        "\n",
        "  # packages required to show video\n",
        "  !pip install pyvirtualdisplay > /dev/null 2>&1\n",
        "  !apt-get install -y xvfb python-opengl ffmpeg > /dev/null 2>&1\n"
      ],
      "execution_count": 1,
      "outputs": [
        {
          "output_type": "stream",
          "name": "stdout",
          "text": [
            "Installing packages, please wait a few moments. Restart the runtime after the installation.\n"
          ]
        }
      ]
    },
    {
      "cell_type": "code",
      "metadata": {
        "id": "3_bPhqKlSiF0"
      },
      "source": [
        "# Create directory for saving videos\n",
        "!mkdir videos > /dev/null 2>&1\n",
        "\n",
        "# Initialize virtual display and import show_video function\n",
        "import rlberry.colab_utils.display_setup\n",
        "from rlberry.colab_utils.display_setup import show_video"
      ],
      "execution_count": 2,
      "outputs": []
    },
    {
      "cell_type": "code",
      "metadata": {
        "id": "ZYZCXMpisE_O"
      },
      "source": [
        "# other required libraries\n",
        "import numpy as np\n",
        "import matplotlib.pyplot as plt\n"
      ],
      "execution_count": 3,
      "outputs": []
    },
    {
      "cell_type": "markdown",
      "metadata": {
        "id": "zOPiAupGmkxh"
      },
      "source": [
        "# Warm up: interacting with a reinforcement learning environment"
      ]
    },
    {
      "cell_type": "code",
      "metadata": {
        "id": "6IZ0bVAlTjpZ",
        "colab": {
          "base_uri": "https://localhost:8080/",
          "height": 561
        },
        "outputId": "540f784b-5849-4f67-c274-1a4242b2b323"
      },
      "source": [
        "from rlberry.envs import GridWorld\n",
        "\n",
        "# A GridWorld is an environment where an agent moves in a 2d grid and aims to reach the state which gives a reward.\n",
        "env = GridWorld(nrows=3, ncols=5, walls=((0,2),(1, 2)), success_probability=0.9)\n",
        "\n",
        "# Number of states and actions\n",
        "print(\"number of states = \", env.observation_space.n)\n",
        "print(\"number of actions = \", env.action_space.n)\n",
        "\n",
        "# Transitions probabilities, env.P[s, a, s'] = P(s'|s, a)\n",
        "print(\"transition probabilities from state 0 by taking action 1: \", env.P[0, 1, :])\n",
        "\n",
        "# Reward function: env.R[s, a] = r(s, a)\n",
        "print(\"mean reward in state 0 for action 1 = \", env.R[0, 1])\n",
        "\n",
        "# Following a random policy \n",
        "state = env.reset()     # initial state \n",
        "env.enable_rendering()  # save states for visualization\n",
        "for tt in range(100):   # interact for 100 time steps\n",
        "  action = env.action_space.sample()  # random action, a good RL agent must have a better strategy!\n",
        "  next_state, reward, is_terminal, info = env.step(action)\n",
        "  if is_terminal:\n",
        "    break\n",
        "  state = next_state\n",
        "\n",
        "# save video \n",
        "env.save_video('./videos/random_policy.mp4', framerate=10)\n",
        "# clear rendering data\n",
        "env.clear_render_buffer()\n",
        "env.disable_rendering()\n",
        "# see video\n",
        "show_video(filename='./videos/random_policy.mp4')"
      ],
      "execution_count": 4,
      "outputs": [
        {
          "output_type": "stream",
          "name": "stderr",
          "text": [
            "[INFO] OpenGL_accelerate module loaded \n",
            "[INFO] Using accelerated ArrayDatatype \n",
            "[INFO] Generating grammar tables from /usr/lib/python3.7/lib2to3/Grammar.txt \n",
            "[INFO] Generating grammar tables from /usr/lib/python3.7/lib2to3/PatternGrammar.txt \n"
          ]
        },
        {
          "output_type": "stream",
          "name": "stdout",
          "text": [
            "number of states =  13\n",
            "number of actions =  4\n",
            "transition probabilities from state 0 by taking action 1:  [0.  0.9 0.  0.  0.1 0.  0.  0.  0.  0.  0.  0.  0. ]\n",
            "mean reward in state 0 for action 1 =  0.0\n"
          ]
        },
        {
          "output_type": "display_data",
          "data": {
            "text/html": [
              "<video alt=\"videos/random_policy.mp4\" autoplay\n",
              "                      loop controls style=\"height: 400px;\">\n",
              "                    <source src=\"data:video/mp4;base64,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\" type=\"video/mp4\" />\n",
              "                 </video>"
            ],
            "text/plain": [
              "<IPython.core.display.HTML object>"
            ]
          },
          "metadata": {}
        }
      ]
    },
    {
      "cell_type": "markdown",
      "metadata": {
        "id": "snmFW5Bzqpwj"
      },
      "source": [
        "# Implementing Value Iteration\n",
        "\n",
        "1. Write a function ``bellman_operator`` that takes as input a function $Q$ and returns $T^* Q$.\n",
        "2. Write a function  ``value_iteration`` that returns a function $Q$ such that $||Q-T^* Q||_\\infty \\leq \\varepsilon$\n",
        "3. Evaluate the performance of the policy $\\pi(s) = \\arg\\max_a Q(s, a)$, where Q is returned by ``value_iteration``."
      ]
    },
    {
      "cell_type": "code",
      "metadata": {
        "id": "RPIOmpjkq0YX"
      },
      "source": [
        "def bellman_operator(Q, env, gamma=0.99):\n",
        "  S = env.observation_space.n\n",
        "  A = env.action_space.n \n",
        "  TQ = np.zeros((S, A))\n",
        "\n",
        "  V = Q.max(axis=1)\n",
        "  for ss in range(S):\n",
        "    for aa in range(A):\n",
        "      TQ[ss, aa] = env.R[ss, aa] + gamma*env.P[ss, aa, :].dot(V)\n",
        "  return TQ"
      ],
      "execution_count": 5,
      "outputs": []
    },
    {
      "cell_type": "code",
      "metadata": {
        "id": "tEKAtA1LsYFx"
      },
      "source": [
        "def value_iteration(env, gamma=0.99, epsilon=1e-6):\n",
        "  S = env.observation_space.n\n",
        "  A = env.action_space.n \n",
        "  Q = np.zeros((S, A))\n",
        "\n",
        "  while True:\n",
        "    TQ = bellman_operator(Q, env, gamma)\n",
        "    if np.abs(TQ-Q).max() < epsilon:\n",
        "      break\n",
        "    Q = TQ\n",
        "    \n",
        "  return Q"
      ],
      "execution_count": 6,
      "outputs": []
    },
    {
      "cell_type": "code",
      "metadata": {
        "id": "rZ7k-rDLssSk",
        "colab": {
          "base_uri": "https://localhost:8080/",
          "height": 422
        },
        "outputId": "9f081edd-f56b-436b-9130-8cb82ff7216e"
      },
      "source": [
        "Q_vi = value_iteration(env)\n",
        "\n",
        "# Following value iteration policy \n",
        "state = env.reset()     \n",
        "env.enable_rendering()  \n",
        "for tt in range(100):   \n",
        "  action = Q_vi[state, :].argmax()\n",
        "  next_state, reward, is_terminal, info = env.step(action)\n",
        "  if is_terminal:\n",
        "    break\n",
        "  state = next_state\n",
        "\n",
        "# save video (run last cell to visualize it!)\n",
        "env.save_video('./videos/value_iteration_policy.mp4', framerate=10)\n",
        "# clear rendering data\n",
        "env.clear_render_buffer()\n",
        "env.disable_rendering()\n",
        "# see video\n",
        "show_video(filename='./videos/value_iteration_policy.mp4')"
      ],
      "execution_count": 7,
      "outputs": [
        {
          "output_type": "display_data",
          "data": {
            "text/html": [
              "<video alt=\"videos/value_iteration_policy.mp4\" autoplay\n",
              "                      loop controls style=\"height: 400px;\">\n",
              "                    <source src=\"data:video/mp4;base64,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\" type=\"video/mp4\" />\n",
              "                 </video>"
            ],
            "text/plain": [
              "<IPython.core.display.HTML object>"
            ]
          },
          "metadata": {}
        }
      ]
    },
    {
      "cell_type": "markdown",
      "metadata": {
        "id": "1Uw6LVyVulOX"
      },
      "source": [
        "# Implementing Q-Learning\n",
        "\n",
        "Implement a function ``q_learning`` that takes as input an environment, runs Q learning for $T$ time steps and returns $Q_T$. \n",
        "\n",
        "Test different learning rates:\n",
        "  * $\\alpha_t(s, a) = \\frac{1}{\\text{number of visits to} (s, a)}$\n",
        "  * $\\alpha_t(s, a) =$ constant in $]0, 1[$\n",
        "  * others?\n",
        "\n",
        "Test different initializations of the Q function and try different values of $\\varepsilon$ in the $\\varepsilon$-greedy exploration!\n",
        "\n",
        "It might be very useful to plot the difference between the Q-learning approximation and the output of value iteration above, as a function of time.\n"
      ]
    },
    {
      "cell_type": "code",
      "metadata": {
        "id": "OrhUOlrfv6xp"
      },
      "source": [
        "def q_learning(env, gamma=0.99, T=20000, Q_vi=None):\n",
        "  \"\"\"\n",
        "  Q_vi is the output of value iteration.\n",
        "  \"\"\"\n",
        "  S = env.observation_space.n\n",
        "  A = env.action_space.n \n",
        "  error = np.zeros(T)\n",
        "  Q = np.zeros((S, A)) \n",
        "  N = np.zeros((S, A))  # number of visits to each (s, a)\n",
        "\n",
        "  # epsilon for exploration\n",
        "  epsilon = 0.5\n",
        "\n",
        "  state = env.reset()\n",
        "    # to complete...\n",
        "  for tt in range(T):\n",
        "\n",
        "    #\n",
        "    # epsilon-greedy exploration\n",
        "    #\n",
        "\n",
        "    if np.random.uniform() < epsilon:  # happers with prob epsilon\n",
        "      action = env.action_space.sample()\n",
        "    else:\n",
        "      action = Q[state, :].argmax()\n",
        "\n",
        "    # take action, observe next state and reward \n",
        "    next_state, reward, _, _ = env.step(action)\n",
        "    \n",
        "    # compute delta_t\n",
        "    delta = reward + gamma*Q[next_state, :].max() - Q[state, action]\n",
        "\n",
        "    # update Q\n",
        "    alpha = np.sqrt(1.0/(1.0+N[state, action]))\n",
        "    Q[state, action] += alpha*delta\n",
        "\n",
        "    # update number of visits\n",
        "    N[state, action] += 1\n",
        "\n",
        "    error[tt] = np.abs(Q-Q_vi).mean()\n",
        "\n",
        "    # update state\n",
        "    state = next_state\n",
        "\n",
        "  plt.plot(error)\n",
        "  plt.xlabel('iteration')\n",
        "  plt.title('Q-Learning error')\n",
        "  plt.show()\n",
        "  \n",
        "  return Q "
      ],
      "execution_count": 8,
      "outputs": []
    },
    {
      "cell_type": "code",
      "metadata": {
        "id": "fOetdWM4xhLt",
        "colab": {
          "base_uri": "https://localhost:8080/",
          "height": 295
        },
        "outputId": "1f83616a-1147-422a-87d1-7998b67192e9"
      },
      "source": [
        "Q_ql = q_learning(env, Q_vi=Q_vi)"
      ],
      "execution_count": 9,
      "outputs": [
        {
          "output_type": "display_data",
          "data": {
            "image/png": "[encoded data removed]",
            "text/plain": [
              "<Figure size 432x288 with 1 Axes>"
            ]
          },
          "metadata": {
            "needs_background": "light"
          }
        }
      ]
    },
    {
      "cell_type": "code",
      "metadata": {
        "colab": {
          "base_uri": "https://localhost:8080/",
          "height": 422
        },
        "id": "aHP9COPPGDGQ",
        "outputId": "cb787e68-14f6-4b9d-c9ef-df3196b6fabb"
      },
      "source": [
        "# Following Q-Learning policy \n",
        "state = env.reset()     \n",
        "env.enable_rendering()  \n",
        "for tt in range(20):   \n",
        "  action = Q_ql[state, :].argmax()\n",
        "  next_state, reward, is_terminal, info = env.step(action)\n",
        "  if is_terminal:\n",
        "    break\n",
        "  state = next_state\n",
        "\n",
        "# save video (run last cell to visualize it!)\n",
        "env.save_video('./videos/q_learning_policy.mp4', framerate=10)\n",
        "# clear rendering data\n",
        "env.clear_render_buffer()\n",
        "env.disable_rendering()\n",
        "# see video\n",
        "show_video(filename='./videos/q_learning_policy.mp4')"
      ],
      "execution_count": 10,
      "outputs": [
        {
          "output_type": "display_data",
          "data": {
            "text/html": [
              "<video alt=\"videos/q_learning_policy.mp4\" autoplay\n",
              "                      loop controls style=\"height: 400px;\">\n",
              "                    <source src=\"data:video/mp4;base64,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\" type=\"video/mp4\" />\n",
              "                 </video>"
            ],
            "text/plain": [
              "<IPython.core.display.HTML object>"
            ]
          },
          "metadata": {}
        }
      ]
    }
  ]
}