{
  "nbformat": 4,
  "nbformat_minor": 0,
  "metadata": {
    "colab": {
      "name": "Tutorial - Value Iteration and Q-Learning.ipynb",
      "provenance": [],
      "collapsed_sections": [],
      "toc_visible": true,
      "authorship_tag": "ABX9TyM+8H1rbTADo1Hh3m1E+mXQ",
      "include_colab_link": true
    },
    "kernelspec": {
      "name": "python3",
      "display_name": "Python 3"
    }
  },
  "cells": [
    {
      "cell_type": "markdown",
      "metadata": {
        "id": "view-in-github",
        "colab_type": "text"
      },
      "source": [
        "<a href=\"https://colab.research.google.com/github/rlberry-py/tutorials/blob/main/Value%20Iteration%20and%20Q-Learning/Value_Iteration_and_Q_Learning.ipynb\" target=\"_parent\"><img src=\"https://colab.research.google.com/assets/colab-badge.svg\" alt=\"Open In Colab\"/></a>"
      ]
    },
    {
      "cell_type": "markdown",
      "metadata": {
        "id": "Io_4iovMTlzT"
      },
      "source": [
        "# Tutorial - Value Iteration and Q-Learning\n",
        "---------------------------------\n",
        "\n",
        "In this tutorial, you will:\n",
        "\n",
        "* Implement the value iteration algorithm to approximate the value function when *a model of the environment is available*.\n",
        "* Implement the Q-Learning algorithm to approximate the value function when *the model is unknown*, that is, the agent must learn through interactions.\n",
        "\n",
        "We start with a short review of these algorithms.\n",
        "\n",
        "\n",
        "## Markov decision processes and value functions\n",
        "\n",
        "In reinforcement learning, an agent interacts with an enviroment by taking actions and observing rewards. Its goal is to learn a *policy*, that is, a mapping from states to actions, that maximizes the amount of reward it gathers.\n",
        "\n",
        "The enviroment is modeled as a __Markov decision process (MDP)__, defined by a set of states $\\mathcal{S}$, a set of actions $\\mathcal{A}$, a reward function $r(s, a)$ and transition probabilities $P(s'|s,a)$. When an agent takes action $a$ in state $s$, it receives a random reward with mean $r(s,a)$ and makes a transion to a state $s'$ distributed according to $P(s'|s,a)$.\n",
        "\n",
        "A __policy__ $\\pi$ is such that $\\pi(a|s)$ gives the probability of choosing an action $a$ in state $s$. __If the policy is deterministic__, we denote by $\\pi(s)$ the action that it chooses in state $s$. We are interested in finding a policy that maximizes the value function $V^\\pi$, defined as \n",
        "\n",
        "$$\n",
        "V^\\pi(s) = \\sum_{a\\in \\mathcal{A}} \\pi(a|s) Q^\\pi(s, a), \n",
        "\\quad \\text{where} \\quad \n",
        "Q^\\pi(s, a) = \\mathbf{E}\\left[ \\sum_{t=0}^\\infty \\gamma^t r(S_t, A_t)  \\Big| S_0 = s, A_0 = a\\right].\n",
        "$$\n",
        "and represents the mean of the sum of discounted rewards gathered by the policy $\\pi$ in the MDP, where $\\gamma \\in [0, 1[$ is a discount factor ensuring the convergence of the sum. \n",
        "\n",
        "The __action-value function__ $Q^\\pi$ is the __fixed point of the Bellman operator $T^\\pi$__:\n",
        "\n",
        "$$ \n",
        "Q^\\pi(s, a) = T^\\pi Q^\\pi(s, a)\n",
        "$$\n",
        "where, for any function $f: \\mathcal{S}\\times\\mathcal{A} \\to \\mathbb{R}$\n",
        "$$\n",
        "T^\\pi f(s, a) =  r(s, a) + \\gamma \\sum_{s'} P(s'|s,a) \\left(\\sum_{a'}\\pi(a'|s')f(s',a')\\right) \n",
        "$$\n",
        "\n",
        "\n",
        "The __optimal value function__, defined as $V^*(s) = \\max_\\pi V^\\pi(s)$ can be shown to satisfy $V^*(s) = \\max_a Q^*(s, a)$, where $Q^*$ is the __fixed point of the optimal Bellman operator $T^*$__: \n",
        "\n",
        "$$ \n",
        "Q^*(s, a) = T^* Q^*(s, a)\n",
        "$$\n",
        "where, for any function $f: \\mathcal{S}\\times\\mathcal{A} \\to \\mathbb{R}$\n",
        "$$\n",
        "T^* f(s, a) =  r(s, a) + \\gamma \\sum_{s'} P(s'|s,a) \\max_{a'} f(s', a')\n",
        "$$\n",
        "and there exists an __optimal policy__ which is deterministic, given by $\\pi^*(s) \\in \\arg\\max_a Q^*(s, a)$.\n",
        "\n",
        "\n",
        "## Value iteration\n",
        "\n",
        "If both the reward function $r$ and the transition probablities $P$ are known, we can compute $Q^*$ using value iteration, which proceeds as follows:\n",
        "\n",
        "1. Start with arbitrary $Q_0$, set $t=0$.\n",
        "2. Compute $Q_{t+1}(s, a) = T^*Q_t(s,a)$ for every $(s, a)$.\n",
        "3. If $\\max_{s,a} | Q_{t+1}(s, a) -  Q_t(s,a)| \\leq \\varepsilon$, return $Q_{t}$. Otherwise, set $t \\gets t+1$ and go back to 2. \n",
        "\n",
        "The convergence is guaranteed by the contraction property of the Bellman operator, and $Q_{t+1}$ can be shown to be a good approximation of $Q^*$ for small epsilon. \n",
        "\n",
        "__Question__: Can you bound the error $\\max_{s,a} | Q^*(s, a) -  Q_t(s,a)|$ as a function of $\\gamma$ and $\\varepsilon$?\n",
        "\n",
        "## Q-Learning\n",
        "\n",
        "In value iteration, we need to know $r$ and $P$ to implement the Bellman operator. When these quantities are not available, we can approximate $Q^*$ using *samples* from the environment with the Q-Learning algorithm.\n",
        "\n",
        "Q-Learning with __$\\varepsilon$-greedy exploration__ proceeds as follows:\n",
        "\n",
        "1. Start with arbitrary $Q_0$, get starting state $s_0$, set $t=0$.\n",
        "2. Choosing action $a_t$: \n",
        "  * With probability $\\varepsilon$ choose $a_t$ randomly (uniform distribution)  \n",
        "  * With probability $1-\\varepsilon$, choose $a_t \\in \\arg\\max_a Q_t(s_t, a)$.\n",
        "3. Take action $a_t$, observe next state $s_{t+1}$ and reward $r_t$.\n",
        "4. Compute error $\\delta_t = r_t + \\gamma \\max_a Q_t(s_{t+1}, a) - Q_t(s_t, a_t)$.\n",
        "5. Update \n",
        "  * $Q_{t+1}(s, a) = Q_t(s, a) + \\alpha_t(s,a) \\delta_t$,  __if $s=s_t$ and $a=a_t$__\n",
        "  * $Q_{t+1}(s, a) = Q_{t}(s, a)$ otherwise.\n",
        "\n",
        "Here, $\\alpha_t(s,a)$ is a learning rate that can depend, for instance, on the number of times the algorithm has visited the state-action pair $(s, a)$. \n"
      ]
    },
    {
      "cell_type": "markdown",
      "metadata": {
        "id": "KYq9-63OR8RW"
      },
      "source": [
        "# Colab setup"
      ]
    },
    {
      "cell_type": "code",
      "metadata": {
        "id": "AxepTGrNR3DX",
        "colab": {
          "base_uri": "https://localhost:8080/"
        },
        "outputId": "42376421-d387-42a8-a943-0d1c5b5b3db0"
      },
      "source": [
        "if 'google.colab' in str(get_ipython()):\n",
        "  print(\"Installing packages, please wait a few moments. Restart the runtime after the installation.\")\n",
        "\n",
        "  # install rlberry library\n",
        "  !pip install git+https://github.com/rlberry-py/rlberry.git#egg=rlberry[default] > /dev/null 2>&1\n",
        "\n",
        "  # packages required to show video\n",
        "  !pip install pyvirtualdisplay > /dev/null 2>&1\n",
        "  !apt-get install -y xvfb python-opengl ffmpeg > /dev/null 2>&1\n"
      ],
      "execution_count": 1,
      "outputs": [
        {
          "output_type": "stream",
          "name": "stdout",
          "text": [
            "Installing packages, please wait a few moments. Restart the runtime after the installation.\n"
          ]
        }
      ]
    },
    {
      "cell_type": "code",
      "metadata": {
        "id": "3_bPhqKlSiF0",
        "colab": {
          "base_uri": "https://localhost:8080/"
        },
        "outputId": "959689cb-1e62-41f3-c1ac-71741bd5bb48"
      },
      "source": [
        "# Create directory for saving videos\n",
        "!mkdir videos > /dev/null 2>&1\n",
        "\n",
        "# The following code is will be used to visualize the environments.\n",
        "import base64\n",
        "from pyvirtualdisplay import Display\n",
        "from IPython import display as ipythondisplay\n",
        "from IPython.display import clear_output\n",
        "from pathlib import Path\n",
        "\n",
        "def show_video(filename=None, directory='./videos'):\n",
        "    \"\"\"\n",
        "    Either show all videos in a directory (if filename is None) or \n",
        "    show video corresponding to filename.\n",
        "    \"\"\"\n",
        "    html = []\n",
        "    if filename is not None:\n",
        "        files = Path('./').glob(filename)\n",
        "    else:\n",
        "        files = Path(directory).glob(\"*.mp4\")\n",
        "    for mp4 in files:\n",
        "        print(mp4)\n",
        "        video_b64 = base64.b64encode(mp4.read_bytes())\n",
        "        html.append('''<video alt=\"{}\" autoplay \n",
        "                      loop controls style=\"height: 400px;\">\n",
        "                      <source src=\"data:video/mp4;base64,{}\" type=\"video/mp4\" />\n",
        "                 </video>'''.format(mp4, video_b64.decode('ascii')))\n",
        "    ipythondisplay.display(ipythondisplay.HTML(data=\"<br>\".join(html)))\n",
        "     \n",
        "from pyvirtualdisplay import Display\n",
        "display = Display(visible=0, size=(800, 800))\n",
        "display.start()"
      ],
      "execution_count": 2,
      "outputs": [
        {
          "output_type": "execute_result",
          "data": {
            "text/plain": [
              "<pyvirtualdisplay.display.Display at 0x7f799eb86a50>"
            ]
          },
          "metadata": {},
          "execution_count": 2
        }
      ]
    },
    {
      "cell_type": "code",
      "metadata": {
        "id": "ZYZCXMpisE_O"
      },
      "source": [
        "# other required libraries\n",
        "import numpy as np\n",
        "import matplotlib.pyplot as plt\n",
        "\n"
      ],
      "execution_count": 3,
      "outputs": []
    },
    {
      "cell_type": "markdown",
      "metadata": {
        "id": "zOPiAupGmkxh"
      },
      "source": [
        "# Warm up: interacting with a reinforcement learning environment"
      ]
    },
    {
      "cell_type": "code",
      "metadata": {
        "id": "6IZ0bVAlTjpZ",
        "colab": {
          "base_uri": "https://localhost:8080/",
          "height": 578
        },
        "outputId": "60cf10f4-8f13-4264-c281-1194beff4c1d"
      },
      "source": [
        "from rlberry.envs import GridWorld\n",
        "\n",
        "# A GridWorld is an environment where an agent moves in a 2d grid and aims to reach the state which gives a reward.\n",
        "env = GridWorld(nrows=3, ncols=5, walls=((0,2),(1, 2)), success_probability=0.9)\n",
        "\n",
        "# Number of states and actions\n",
        "print(\"number of states = \", env.observation_space.n)\n",
        "print(\"number of actions = \", env.action_space.n)\n",
        "\n",
        "# Transitions probabilities, env.P[s, a, s'] = P(s'|s, a)\n",
        "print(\"transition probabilities from state 0 by taking action 1: \", env.P[0, 1, :])\n",
        "\n",
        "# Reward function: env.R[s, a] = r(s, a)\n",
        "print(\"mean reward in state 0 for action 1 = \", env.R[0, 1])\n",
        "\n",
        "# Following a random policy \n",
        "state = env.reset()     # initial state \n",
        "env.enable_rendering()  # save states for visualization\n",
        "for tt in range(100):   # interact for 100 time steps\n",
        "  action = env.action_space.sample()  # random action, a good RL agent must have a better strategy!\n",
        "  next_state, reward, is_terminal, info = env.step(action)\n",
        "  if is_terminal:\n",
        "    break\n",
        "  state = next_state\n",
        "\n",
        "# save video \n",
        "env.save_video('./videos/random_policy.mp4', framerate=10)\n",
        "# clear rendering data\n",
        "env.clear_render_buffer()\n",
        "env.disable_rendering()\n",
        "# see video\n",
        "show_video(filename='./videos/random_policy.mp4')"
      ],
      "execution_count": 4,
      "outputs": [
        {
          "output_type": "stream",
          "name": "stderr",
          "text": [
            "[INFO] OpenGL_accelerate module loaded \n",
            "[INFO] Using accelerated ArrayDatatype \n",
            "[INFO] Generating grammar tables from /usr/lib/python3.7/lib2to3/Grammar.txt \n",
            "[INFO] Generating grammar tables from /usr/lib/python3.7/lib2to3/PatternGrammar.txt \n"
          ]
        },
        {
          "output_type": "stream",
          "name": "stdout",
          "text": [
            "number of states =  13\n",
            "number of actions =  4\n",
            "transition probabilities from state 0 by taking action 1:  [0.  0.9 0.  0.  0.1 0.  0.  0.  0.  0.  0.  0.  0. ]\n",
            "mean reward in state 0 for action 1 =  0.0\n",
            "videos/random_policy.mp4\n"
          ]
        },
        {
          "output_type": "display_data",
          "data": {
            "text/html": [
              "<video alt=\"videos/random_policy.mp4\" autoplay \n",
              "                      loop controls style=\"height: 400px;\">\n",
              "                      <source src=\"data:video/mp4;base64,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\" type=\"video/mp4\" />\n",
              "                 </video>"
            ],
            "text/plain": [
              "<IPython.core.display.HTML object>"
            ]
          },
          "metadata": {}
        }
      ]
    },
    {
      "cell_type": "markdown",
      "metadata": {
        "id": "snmFW5Bzqpwj"
      },
      "source": [
        "# Implementing Value Iteration\n",
        "\n",
        "1. Write a function ``bellman_operator`` that takes as input a function $Q$ and returns $T^* Q$.\n",
        "2. Write a function  ``value_iteration`` that returns a function $Q$ such that $||Q-T^* Q||_\\infty \\leq \\varepsilon$\n",
        "3. Evaluate the performance of the policy $\\pi(s) = \\arg\\max_a Q(s, a)$, where Q is returned by ``value_iteration``."
      ]
    },
    {
      "cell_type": "code",
      "metadata": {
        "id": "RPIOmpjkq0YX"
      },
      "source": [
        "def bellman_operator(Q, env, gamma=0.99):\n",
        "  S = env.observation_space.n\n",
        "  A = env.action_space.n \n",
        "  TQ = np.zeros((S, A))\n",
        "\n",
        "  # to complete...\n",
        "\n",
        "  return TQ"
      ],
      "execution_count": 5,
      "outputs": []
    },
    {
      "cell_type": "code",
      "metadata": {
        "id": "tEKAtA1LsYFx"
      },
      "source": [
        "def value_iteration(env, gamma=0.99, epsilon=1e-6):\n",
        "  S = env.observation_space.n\n",
        "  A = env.action_space.n \n",
        "  Q = np.zeros((S, A))\n",
        "\n",
        "  # to complete...\n",
        "\n",
        "  return Q"
      ],
      "execution_count": 6,
      "outputs": []
    },
    {
      "cell_type": "code",
      "metadata": {
        "id": "rZ7k-rDLssSk",
        "colab": {
          "base_uri": "https://localhost:8080/",
          "height": 440
        },
        "outputId": "7731f953-093d-4c3b-e84f-1b356eb892c3"
      },
      "source": [
        "Q_vi = value_iteration(env)\n",
        "\n",
        "# Following value iteration policy \n",
        "state = env.reset()     \n",
        "env.enable_rendering()  \n",
        "for tt in range(100):   \n",
        "  action = Q_vi[state, :].argmax()\n",
        "  next_state, reward, is_terminal, info = env.step(action)\n",
        "  if is_terminal:\n",
        "    break\n",
        "  state = next_state\n",
        "\n",
        "# save video (run last cell to visualize it!)\n",
        "env.save_video('./videos/value_iteration_policy.mp4', framerate=10)\n",
        "# clear rendering data\n",
        "env.clear_render_buffer()\n",
        "env.disable_rendering()\n",
        "# see video\n",
        "show_video(filename='./videos/value_iteration_policy.mp4')"
      ],
      "execution_count": 7,
      "outputs": [
        {
          "output_type": "stream",
          "name": "stdout",
          "text": [
            "videos/value_iteration_policy.mp4\n"
          ]
        },
        {
          "output_type": "display_data",
          "data": {
            "text/html": [
              "<video alt=\"videos/value_iteration_policy.mp4\" autoplay \n",
              "                      loop controls style=\"height: 400px;\">\n",
              "                      <source src=\"data:video/mp4;base64,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\" type=\"video/mp4\" />\n",
              "                 </video>"
            ],
            "text/plain": [
              "<IPython.core.display.HTML object>"
            ]
          },
          "metadata": {}
        }
      ]
    },
    {
      "cell_type": "markdown",
      "metadata": {
        "id": "1Uw6LVyVulOX"
      },
      "source": [
        "# Implementing Q-Learning\n",
        "\n",
        "Implement a function ``q_learning`` that takes as input an environment, runs Q learning for $T$ time steps and returns $Q_T$. \n",
        "\n",
        "Test different learning rates:\n",
        "  * $\\alpha_t(s, a) = \\frac{1}{\\text{number of visits to} (s, a)}$\n",
        "  * $\\alpha_t(s, a) =$ constant in $]0, 1[$\n",
        "  * others?\n",
        "\n",
        "Test different initializations of the Q function and try different values of $\\varepsilon$ in the $\\varepsilon$-greedy exploration!\n",
        "\n",
        "It might be very useful to plot the difference between the Q-learning approximation and the output of value iteration above, as a function of time.\n"
      ]
    },
    {
      "cell_type": "code",
      "metadata": {
        "id": "OrhUOlrfv6xp"
      },
      "source": [
        "def q_learning(env, gamma=0.99, T=5000, Q_vi=None):\n",
        "  \"\"\"\n",
        "  Q_vi is the output of value iteration.\n",
        "  \"\"\"\n",
        "  S = env.observation_space.n\n",
        "  A = env.action_space.n \n",
        "  error = np.zeros(T)\n",
        "  Q = np.zeros((S, A))  # can we improve this initialization? \n",
        "\n",
        "  state = env.reset()\n",
        "    # to complete...\n",
        "  for tt in range(T):\n",
        "    # choose action a_t\n",
        "    # ...\n",
        "    # take action, observe next state and reward \n",
        "    # ...\n",
        "    # compute delta_t\n",
        "    # ...\n",
        "    # update Q\n",
        "    # ...\n",
        "\n",
        "    error[tt] = np.abs(Q-Q_vi).max()\n",
        "  \n",
        "  plt.plot(error)\n",
        "  plt.xlabel('iteration')\n",
        "  plt.title('Q-Learning error')\n",
        "  plt.show()\n",
        "  \n",
        "  return Q "
      ],
      "execution_count": 8,
      "outputs": []
    },
    {
      "cell_type": "code",
      "metadata": {
        "id": "fOetdWM4xhLt",
        "colab": {
          "base_uri": "https://localhost:8080/",
          "height": 718
        },
        "outputId": "f755ca3f-86f1-4c48-ffe7-fa88d1dc68b3"
      },
      "source": [
        "Q_ql = q_learning(env, Q_vi=Q_vi)\n",
        "\n",
        "# Following Q-Learning policy \n",
        "state = env.reset()     \n",
        "env.enable_rendering()  \n",
        "for tt in range(100):   \n",
        "  action = Q_ql[state, :].argmax()\n",
        "  next_state, reward, is_terminal, info = env.step(action)\n",
        "  if is_terminal:\n",
        "    break\n",
        "  state = next_state\n",
        "\n",
        "# save video (run last cell to visualize it!)\n",
        "env.save_video('./videos/q_learning_policy.mp4', framerate=10)\n",
        "# clear rendering data\n",
        "env.clear_render_buffer()\n",
        "env.disable_rendering()\n",
        "# see video\n",
        "show_video(filename='./videos/q_learning_policy.mp4')"
      ],
      "execution_count": 9,
      "outputs": [
        {
          "output_type": "display_data",
          "data": {
            "image/png": "[encoded data removed]",
            "text/plain": [
              "<Figure size 432x288 with 1 Axes>"
            ]
          },
          "metadata": {
            "needs_background": "light"
          }
        },
        {
          "output_type": "stream",
          "name": "stdout",
          "text": [
            "videos/q_learning_policy.mp4\n"
          ]
        },
        {
          "output_type": "display_data",
          "data": {
            "text/html": [
              "<video alt=\"videos/q_learning_policy.mp4\" autoplay \n",
              "                      loop controls style=\"height: 400px;\">\n",
              "                      <source src=\"data:video/mp4;base64,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\" type=\"video/mp4\" />\n",
              "                 </video>"
            ],
            "text/plain": [
              "<IPython.core.display.HTML object>"
            ]
          },
          "metadata": {}
        }
      ]
    }
  ]
}