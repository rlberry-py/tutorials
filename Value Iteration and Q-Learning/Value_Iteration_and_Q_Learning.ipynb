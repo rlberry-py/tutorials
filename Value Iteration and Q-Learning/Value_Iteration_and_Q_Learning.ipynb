{
  "nbformat": 4,
  "nbformat_minor": 0,
  "metadata": {
    "colab": {
      "name": "Tutorial - Value Iteration and Q-Learning.ipynb",
      "provenance": [],
      "collapsed_sections": [],
      "authorship_tag": "ABX9TyPqhyn8REe7vKbGUF/7FR/C",
      "include_colab_link": true
    },
    "kernelspec": {
      "name": "python3",
      "display_name": "Python 3"
    }
  },
  "cells": [
    {
      "cell_type": "markdown",
      "metadata": {
        "id": "view-in-github",
        "colab_type": "text"
      },
      "source": [
        "<a href=\"https://colab.research.google.com/github/rlberry-py/tutorials/blob/main/Value%20Iteration%20and%20Q-Learning/Value_Iteration_and_Q_Learning.ipynb\" target=\"_parent\"><img src=\"https://colab.research.google.com/assets/colab-badge.svg\" alt=\"Open In Colab\"/></a>"
      ]
    },
    {
      "cell_type": "markdown",
      "metadata": {
        "id": "Io_4iovMTlzT"
      },
      "source": [
        "# Tutorial - Value Iteration and Q-Learning\n",
        "---------------------------------\n",
        "\n",
        "In this tutorial, you will:\n",
        "\n",
        "* Implement the value iteration algorithm to approximate the value function when *a model of the environment is available*.\n",
        "* Implement the Q-Learning algorithm to approximate the value function when *the model is unknown*, that is, the agent must learn through interactions.\n",
        "\n",
        "We start with a short review of these algorithms.\n",
        "\n",
        "\n",
        "## Markov decision processes and value functions\n",
        "\n",
        "In reinforcement learning, an agent interacts with an enviroment by taking actions and observing rewards. Its goal is to learn a *policy*, that is, a mapping from states to actions, that maximizes the amount of reward it gathers.\n",
        "\n",
        "The enviroment is modeled as a __Markov decision process (MDP)__, defined by a set of states $\\mathcal{S}$, a set of actions $\\mathcal{A}$, a reward function $r(s, a)$ and transition probabilities $P(s'|s,a)$. When an agent takes action $a$ in state $s$, it receives a random reward with mean $r(s,a)$ and makes a transion to a state $s'$ distributed according to $P(s'|s,a)$.\n",
        "\n",
        "A __policy__ $\\pi$ is such that $\\pi(a|s)$ gives the probability of choosing an action $a$ in state $s$. __If the policy is deterministic__, we denote by $\\pi(s)$ the action that it chooses in state $s$. We are interested in finding a policy that maximizes the value function $V^\\pi$, defined as \n",
        "\n",
        "$$\n",
        "V^\\pi(s) = \\sum_{a\\in \\mathcal{A}} \\pi(a|s) Q^\\pi(s, a), \n",
        "\\quad \\text{where} \\quad \n",
        "Q^\\pi(s, a) = \\mathbf{E}\\left[ \\sum_{t=0}^\\infty \\gamma^t r(S_t, A_t)  \\Big| S_0 = s, A_0 = a\\right].\n",
        "$$\n",
        "and represents the mean of the sum of discounted rewards gathered by the policy $\\pi$ in the MDP, where $\\gamma \\in [0, 1[$ is a discount factor ensuring the convergence of the sum. \n",
        "\n",
        "The __action-value function__ $Q^\\pi$ is the __fixed point of the Bellman operator $T^\\pi$__:\n",
        "\n",
        "$$ \n",
        "Q^\\pi(s, a) = T^\\pi Q^\\pi(s, a)\n",
        "$$\n",
        "where, for any function $f: \\mathcal{S}\\times\\mathcal{A} \\to \\mathbb{R}$\n",
        "$$\n",
        "T^\\pi f(s, a) =  r(s, a) + \\gamma \\sum_{s'} P(s'|s,a) \\left(\\sum_{a'}\\pi(a'|s')f(s',a')\\right) \n",
        "$$\n",
        "\n",
        "\n",
        "The __optimal value function__, defined as $V^*(s) = \\max_\\pi V^\\pi(s)$ can be shown to satisfy $V^*(s) = \\max_a Q^*(s, a)$, where $Q^*$ is the __fixed point of the optimal Bellman operator $T^*$__: \n",
        "\n",
        "$$ \n",
        "Q^*(s, a) = T^* Q^*(s, a)\n",
        "$$\n",
        "where, for any function $f: \\mathcal{S}\\times\\mathcal{A} \\to \\mathbb{R}$\n",
        "$$\n",
        "T^* f(s, a) =  r(s, a) + \\gamma \\sum_{s'} P(s'|s,a) \\max_{a'} f(s', a')\n",
        "$$\n",
        "and there exists an __optimal policy__ which is deterministic, given by $\\pi^*(s) \\in \\arg\\max_a Q^*(s, a)$.\n",
        "\n",
        "\n",
        "## Value iteration\n",
        "\n",
        "If both the reward function $r$ and the transition probablities $P$ are known, we can compute $Q^*$ using value iteration, which proceeds as follows:\n",
        "\n",
        "1. Start with arbitrary $Q_0$, set $t=0$.\n",
        "2. Compute $Q_{t+1}(s, a) = T^*Q_t(s,a)$ for every $(s, a)$.\n",
        "3. If $\\max_{s,a} | Q_{t+1}(s, a) -  Q_t(s,a)| \\leq \\varepsilon$, return $Q_{t}$. Otherwise, set $t \\gets t+1$ and go back to 2. \n",
        "\n",
        "The convergence is guaranteed by the contraction property of the Bellman operator, and $Q_{t+1}$ can be shown to be a good approximation of $Q^*$ for small epsilon. \n",
        "\n",
        "__Question__: Can you bound the error $\\max_{s,a} | Q^*(s, a) -  Q_t(s,a)|$ as a function of $\\gamma$ and $\\varepsilon$?\n",
        "\n",
        "## Q-Learning\n",
        "\n",
        "In value iteration, we need to know $r$ and $P$ to implement the Bellman operator. When these quantities are not available, we can approximate $Q^*$ using *samples* from the environment with the Q-Learning algorithm.\n",
        "\n",
        "Q-Learning with __$\\varepsilon$-greedy exploration__ proceeds as follows:\n",
        "\n",
        "1. Start with arbitrary $Q_0$, get starting state $s_0$, set $t=0$.\n",
        "2. Choosing action $a_t$: \n",
        "  * With probability $\\varepsilon$ choose $a_t$ randomly (uniform distribution)  \n",
        "  * With probability $1-\\varepsilon$, choose $a_t \\in \\arg\\max_a Q_t(s_t, a)$.\n",
        "3. Take action $a_t$, observe next state $s_{t+1}$ and reward $r_t$.\n",
        "4. Compute error $\\delta_t = r_t + \\gamma \\max_a Q_t(s_{t+1}, a) - Q_t(s_t, a_t)$.\n",
        "5. Update \n",
        "  * $Q_{t+1}(s, a) = Q_t(s, a) + \\alpha_t(s,a) \\delta_t$,  __if $s=s_t$ and $a=a_t$__\n",
        "  * $Q_{t+1}(s, a) = Q_{t}(s, a)$ otherwise.\n",
        "\n",
        "Here, $\\alpha_t(s,a)$ is a learning rate that can depend, for instance, on the number of times the algorithm has visited the state-action pair $(s, a)$. \n"
      ]
    },
    {
      "cell_type": "markdown",
      "metadata": {
        "id": "KYq9-63OR8RW"
      },
      "source": [
        "# Colab setup"
      ]
    },
    {
      "cell_type": "code",
      "metadata": {
        "id": "AxepTGrNR3DX",
        "outputId": "2d2db963-6338-4be0-bed5-5b1cbcaa28e5",
        "colab": {
          "base_uri": "https://localhost:8080/"
        }
      },
      "source": [
        "print(\"Installing packages, please wait a few moments. Notice that the runtime is restarted after the installation.\")\n",
        "\n",
        "# install rlberry library\n",
        "!git clone https://github.com/rlberry-py/rlberry.git > /dev/null 2>&1\n",
        "!cd rlberry && git pull && pip install -e . > /dev/null 2>&1\n",
        "!pip install ffmpeg-python > /dev/null 2>&1\n",
        "\n",
        "# packages required to show video\n",
        "!pip install pyvirtualdisplay > /dev/null 2>&1\n",
        "!apt-get install -y xvfb python-opengl ffmpeg > /dev/null 2>&1\n",
        "\n",
        "# restart runtime \n",
        "import os\n",
        "os.kill(os.getpid(), 9)"
      ],
      "execution_count": null,
      "outputs": [
        {
          "output_type": "stream",
          "text": [
            "Installing packages, please wait a few moments. Notice that the runtime is restarted after the installation.\n",
            "Already up to date.\n"
          ],
          "name": "stdout"
        }
      ]
    },
    {
      "cell_type": "code",
      "metadata": {
        "id": "3_bPhqKlSiF0",
        "outputId": "d3336b37-d09b-46a0-c937-59fbc5474ae3",
        "colab": {
          "base_uri": "https://localhost:8080/"
        }
      },
      "source": [
        "# Create directory for saving videos\n",
        "!mkdir videos\n",
        "\n",
        "# The following code is will be used to visualize the environments.\n",
        "import base64\n",
        "from pyvirtualdisplay import Display\n",
        "from IPython import display as ipythondisplay\n",
        "from IPython.display import clear_output\n",
        "from pathlib import Path\n",
        "\n",
        "def show_video(directory='./videos'):\n",
        "    html = []\n",
        "    for mp4 in Path(directory).glob(\"*.mp4\"):\n",
        "        print(mp4)\n",
        "        video_b64 = base64.b64encode(mp4.read_bytes())\n",
        "        html.append('''<video alt=\"{}\" autoplay \n",
        "                      loop controls style=\"height: 400px;\">\n",
        "                      <source src=\"data:video/mp4;base64,{}\" type=\"video/mp4\" />\n",
        "                 </video>'''.format(mp4, video_b64.decode('ascii')))\n",
        "    ipythondisplay.display(ipythondisplay.HTML(data=\"<br>\".join(html)))\n",
        "     \n",
        "from pyvirtualdisplay import Display\n",
        "display = Display(visible=0, size=(800, 800))\n",
        "display.start()"
      ],
      "execution_count": 2,
      "outputs": [
        {
          "output_type": "stream",
          "text": [
            "mkdir: cannot create directory ‘videos’: File exists\n"
          ],
          "name": "stdout"
        },
        {
          "output_type": "execute_result",
          "data": {
            "text/plain": [
              "<pyvirtualdisplay.display.Display at 0x7f763237c278>"
            ]
          },
          "metadata": {
            "tags": []
          },
          "execution_count": 2
        }
      ]
    },
    {
      "cell_type": "code",
      "metadata": {
        "id": "ZYZCXMpisE_O"
      },
      "source": [
        "# other required libraries\n",
        "import numpy as np\n",
        "import matplotlib.pyplot as plt\n",
        "\n"
      ],
      "execution_count": 3,
      "outputs": []
    },
    {
      "cell_type": "markdown",
      "metadata": {
        "id": "zOPiAupGmkxh"
      },
      "source": [
        "# Warm up: interacting with a reinforcement learning environment"
      ]
    },
    {
      "cell_type": "code",
      "metadata": {
        "id": "6IZ0bVAlTjpZ",
        "outputId": "96ee7698-f73a-48ae-e38c-0b9d8041474a",
        "colab": {
          "base_uri": "https://localhost:8080/"
        }
      },
      "source": [
        "from rlberry.envs import GridWorld\n",
        "\n",
        "# A GridWorld is an environment where an agent moves in a 2d grid and aims to reach the state which gives a reward.\n",
        "env = GridWorld(nrows=3, ncols=5, walls=((0,2),(1, 2)), success_probability=0.9)\n",
        "\n",
        "# Number of states and actions\n",
        "print(\"number of states = \", env.observation_space.n)\n",
        "print(\"number of actions = \", env.action_space.n)\n",
        "\n",
        "# Transitions probabilities, env.P[s, a, s'] = P(s'|s, a)\n",
        "print(\"transition probabilities from state 0 by taking action 1: \", env.P[0, 1, :])\n",
        "\n",
        "# Reward function: env.R[s, a] = r(s, a)\n",
        "print(\"mean reward in state 0 for action 1 = \", env.R[0, 1])\n",
        "\n",
        "# Following a random policy \n",
        "state = env.reset()     # initial state \n",
        "env.enable_rendering()  # save states for visualization\n",
        "for tt in range(100):   # interact for 100 time steps\n",
        "  action = env.action_space.sample()  # random action, a good RL agent must have a better strategy!\n",
        "  next_state, reward, is_terminal, info = env.step(action)\n",
        "  if is_terminal:\n",
        "    break\n",
        "  state = next_state\n",
        "\n",
        "# save video (run last cell to visualize it!)\n",
        "env.save_video('./videos/random_policy.mp4', framerate=10)\n",
        "# clear rendering data\n",
        "env.clear_render_buffer()\n"
      ],
      "execution_count": 4,
      "outputs": [
        {
          "output_type": "stream",
          "text": [
            "number of states =  13\n",
            "number of actions =  4\n",
            "transition probabilities from state 0 by taking action 1:  [0.  0.9 0.  0.  0.1 0.  0.  0.  0.  0.  0.  0.  0. ]\n",
            "mean reward in state 0 for action 1 =  0.0\n"
          ],
          "name": "stdout"
        }
      ]
    },
    {
      "cell_type": "markdown",
      "metadata": {
        "id": "snmFW5Bzqpwj"
      },
      "source": [
        "# Implementing Value Iteration\n",
        "\n",
        "1. Write a function ``bellman_operator`` that takes as input a function $Q$ and returns $T^* Q$.\n",
        "2. Write a function  ``value_iteration`` that returns a function $Q$ such that $||Q-T^* Q||_\\infty \\leq \\varepsilon$\n",
        "3. Evaluate the performance of the policy $\\pi(s) = \\arg\\max_a Q(s, a)$, where Q is returned by ``value_iteration``."
      ]
    },
    {
      "cell_type": "code",
      "metadata": {
        "id": "RPIOmpjkq0YX"
      },
      "source": [
        "def bellman_operator(Q, env, gamma=0.99):\n",
        "  S = env.observation_space.n\n",
        "  A = env.action_space.n \n",
        "  TQ = np.zeros((S, A))\n",
        "\n",
        "  # to complete...\n",
        "\n",
        "  return TQ"
      ],
      "execution_count": 5,
      "outputs": []
    },
    {
      "cell_type": "code",
      "metadata": {
        "id": "tEKAtA1LsYFx"
      },
      "source": [
        "def value_iteration(env, gamma=0.99, epsilon=1e-6):\n",
        "  S = env.observation_space.n\n",
        "  A = env.action_space.n \n",
        "  Q = np.zeros((S, A))\n",
        "\n",
        "  # to complete...\n",
        "\n",
        "  return Q"
      ],
      "execution_count": 6,
      "outputs": []
    },
    {
      "cell_type": "code",
      "metadata": {
        "id": "rZ7k-rDLssSk"
      },
      "source": [
        "Q_vi = value_iteration(env)\n",
        "\n",
        "# Following value iteration policy \n",
        "state = env.reset()     \n",
        "env.enable_rendering()  \n",
        "for tt in range(100):   \n",
        "  action = Q_vi[state, :].argmax()\n",
        "  next_state, reward, is_terminal, info = env.step(action)\n",
        "  if is_terminal:\n",
        "    break\n",
        "  state = next_state\n",
        "\n",
        "# save video (run last cell to visualize it!)\n",
        "env.save_video('./videos/value_iteration_policy.mp4', framerate=10)\n",
        "# clear rendering data\n",
        "env.clear_render_buffer()"
      ],
      "execution_count": 7,
      "outputs": []
    },
    {
      "cell_type": "markdown",
      "metadata": {
        "id": "1Uw6LVyVulOX"
      },
      "source": [
        "# Implementing Q-Learning\n",
        "\n",
        "Implement a function ``q_learning`` that takes as input an environment, runs Q learning for $T$ time steps and returns $Q_T$. \n",
        "\n",
        "Test different learning rates:\n",
        "  * $\\alpha_t(s, a) = \\frac{1}{\\text{number of visits to} (s, a)}$\n",
        "  * $\\alpha_t(s, a) =$ constant in $]0, 1[$\n",
        "  * others?\n",
        "\n",
        "Test different initializations of the Q function and try different values of $\\varepsilon$ in the $\\varepsilon$-greedy exploration!\n",
        "\n",
        "It might be very useful to plot the difference between the Q-learning approximation and the output of value iteration above, as a function of time.\n"
      ]
    },
    {
      "cell_type": "code",
      "metadata": {
        "id": "OrhUOlrfv6xp"
      },
      "source": [
        "def q_learning(env, gamma=0.99, T=5000, Q_vi=None):\n",
        "  \"\"\"\n",
        "  Q_vi is the output of value iteration.\n",
        "  \"\"\"\n",
        "  S = env.observation_space.n\n",
        "  A = env.action_space.n \n",
        "  error = np.zeros(T)\n",
        "  Q = np.zeros((S, A))  # can we improve this initialization? \n",
        "\n",
        "  state = env.reset()\n",
        "    # to complete...\n",
        "  for tt in range(T):\n",
        "    # choose action a_t\n",
        "    # ...\n",
        "    # take action, observe next state and reward \n",
        "    # ...\n",
        "    # compute delta_t\n",
        "    # ...\n",
        "    # update Q\n",
        "    # ...\n",
        "\n",
        "    error[tt] = np.abs(Q-Q_vi).max()\n",
        "  \n",
        "  plt.plot(error)\n",
        "  plt.xlabel('iteration')\n",
        "  plt.title('Q-Learning error')\n",
        "  \n",
        "  return Q "
      ],
      "execution_count": 8,
      "outputs": []
    },
    {
      "cell_type": "code",
      "metadata": {
        "id": "fOetdWM4xhLt",
        "outputId": "20a4d096-643f-468a-ec7d-fe497a513197",
        "colab": {
          "base_uri": "https://localhost:8080/",
          "height": 295
        }
      },
      "source": [
        "Q_ql = q_learning(env, Q_vi=Q_vi)\n",
        "\n",
        "# Following Q-Learning policy \n",
        "state = env.reset()     \n",
        "env.enable_rendering()  \n",
        "for tt in range(100):   \n",
        "  action = Q_ql[state, :].argmax()\n",
        "  next_state, reward, is_terminal, info = env.step(action)\n",
        "  if is_terminal:\n",
        "    break\n",
        "  state = next_state\n",
        "\n",
        "# save video (run last cell to visualize it!)\n",
        "env.save_video('./videos/q_learning_policy.mp4', framerate=10)\n",
        "# clear rendering data\n",
        "env.clear_render_buffer()"
      ],
      "execution_count": 9,
      "outputs": [
        {
          "output_type": "display_data",
          "data": {
            "image/png": "[encoded data removed]",
            "text/plain": [
              "<Figure size 432x288 with 1 Axes>"
            ]
          },
          "metadata": {
            "tags": [],
            "needs_background": "light"
          }
        }
      ]
    },
    {
      "cell_type": "markdown",
      "metadata": {
        "id": "bz6KPwbrqaDF"
      },
      "source": [
        "# Visualizing all videos"
      ]
    },
    {
      "cell_type": "code",
      "metadata": {
        "id": "3Zp1BCxmmjyx",
        "outputId": "421ab4f7-e23a-4593-850f-ff5680d34a9c",
        "colab": {
          "base_uri": "https://localhost:8080/",
          "height": 1000
        }
      },
      "source": [
        "show_video()"
      ],
      "execution_count": 10,
      "outputs": [
        {
          "output_type": "stream",
          "text": [
            "videos/random_policy.mp4\n",
            "videos/q_learning_policy.mp4\n",
            "videos/value_iteration_policy.mp4\n"
          ],
          "name": "stdout"
        },
        {
          "output_type": "display_data",
          "data": {
            "text/html": [
              "<video alt=\"videos/random_policy.mp4\" autoplay \n",
              "                      loop controls style=\"height: 400px;\">\n",
              "                      <source src=\"data:video/mp4;base64,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\" type=\"video/mp4\" />\n",
              "                 </video><br><video alt=\"videos/q_learning_policy.mp4\" autoplay \n",
              "                      loop controls style=\"height: 400px;\">\n",
              "                      <source src=\"data:video/mp4;base64,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\" type=\"video/mp4\" />\n",
              "                 </video><br><video alt=\"videos/value_iteration_policy.mp4\" autoplay \n",
              "                      loop controls style=\"height: 400px;\">\n",
              "                      <source src=\"data:video/mp4;base64,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\" type=\"video/mp4\" />\n",
              "                 </video>"
            ],
            "text/plain": [
              "<IPython.core.display.HTML object>"
            ]
          },
          "metadata": {
            "tags": []
          }
        }
      ]
    }
  ]
}