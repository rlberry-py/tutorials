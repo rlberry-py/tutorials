{
  "nbformat": 4,
  "nbformat_minor": 0,
  "metadata": {
    "colab": {
      "name": "Tutorial - Value Iteration and Q-Learning.ipynb",
      "provenance": [],
      "collapsed_sections": [],
      "authorship_tag": "ABX9TyPcGfZehXj82o1kAuRilhWV",
      "include_colab_link": true
    },
    "kernelspec": {
      "name": "python3",
      "display_name": "Python 3"
    }
  },
  "cells": [
    {
      "cell_type": "markdown",
      "metadata": {
        "id": "view-in-github",
        "colab_type": "text"
      },
      "source": [
        "<a href=\"https://colab.research.google.com/github/rlberry-py/tutorials/blob/main/Value%20Iteration%20and%20Q-Learning/Value_Iteration_and_Q_Learning.ipynb\" target=\"_parent\"><img src=\"https://colab.research.google.com/assets/colab-badge.svg\" alt=\"Open In Colab\"/></a>"
      ]
    },
    {
      "cell_type": "markdown",
      "metadata": {
        "id": "Io_4iovMTlzT"
      },
      "source": [
        "# Tutorial - Value Iteration and Q-Learning\n",
        "---------------------------------\n",
        "\n",
        "In this tutorial, you will:\n",
        "\n",
        "* Implement the value iteration algorithm to approximate the value function when *a model of the environment is available*.\n",
        "* Implement the Q-Learning algorithm to approximate the value function when *the model is unknown*, that is, the agent must learn through interactions.\n",
        "\n",
        "We start with a short review of these algorithms.\n",
        "\n",
        "\n",
        "## Markov decision processes and value functions\n",
        "\n",
        "In reinforcement learning, an agent interacts with an enviroment by taking actions and observing rewards. Its goal is to learn a *policy*, that is, a mapping from states to actions, that maximizes the amount of reward it gathers.\n",
        "\n",
        "The enviroment is modeled as a __Markov decision process (MDP)__, defined by a set of states $\\mathcal{S}$, a set of actions $\\mathcal{A}$, a reward function $r(s, a)$ and transition probabilities $P(s'|s,a)$. When an agent takes action $a$ in state $s$, it receives a random reward with mean $r(s,a)$ and makes a transion to a state $s'$ distributed according to $P(s'|s,a)$.\n",
        "\n",
        "A __policy__ $\\pi$ is such that $\\pi(a|s)$ gives the probability of choosing an action $a$ in state $s$. __If the policy is deterministic__, we denote by $\\pi(s)$ the action that it chooses in state $s$. We are interested in finding a policy that maximizes the value function $V^\\pi$, defined as \n",
        "\n",
        "$$\n",
        "V^\\pi(s) = \\sum_{a\\in \\mathcal{A}} \\pi(a|s) Q^\\pi(s, a), \n",
        "\\quad \\text{where} \\quad \n",
        "Q^\\pi(s, a) = \\mathbf{E}\\left[ \\sum_{t=0}^\\infty \\gamma^t r(S_t, A_t)  \\Big| S_0 = s, A_0 = a\\right].\n",
        "$$\n",
        "and represents the mean of the sum of discounted rewards gathered by the policy $\\pi$ in the MDP, where $\\gamma \\in [0, 1[$ is a discount factor ensuring the convergence of the sum. \n",
        "\n",
        "The __action-value function__ $Q^\\pi$ is the __fixed point of the Bellman operator $T^\\pi$__:\n",
        "\n",
        "$$ \n",
        "Q^\\pi(s, a) = T^\\pi Q^\\pi(s, a)\n",
        "$$\n",
        "where, for any function $f: \\mathcal{S}\\times\\mathcal{A} \\to \\mathbb{R}$\n",
        "$$\n",
        "T^\\pi f(s, a) =  r(s, a) + \\gamma \\sum_{s'} P(s'|s,a) \\left(\\sum_{a'}\\pi(a'|s')f(s',a')\\right) \n",
        "$$\n",
        "\n",
        "\n",
        "The __optimal value function__, defined as $V^*(s) = \\max_\\pi V^\\pi(s)$ can be shown to satisfy $V^*(s) = \\max_a Q^*(s, a)$, where $Q^*$ is the __fixed point of the optimal Bellman operator $T^*$__: \n",
        "\n",
        "$$ \n",
        "Q^*(s, a) = T^* Q^*(s, a)\n",
        "$$\n",
        "where, for any function $f: \\mathcal{S}\\times\\mathcal{A} \\to \\mathbb{R}$\n",
        "$$\n",
        "T^* f(s, a) =  r(s, a) + \\gamma \\sum_{s'} P(s'|s,a) \\max_{a'} f(s', a')\n",
        "$$\n",
        "and there exists an __optimal policy__ which is deterministic, given by $\\pi^*(s) \\in \\arg\\max_a Q^*(s, a)$.\n",
        "\n",
        "\n",
        "## Value iteration\n",
        "\n",
        "If both the reward function $r$ and the transition probablities $P$ are known, we can compute $Q^*$ using value iteration, which proceeds as follows:\n",
        "\n",
        "1. Start with arbitrary $Q_0$, set $t=0$.\n",
        "2. Compute $Q_{t+1}(s, a) = T^*Q_t(s,a)$ for every $(s, a)$.\n",
        "3. If $\\max_{s,a} | Q_{t+1}(s, a) -  Q_t(s,a)| \\leq \\varepsilon$, return $Q_{t}$. Otherwise, set $t \\gets t+1$ and go back to 2. \n",
        "\n",
        "The convergence is guaranteed by the contraction property of the Bellman operator, and $Q_{t+1}$ can be shown to be a good approximation of $Q^*$ for small epsilon. \n",
        "\n",
        "__Question__: Can you bound the error $\\max_{s,a} | Q^*(s, a) -  Q_t(s,a)|$ as a function of $\\gamma$ and $\\varepsilon$?\n",
        "\n",
        "## Q-Learning\n",
        "\n",
        "In value iteration, we need to know $r$ and $P$ to implement the Bellman operator. When these quantities are not available, we can approximate $Q^*$ using *samples* from the environment with the Q-Learning algorithm.\n",
        "\n",
        "Q-Learning with __$\\varepsilon$-greedy exploration__ proceeds as follows:\n",
        "\n",
        "1. Start with arbitrary $Q_0$, get starting state $s_0$, set $t=0$.\n",
        "2. Choosing action $a_t$: \n",
        "  * With probability $\\varepsilon$ choose $a_t$ randomly (uniform distribution)  \n",
        "  * With probability $1-\\varepsilon$, choose $a_t \\in \\arg\\max_a Q_t(s_t, a)$.\n",
        "3. Take action $a_t$, observe next state $s_{t+1}$ and reward $r_t$.\n",
        "4. Compute error $\\delta_t = r_t + \\gamma \\max_a Q_t(s_{t+1}, a) - Q_t(s_t, a_t)$.\n",
        "5. Update \n",
        "  * $Q_{t+1}(s, a) = Q_t(s, a) + \\alpha_t(s,a) \\delta_t$,  __if $s=s_t$ and $a=a_t$__\n",
        "  * $Q_{t+1}(s, a) = Q_{t}(s, a)$ otherwise.\n",
        "\n",
        "Here, $\\alpha_t(s,a)$ is a learning rate that can depend, for instance, on the number of times the algorithm has visited the state-action pair $(s, a)$. \n"
      ]
    },
    {
      "cell_type": "markdown",
      "metadata": {
        "id": "KYq9-63OR8RW"
      },
      "source": [
        "# Colab setup"
      ]
    },
    {
      "cell_type": "code",
      "metadata": {
        "id": "AxepTGrNR3DX",
        "colab": {
          "base_uri": "https://localhost:8080/"
        },
        "outputId": "165c7f35-a6ed-4658-a1ae-9882df2dccd1"
      },
      "source": [
        "print(\"Installing packages, please wait a few moments. Notice that the runtime is restarted after the installation.\")\n",
        "\n",
        "# install rlberry library\n",
        "!git clone https://github.com/rlberry-py/rlberry.git > /dev/null 2>&1\n",
        "!cd rlberry && git pull && pip install -e . > /dev/null 2>&1\n",
        "!pip install ffmpeg-python > /dev/null 2>&1\n",
        "\n",
        "# packages required to show video\n",
        "!pip install pyvirtualdisplay > /dev/null 2>&1\n",
        "!apt-get install -y xvfb python-opengl ffmpeg > /dev/null 2>&1\n",
        "\n",
        "# restart runtime \n",
        "import os\n",
        "os.kill(os.getpid(), 9)"
      ],
      "execution_count": null,
      "outputs": [
        {
          "output_type": "stream",
          "text": [
            "Installing packages, please wait a few moments. Notice that the runtime is restarted after the installation.\n",
            "Already up to date.\n"
          ],
          "name": "stdout"
        }
      ]
    },
    {
      "cell_type": "code",
      "metadata": {
        "id": "3_bPhqKlSiF0",
        "colab": {
          "base_uri": "https://localhost:8080/"
        },
        "outputId": "a873862e-5863-448f-dd2d-9627e357838e"
      },
      "source": [
        "# Create directory for saving videos\n",
        "!mkdir videos > /dev/null 2>&1\n",
        "\n",
        "# The following code is will be used to visualize the environments.\n",
        "import base64\n",
        "from pyvirtualdisplay import Display\n",
        "from IPython import display as ipythondisplay\n",
        "from IPython.display import clear_output\n",
        "from pathlib import Path\n",
        "\n",
        "def show_video(filename=None, directory='./videos'):\n",
        "    \"\"\"\n",
        "    Either show all videos in a directory (if filename is None) or \n",
        "    show video corresponding to filename.\n",
        "    \"\"\"\n",
        "    html = []\n",
        "    if filename is not None:\n",
        "        files = Path('./').glob(filename)\n",
        "    else:\n",
        "        files = Path(directory).glob(\"*.mp4\")\n",
        "    for mp4 in files:\n",
        "        print(mp4)\n",
        "        video_b64 = base64.b64encode(mp4.read_bytes())\n",
        "        html.append('''<video alt=\"{}\" autoplay \n",
        "                      loop controls style=\"height: 400px;\">\n",
        "                      <source src=\"data:video/mp4;base64,{}\" type=\"video/mp4\" />\n",
        "                 </video>'''.format(mp4, video_b64.decode('ascii')))\n",
        "    ipythondisplay.display(ipythondisplay.HTML(data=\"<br>\".join(html)))\n",
        "     \n",
        "from pyvirtualdisplay import Display\n",
        "display = Display(visible=0, size=(800, 800))\n",
        "display.start()"
      ],
      "execution_count": 23,
      "outputs": [
        {
          "output_type": "execute_result",
          "data": {
            "text/plain": [
              "<pyvirtualdisplay.display.Display at 0x7f3c7c235588>"
            ]
          },
          "metadata": {
            "tags": []
          },
          "execution_count": 23
        }
      ]
    },
    {
      "cell_type": "code",
      "metadata": {
        "id": "ZYZCXMpisE_O"
      },
      "source": [
        "# other required libraries\n",
        "import numpy as np\n",
        "import matplotlib.pyplot as plt\n",
        "\n"
      ],
      "execution_count": 24,
      "outputs": []
    },
    {
      "cell_type": "markdown",
      "metadata": {
        "id": "zOPiAupGmkxh"
      },
      "source": [
        "# Warm up: interacting with a reinforcement learning environment"
      ]
    },
    {
      "cell_type": "code",
      "metadata": {
        "id": "6IZ0bVAlTjpZ",
        "colab": {
          "base_uri": "https://localhost:8080/",
          "height": 510
        },
        "outputId": "3b50a6d1-ec34-4ece-8059-353c36db3ebc"
      },
      "source": [
        "from rlberry.envs import GridWorld\n",
        "\n",
        "# A GridWorld is an environment where an agent moves in a 2d grid and aims to reach the state which gives a reward.\n",
        "env = GridWorld(nrows=3, ncols=5, walls=((0,2),(1, 2)), success_probability=0.9)\n",
        "\n",
        "# Number of states and actions\n",
        "print(\"number of states = \", env.observation_space.n)\n",
        "print(\"number of actions = \", env.action_space.n)\n",
        "\n",
        "# Transitions probabilities, env.P[s, a, s'] = P(s'|s, a)\n",
        "print(\"transition probabilities from state 0 by taking action 1: \", env.P[0, 1, :])\n",
        "\n",
        "# Reward function: env.R[s, a] = r(s, a)\n",
        "print(\"mean reward in state 0 for action 1 = \", env.R[0, 1])\n",
        "\n",
        "# Following a random policy \n",
        "state = env.reset()     # initial state \n",
        "env.enable_rendering()  # save states for visualization\n",
        "for tt in range(100):   # interact for 100 time steps\n",
        "  action = env.action_space.sample()  # random action, a good RL agent must have a better strategy!\n",
        "  next_state, reward, is_terminal, info = env.step(action)\n",
        "  if is_terminal:\n",
        "    break\n",
        "  state = next_state\n",
        "\n",
        "# save video \n",
        "env.save_video('./videos/random_policy.mp4', framerate=10)\n",
        "# clear rendering data\n",
        "env.clear_render_buffer()\n",
        "# see video\n",
        "show_video(filename='./videos/random_policy.mp4')"
      ],
      "execution_count": 25,
      "outputs": [
        {
          "output_type": "stream",
          "text": [
            "number of states =  13\n",
            "number of actions =  4\n",
            "transition probabilities from state 0 by taking action 1:  [0.  0.9 0.  0.  0.1 0.  0.  0.  0.  0.  0.  0.  0. ]\n",
            "mean reward in state 0 for action 1 =  0.0\n",
            "videos/random_policy.mp4\n"
          ],
          "name": "stdout"
        },
        {
          "output_type": "display_data",
          "data": {
            "text/html": [
              "<video alt=\"videos/random_policy.mp4\" autoplay \n",
              "                      loop controls style=\"height: 400px;\">\n",
              "                      <source src=\"data:video/mp4;base64,AAAAIGZ0eXBpc29tAAACAGlzb21pc28yYXZjMW1wNDEAAAAIZnJlZQAATK5tZGF0AAACrgYF//+q3EXpvebZSLeWLNgg2SPu73gyNjQgLSBjb3JlIDE1MiByMjg1NCBlOWE1OTAzIC0gSC4yNjQvTVBFRy00IEFWQyBjb2RlYyAtIENvcHlsZWZ0IDIwMDMtMjAxNyAtIGh0dHA6Ly93d3cudmlkZW9sYW4ub3JnL3gyNjQuaHRtbCAtIG9wdGlvbnM6IGNhYmFjPTEgcmVmPTMgZGVibG9jaz0xOjA6MCBhbmFseXNlPTB4MzoweDExMyBtZT1oZXggc3VibWU9NyBwc3k9MSBwc3lfcmQ9MS4wMDowLjAwIG1peGVkX3JlZj0xIG1lX3JhbmdlPTE2IGNocm9tYV9tZT0xIHRyZWxsaXM9MSA4eDhkY3Q9MSBjcW09MCBkZWFkem9uZT0yMSwxMSBmYXN0X3Bza2lwPTEgY2hyb21hX3FwX29mZnNldD0tMiB0aHJlYWRzPTMgbG9va2FoZWFkX3RocmVhZHM9MSBzbGljZWRfdGhyZWFkcz0wIG5yPTAgZGVjaW1hdGU9MSBpbnRlcmxhY2VkPTAgYmx1cmF5X2NvbXBhdD0wIGNvbnN0cmFpbmVkX2ludHJhPTAgYmZyYW1lcz0zIGJfcHlyYW1pZD0yIGJfYWRhcHQ9MSBiX2JpYXM9MCBkaXJlY3Q9MSB3ZWlnaHRiPTEgb3Blbl9nb3A9MCB3ZWlnaHRwPTIga2V5aW50PTI1MCBrZXlpbnRfbWluPTEwIHNjZW5lY3V0PTQwIGludHJhX3JlZnJlc2g9MCByY19sb29rYWhlYWQ9NDAgcmM9Y3JmIG1idHJlZT0xIGNyZj0yMy4wIHFjb21wPTAuNjAgcXBtaW49MCBxcG1heD02OSBxcHN0ZXA9NCBpcF9yYXRpbz0xLjQwIGFxPTE6MS4wMACAAAAGjmWIhAAv//7rLvzLJX+xGPtMFrtF3jvt5VOMVkPlu80T8q67ZBX0AAADAAADAAADAAAEmmdkX/TWRhLf3ijywrPwAAADAAADAdABoAAL7N4Uq9k4C9nPM7do36PSTqqwpIUWFsVC7qWd2CObmZaWoSjZiBdcchGUGOkD2i29wL90CpF8wyFVhrrCaeFqXvS+OmCFW4LeWjiX3ENd8zJOP2LAfATYH/t1Pv9IBKOrLMo3GFT6BJPJF1+DJ/P0Y3lNc6cLgAEcjSD8Y294zDDHX7lN5/wg2wdbWDZBdZerLY6M0KupPNtAjlGhPNLRZjoYD4yF5H7TsFbJ+xS8mMpB7Tbbtz+3u59HqVu9wyhAFn0DXQvyDdg6HDqfXxDNBACpF7aRqlc+reEeHIg2/xqP48HWKeNb+a4ZLadSrcDE7qq5upTw2qTErDKBZzU3p/4XK4ZAdXModNWDLpD8DgDBMMErp8KNhguIu9IZwR3fZtuiRwEZm528egTeOfb+DyLwwe4w/AU9Xjsy9LieuPDDrm5emgCUAVWkwcF7PvY6sNoHN2xPVHQmgHo463WduAWCaPoQ02lG5SmvKHjIe8r+pppg83VE3RuHq39b/ATOeFtZJ+wZZiJWxFBjmWpr91FqI9Rzb+pv9KE9kr+DLAAxYKoYDU8+IIhp3D9SMM2sVu5/avMT5CISDSOv2Ez752/dS0aATrr/t6UkovY59eJZ6pZbAwFzmFmtEBZRny3FP/4/QAWunAyruCMjxgkd/FqDuK2YqNYslzFmn3yUXt8FnNHirDF9KTP3yPo0R4POzoiveD6eGOGkEWHbwfqtLqH2Xm39k5SZhXZXjUS9tzr8fXBcrCJ+hAfqJGwEotsJ2d61ZrvLxSNAeG3VPZWErB5IMH9t5QOs1p9tgkpMjLsejN3WRza376h3xUZSusSQ8aeTCC9CWOu6rYsTReeDudp5IlqcA+tHDlBtgDohBTfd48fx95j7bRxFwJ6oTmKP/W9VijwqyVf88zicY5xSke0IabSjAEHDK7mnHlfsryV8c9QBIEZ1j5cC5lYIwe35ee3OH02dAC26GAj7ZWpqTrEPQkG35iGNsGLBU+g+l8MBROaj1EdubFbs2IRRJrREJBpSRIbRfQFSJUggSOw1s1UtaiPfApExjhzIAKP8GTJV5MwiEZ/0PHQBn6TG/8fB+W+SgnTm5WUIpW3yctLGmFdII31pmbgcmr1HhzW0J5rHBmBJCLeGbuHbJld9KguVP0fAmGx4pISSaCoM5XUBbrzQ/Bt320V2Qd69sXBsAbs3U8SKaveJAeLIn6Q/F+d6oJZUtF1SB6m4+f57So9e53//YRp/97qssFxSxZQEItNEccVMXqW4p8T/jE+cxb0k/ne6UENhIG/5CAhUABfdsSIVf/Y3ndy0qwO0egonQCkcwJDZgp3CCw8ILnwgwPCDG8MD1/STEu7qA4Nc/kgbS/9sE2Pk3n7QlZG6K3yJs5hIJg5TtuZ+AHp83aaAz9PJpi6zZ/3fIrvE874c1ifE7FrmQSJu2oiOmE3LNm5/PZwizA9saKmDf5WN4DWy3+HP7Uq//yASCnr7gF6DOU5Xh/ZfSV7zWSOi6pb3C0sGka8MivN2VmWu+y+PYKeG2ObnmHHSLl+y+I88UsnFQC6Ao3icccRVoETW5YUu1gw68y2OETAdTvxwTIOOJhdrW+uxLOD70m+g9PlnwRpI12Ui3DbZAHejbwvV2DC9esYNQveQEwo4SF9VzmoO2uCmr33Gwthpi6DxyN2YteMjzrz64VVM2ioTAkiD7Tmht/Hr1aaR7fCZrVU6daWX8yqzkJWuBQtEUP/4skMhwna9XeeDxt+6LqobuU6FITrezxcmT4hglDR4ClhhLfkon/Wczuj6XjtWrmrHio7ckvYOQhR6G6WIjUrejIosMfpnoChhfQ3E3VeO4eMic/8OMshFbp4EC62+LHTC3JWBE8OIixfcwUF50y7un39RpuLxKXsYSlG1QogHmJis1rvUVuOZo4D+VACEfFg4YVNqm/7RMZIApVBOqWrvCjVuME9XB1721ZkINYjLBM55vBIphcHoCcCcP9ekmrmbxXgRX7jk4weVf0pBTNI0AGq0Ku6ScCDAHei1hSGftFDAnNio51crZO6G/s+2pCgddQkexPETPgp1MwOYd3B24vaHtmPoTf7S3NPf/KRmW1h/BFyhK8bJVNn1TgycYaSQ3U2FuApCiBqeKVEAAAKHQZohbEL//oywADZXkFJUeJkMdMfS5vbxSDE2AEy8DTEQK3uZn/TFi1ubZuB/7z7ZgQi1dHkQknyp88dO859n/tLpOfQLyMUIAZedPhJVHxC24TLdtTmH+W3EZ4IViL/ZiblwQ5xv+PJBLM/deR96qR6GARR5m9+d/2T/QmWh4Y48gXj2cJEruvaZ1HAR2n3D9bpcuuPZo9l8ANvwc36dhpjnG493IrXHmLrcn74hmCEKdxhFWuWJHhHQApbdf0yHatnkEL8Oer7BptdxfAjDnAXF/E8HCNJL+6NvdHqs09G2xgzDBDAaauPygu+bE5Jisao1N7HHMPtO5HYdWKJUYoXtGZ2UBld0L6stVTf3hF34gy92bwvi1blZLO4ZzYmLXU2H3NB/yU0Ze1RMbu8ve0HJ+5mnFNYArN2BidrcZNkJkebRJG8b+F0jpASNiADw8lo1m4PQJBuAfx8sAjiXTOGkLra9biw2H7/yirrMXP8ipcMwtyjehmVlpbE3Nh54KWKjN/h/Qv96ZXyDIVwyRw1QBdj6/4zQ7vdp3ArZat/w6lV/R5A4sUWTYIEYmy7vZuobIBMEBXoUjmYA6hnw6tdEJb04bflNW7IZFIcaCrFo4pBiU8oW7y3EwcNPAc9qUiZxyjgI5uSor0X9qBmYx2nZsmmsHC4DxWoPOdJHgDh6MoO++zZNw0iJmyUlWKaGyGlPfNLkub/yA5BTs9QmBemPeVKuhpwQp3UvX/1eO59cpMQ3LjjSZ58Ti1hA6TbGluzMOVCdVl/NWM3uALGCK/SWCzn1pInrOURN1Pn+UpGB4A37Mdgv/2bdG5UeSj1WkA/MqqC95d43ZAQtEcATYqDkGd5Zl00AAAI+QZpCPCGTKYQv//6MsAAAAwBb+ZcvDdfI/OQiUAIe35QYgAZjBGuVVMo0bh/k4RwYoVvcGod+wNn8dDLXK9G3lWAe8wwYzNR2Za/GUzKoewTYoPYHJYyHN9udiIU62K4u9Ve9zDISS17GWbfiad1870We/SgK8fSw8+A0LFaFIGcPswQhTuLVeLLDn9Fdu67C0bZiJSId6vRAUK88hFKL7RaSyXRGVrrQzp8VO2X6R3R6xZPn6OSaUPtdLOCGcGUdreupVjV6JVcoJ1gAJmT5Gi+JOpaeeqJw1HhDvx1eypU7JPwXXzrHU86J0lwttwtF8WrcrWG4LTtTxilG5tGKN7fRjjH5z35srd3S+Veqb/0sj7idYjYKIP6cdKyEf4t41lAJkXItAKvnNZmyd7mXAhQHM3SZ3e3HABZF0ddQSVrwmTWQzBcOpu1pveIpEnBRjhfUAEkQJcKymvf5uwwBXKZtSAORfHrhwC9EuhC7AZ5IRGs4OXqSxp+6LnbSdbLRpVycVTzuA9z4GPgve0diSViERTkAq+5hHhbBK8ghJ4S03gzF0beOagHm/iRNguJPE4gMY6mgPKAQ+HOpufPGSrFVr4PShaCaxpAFYPPMzYr+6jt3iAZAKPEjbECTeX4h+4cETlXdmxO25jmaGilzJh2OMlQlSQCJegbe3LIea6NjQEZticW8MIVcyY/B99hwgREusOT0AyOITmmLk5N475AHgGwnVa3jTN4eEXSSQIz+lt2ml3IRWOE02AA44QAAAjhBmmNJ4Q8mUwIX//6MsAGW1p8JLMkAHBb5QYgAZjBGuVVMo0bh/k4RwYoVvcGod+wNn8dEg5ib6j5VgHvMMGMzUdmWvxlMyqHsE2KD2ByWMhzm0N6sgVjpIZxCSWvYyzb8TTuvneiz36UBXj6WHnwHjBgtCT98QzBCFO4tV4ssOf0V27rsLRtmIlIh3q9EBQsruDTbfGi0lkuiMrXWhnT4qdsv0juj1kEvGD/spVV46WcEM4Mo7W9dSrGr0SrABLVVf8SdS089UThqPCHfjq9lSp2SfguvnWOqn9jcae23C0XxatytYbgtO1PGKUbm0Yo3t9GOMfo1K+dl7umAZESdKkdH3E6xGwUQf046VkI/xbxrKA47NrqAVfOazNk73MuBCgOZukzu/I440CVo0GfZNZDMFw6m7Wm94ikScFGfyLnYI7+XwpUr3+bsMAVymbUe1QJt4ZULC6xLoQuwGeSERrODl6ksafui520nWyx6s5TiqedwHufAx8F72jsSSsQiKcgFX3MI8LYJXkEJPCWm8GYujbysn6+hkXEnicQGMdTQHlAIfDnU3IYdnNmbG2E/y/uBQNAJRQklLMr9cZ0YhQZAKPEjbECTeX4h+4cETlXdmAdCcx5dDRS5kw7HGSoSpIBEvQNvblkPNdGxoCM2xOLam8+6QzFB3jC9osOT0AyOITmcIU7iS/yAPANhOq1vGmbw8IukkgRn9LbtNLuQitBv1tjeddSAOIWcAHFFiFzOI+OQAEnAAAAAT0GahEnhDyZTAhf//oywAZbhOmu+oGvPhHeKkpCi6sesSxwIj8FAC/lE6smWfECJYcOioAa3VXhIyX2XW+DwHXCy9iEjyNGuS2qdMX4AB3UAAAJBQZqlSeEPJlMCGf/+nhAAAAMARb4sTBsG9v40HQjWWxRqBp+NiQADjGBuUVfhfAV+EhXEABwcUFa4AGYwpbj1KeqeBv7LYdmvO7GO3Dv20R7jsiPROVizyeX0KM5OmMgJm1+MpmVQ9gnsM5QLQGnHLyFRfaYF3lgoSVJRzPNOrRl1870We/U8FUV/sgZolaEfcDVFt6gla5pNV4ssOf0V27r0LRtmIv513w9EBQqhcGmyutKNLJdFOipHyRRnGs7fpzdHrC+6N388pw+10y7oZwZR2t8iuWN3olVaL3ax+foswKeqJw1Hhl1qTlWGV2zYIu1nWOqVa63b4FeOPvOsKz8VppbWKuMVA3NoxSInDWtIjLuQTWXd0vwyAPNPaL+4gT1cD6SgAdWIXm80iIdQFblJJkBzuOYSzLnNzimeA2m6TO7xP6OEbR9JZ9k1kMwU3T6/7kBBYmaBnrkIucOih7s5zRi4biD4AmjqigflUZgbe70jlOQPLsijJ+PgsAwYOEcGaNha35QY4VC4jcvIFkfX1C2tA+C+KuJJhWIYLCgCr7mEd/9kzSCEnhLSSDMXRt4wvv63sufPE4h/Y6mgPKARubOpujiwet3eLbYYBL+4FA0Ahad88FBPy6cEYVBkAo8SN/ZfyB+kH7horRu4nwA7WzG8sLQ4R8bj0R9zl/wBL0FHZ0xIA4kC6cLNsTicNc+vWTFB3Ti9osOT0AqwITmeEU7iS32APANeDu1vGpXw8I3nkgRn9LbxVLuQisWuYQAAAEpBmsZJ4Q8mUwIZ//6eEAAAAwBFUgOA9G2qHuvhC84jagmpFuTsmurmhPyaIX/ViuDfsf/7h+lj43sDEFiODKXgTCcAGqmNfHSnIQAAAlxBmudJ4Q8mUwIZ//6eEAAAAwBbN9/CSvNAA4OKCtcADMYUtx6lPVPA39lsOzXndjHbh37aI9x2ynITffgyeX0KM5OmMgJm1+MpmVQ9gnsM5QLQGnHOuPrq4ZaL11yHDImcQkqSjmeadWjLr53os9+p4Kor/ZAzT/1VXMBqi29QStc0mq8WWHP6K7d16Fo2zEX8674eiAoWMH5fZpGlGlkuinRUj5IozjWdv05uj1jtumCptKcPtdMu6GcGUdrfIrljd6JVhyx0CygT1zj25+izAp6onDUeGXWpOVYZXbNgi7WZyOGbpbreBXjj7zrCs/FaaW1irjFQJ4fc+RE4a7zFpu8Ly18pBdk0eVNjUsieU5wPpJ9iBcdV09dKtW3cdb0HgOdxzCWZcVrNwegO1uvoQeuFAAEO0KD3lNiQ/C6cnuIBuEsqWYFc57Am0VgFkbco3mTI0oceK3dU5aO1Tt8v5+StsHSkHfQFcID5TyyznrFmDe8OfuYjS1VN/w76ptX9mvhnDSBEP0HzgNTDcvIFkjEAf8TmWHn1uKuig3L67ZM4BFyIQROftvxHcqaGxugxKj4AEhzDikThI0G5uzrngWKd8BWMklNVIb5r7UDMk4VvZsug0G2k3ml9YxEVXEDh5kMqenZsq037+6q6WNUDYT028HZvEjQBKwFB9Z8Si1bJI7LQ+oKoKUjF0ASZldVHTSx0FTl8iqmTm8FIJR4unofXYWb1DAauWp/djdI0UVwxukIY51YA5In4O4DZ13BFJSwraGfzMGRf/6gMwbk4RuYzfN3rGTbZAASdAAAARkGbCEnhDyZTAhn//p4QAAADAFs5l0eiaXaDMFIZT5qcf64ioqKfjAcZGjTtyIyaJ9/QJZimJLLZtkTK5dW9nL69pLwALKAAAAI6QZsqSeEPJlMFETwz//6eEAGT1z8JK80ADg4oK1wAMxhS3HqU9U8Df2Ww7Ned2MduHftoj3HbKchN9+DJ5fQozk6YyAmbX4ymZVD2CewzlAtAacc553epEguXeWChJUlHM806tGXXzvRZ79TwVRX+yBmod66rMBqi29QStc0mq8WWHP6K7d16Fo2zEX8674eiAoWVrBpsrJSjSyXRToqR8kUZxrO36c3R6yEPTA9K2FFAnLGCGcGUdrfIrljd6JVgMtzCdN8nZgU9UThqPDLrUnKsMrtmwRdrOsdVQbG5/vCi+PedYVn4rTS2sVcYqBubRikROGtaRGjWGHtzu6YWx8tjaiYfcQJ6uB9JQAOrELzeaREOoDnE2tCA53HMJZlzm5xTPAbTdJnd+gUCp+KOks+yayGYKbp9f9yAgsTNAz130XOHRR12c5oxcNxB8ATR1RQPaqJ5/IWLuSoHl2RRk/HwWAYMHCODNGwtb8oMcKevjCaZgFvf1C2tA+C+KuJJhWIYLCgCr7mEd/9kzSCEnhLSSDMXRt5WUJfOyMeAm+P/MdTQHlAI3NnU3IadnUFeD4OahaCaxpAFb/PMy7z92P5mFQZAKPEjf2X8gfpB+4aK0buJ8D9Ccx5dbRSqPxuPRH3OX/AEvQUdnTEgDiQLpws2xOLaoc+1PzFB3Ti9osOT0AqwITmccU7iS3yAPANeDu1vGpXw8I3nkgRn9LbxVLuQitBv1tzwaneANjWgAE9Chf4myDsQADZgAAAAMQGfSWpCfwBsBMkCGsN0gAAbKWh7IK+awh6LWWgRpluT1gNdeemTQmv/WfYckAAAEvEAAABKQZtLSeEPJlMCGf/+nhABk/Y7nTOef+GD26x81f+TM3aT4WBY58j3TXCEAE4HmGS4yABlKLIfe9WnDeQQ8CPAFIGawHvkDIgADLgAAAJcQZtsSeEPJlMCGf/+nhAAAAMAWzffwkrzQAODigrXAAzGFLcepT1TwN/ZbDs153Yx24d+2iPcdspyE334Mnl9CjOTpjICZtfjKZlUPYJ7DOUC0Bpxzrj66uGWi9dchwyJnEJKko5nmnVoy6+d6LPfqeCqK/2QM0/9VVzAaotvUErXNJqvFlhz+iu3dehaNsxF/Ou+HogKFjB+X2aRpRpZLop0VI+SKM41nb9Obo9Y7bpgqbSnD7XTLuhnBlHa3yK5Y3eiVYcsdAsoE9c49ufoswKeqJw1Hhl1qTlWGV2zYIu1mcjhm6W63gV44+86wrPxWmltYq4xUCeH3PkROGu8xabvC8tfKQXZNHlTY1LInlOcD6SfYgXHVdPXSrVt3HW9B4DnccwlmXFazcHoDtbr6EHrhQABDtCg95TYkPwunJ7iAbhLKlmBXOewJtFYBZG3KN5kyNKHHit3VOWjtU7fL+fkrbB0pB30BXCA+U8ss56xZg3vDn7mI0tVTf8O+qbV/Zr4Zw0gRD9B84DUw3LyBZIxAH/E5lh59birooNy+u2TOARciEETn7b8R3KmhsboMSo+ABIcw4pE4SNBubs654FinfAVjJJTVSG+a+1AzJOFb2bLoNBtpN5pfWMRFVxA4eZDKnp2bKtN+/uquljVA2E9NvB2bxI0ASsBQfWfEotWySOy0PqCqClIxdAEmZXVR00sdBU5fIqpk5vBSCUeLp6H12Fm9QwGrlqf3Y3SNFFcMbpCGOdWAOSJ+DuA2ddwRSUsK2hn8zBkX/+oDMG5OEbmM3zd6xk22QAEnAAAAEdBm45J4Q8mUwURPC///oywAAADAFv5ly8N17ZXXubyAoc1AT2Nz5mvon8fTteN/AWkY5T61LAIOKWObmvB+rBTEJ/jQgADpwAAACkBn61qQn8AAAMAGIEyXpHzCBSyMbUkVwu4QDKlbcBLnz0UFRGIAABiwQAAAjtBm69J4Q8mUwIX//6MsAAAAwBGem9Nd9QNefCO8VJSFF1Y9YljgRH4u9wMnzKtrVqAEPb8oMQAMxgjXKqmUaNw/ycI4MUK3uDUO/YGz+OeG/NTrSh5APeYYMZmo7MtfjKZlUPYJsUHsDksZDl42oQXAqcOYZCSWvYyzb8TTuvneiz36UBXj6WHnv6nHkykDOH2YIQp3FqvFlhz+iu3ddhaNsxEpEO9XogKFTKTIzTIpNJZLojK11oZ0+KnbL9I7o9X0GjgL+N/f2ulnBDODKO1vXUqxq9EqrQrTuo2gNmBT1ROGo8Id+Or2VKnZJ+C6+dY6ozYm5wttwtF8WrcrWG4LTtTxilG5tGKN7fRjjH57Y3nZe7pfdSE0bXYmbidYjYKIP6cdKyEf4t41lAJhpKGgSBOazNk73MuBCgOZukzu8H0FV5YJWvCZNZDMFw6m7Wm94ikScFGbM6jno7+XwpUr3+bsMAVymbUgI6k8kkLwmHtlWRRk/HwOYwS0GQHNGwuu8EaLZaNGE0zAMn/QmFaB8F72jsSSsQiKcgFX3MI8LYJXkEJPCWm8GYujbxikeaNBUkeJxAYx1NAeUAh8OdTd2ueLEzY2wn+X9wKBoBKKEkpbC/fRPwuUGQCjxI2xAk3l+IfuHBE5V3ZqPa2Y4O21S5kw7HGSoSpIBEvQNvblkPNdGxoCM2xOJxlYAFDMUHeML2iw5PQDI4hOaHN9ZDr/IA8A2E6rW8aZvDwi6SSBGf0tu00u5CKxa5hAAACXUGb0EnhDyZTAhf//oywAAADAAADAA+utPhJZkgA4LfKDEADMYI1yqplGjcP8nCODFCt7g1Dv2Bs/jokHMTfUfKsA95hgxmajsy1+MpmVQ9gmxQewOSxkOdZ9FUY7Z6n2Yx0kM4hJLXsZZt+Jp3XzvRZ79KArx9LDz4DdYb63J++IZghCncWq8WWHP6K7d12Fo2zESkQ71eiAoWKH5fbw2i0lkuiMrXWhnT4qdsv0juj1jqumFH8b+/tdLOCGcGUdreupVjV6JVhqyAZitnrnISxJ1LTz1ROGo8Id+Or2VKnZJ+C6+ZyOGLpbacvdm8L4tW5WsNwWnanjFKJ4fc+N7fRoyrzNPVsrd7EaeTeVNgj7idYjYKIP46hccgvCq5pW3cdb0+gYNt/j53fMHxLegOZuvoQeuFAAEtdL41hBqmbGkO/QEZRSiD56cRkx+TZAAKqftPefMjShx4rNzbrjbD4W/w/oX+9Mr4/IK4QJND9evcWDCu94dLydXxx49N13tktM6W2QSGkCI/oPnAamG5eQLIpjL7Ey+LXZbRjPK7L1r1S2I+LkQdec/bfgO5U1Z14Ku4sgANA4sMnQth3ghVL/0ysWGlfkZJH6qQ2TX2oGZGwrezaxzO+wW3pEjvxEVnEDh5kSLED5wjz37+Klq+uxTYT020oBn0jQBKwE59Z8Si1bJI7LE+S23rNmnUASc1dVG8SxzFS3XSamTm8FIGgWckKjiWGJgDIxwOpRdjQI0IVwxukIY51SA5In8e4DZui/dJS6bOGfzRGRf/6gMwbk4RuKKp8TLghMldAAAACWkGb8UnhDyZTAhn//p4QAAADAFs338JK80ADg4oK1wAMxhS3HqU9U8Df2Ww7Ned2MduHftoj3HbKchN9+DJ5fQozk6YyAmbX4ymZVD2CewzlAtAacc553epEguXeWChJUlHM806tGXXzvRZ79TwVRX+yBmod66rMBqi29QStc0mq8WWHP6K7d16Fo2zEX8674eiAoWVrBpsrJSjSyXRToqR8kUZxrO36c3R6yEPTA9K2FFAnLGCGcGUdrfIrljd6JVgMtzCdN8nZgU9UThqPDLrUnKsMrtmwRdrM5HDvY3P94UXx7zrCs/FaaW1irjFQJ4fc+RE4a7zFqikI9ud7HCPlsbUTD7iBPVwPpJ9iBcdV09dKtW4YTSSZAc7jmEsy4rWbg9AdrdfQg6EQjiXT7m/C6cnuIBuEsqWYFc57Am0VgFkbco3mTI0oceTc1taNHap2+X8/JW2DpSDvoCuEB8p5ZZz0hPj/dO9uaYjS1VN/w76ptX9mvhnDSBEP0HzgMfGcvIFkjEAf8TmWHn1uKuig3L67ZM4BFyIQROftvxHcqaGxugxKpWC5G/iHZ7WVS1zwLFO+ArGSSmqkN819qBmScK3s2TW2DlTNM0vrGIiq4gcPMhlT07NkznSJJ4aVOhKXEqmCoobxI0ASsBQfWfElqBemPeonUFUFKRi6AJMyuqjppY6Cpy+RVTJzeChj0Ok2x09gzAauWp/djdI0UVwxukIY51YA5InrOURN+7gikpYVtDP5mDIv/9QGYNycI3MZvm71bhe6JogQ2ATptIANSKF7na6NfehgAAACWUGaEknhDyZTAhn//p4QAf3XPwkrzQAODigrXAAzGFLcepT1TwN/ZbDs153Yx24d+2iPcdspyE334Mnl9CjOTpjICZtfjKZlUPYJ7DOUC0Bpxznnd6kSC5d5YKElSUczzTq0ZdfO9Fnv1PBVFf7IGah3rqswGqLb1BK1zSarxZYc/ort3XoWjbMRfzrvh6IChZWsGmyslKNLJdFOipHyRRnGs7fpzdHrIQ9MD0rYUUCcsYIZwZR2t8iuWN3olWAy3MJ03ydmBT1ROGo8MutScqwyu2bBF2szkcO9jc/3hRfHvOsKz8VppbWKuMVAnh9z5EThrvMWqKQj253scI+WxtRMPuIE9XA+kn2IFx1XT10q1bhhNJJkBzuOYSzLitZuD0B2t19CDoRCOJdPub8Lpye4gG4SypZgVznsCbRWAWRtyjeZMjShx5NzW1o0dqnb5fz8lbYOlIO+gK4QHynllnPSE+P90725piNLVU3/Dvqm1f2a+GcNIEQ/QfOAx8Zy8gWSMQB/xOZYefW4q6KDcvrtkzgEXIhBE5+2/EdypobG6DEqlYLkb+IdntZVLXPAsU74CsZJKaqQ3zX2oGZJwrezZNbYOVM0zS+sYiKriBw8yGVPTs2TOdIknhpU6EpcSqYKihvEjQBKwFB9Z8SWoF6Y96idQVQUpGLoAkzK6qOmljoKnL5FVMnN4KGPQ6TbHT2DMBq5an92N0jRRXDG6QhjnVgDkies5RE37uCKSlhW0M/mYMi//1AZg3Jwjcxm+bvVuF7omiBDYBOm0gA1IoXudro19vgAHTEAAABTQZozSeEPJlMCGf/+nhAB/fY7nTOe1yMpeQ9ZbFGoGn42JAANqluMEPjxkpyRvHtWzLF0bwxo4HsAF2faKLHzU/aFJeIA2LYdL1LJkeZEQfgAF3AAAABOQZpUSeEPJlMCGf/+nhAB/AaGB/GXpYq0jrAANgAl8iwLylReMXYL50fflD2vT6u3Rqj3/C+W7MT3w3RNEaJpD462GEIA5OBgMy8AAOmAAAAAUUGadknhDyZTBRE8M//+nhAB/fY7nTOe1yMpf/9j9f+WnjzRDbV44naey6eDAWucz1cFRurFhy4z0F5ZepOyod/rD7rqNF+WkMAL8sn3AADpgQAAACoBnpVqQn8AisRiBH3ayggOX9urxPiEV8BqhLmQq0hSRcQ7kIkAAAMARcAAAAI/QZqXSeEPJlMCGf/+nhAAAN3wnSRGMn0YtKT+zjuALABwcUFa4AGYwpbj1KeqeBv7LYdmvO7GO3Dv20R7jtGohTmYaosvoUZydMZATNr8ZTMqh7BPYZygWgNOOaAn87s7NlxX6BgXeWChJUlHM806tGXXzvRZ79TwVRX+yBmm5DfnrBqi29QStc0mq8WWHP6K7d16Fo2zEX8674eiAoVyRCKScnQMOplQp0VI+SKM41nb9Obo9YeyJ57vlOH2umXdDODKO1vkVyxu9EqsfPYAADSxni5S8K+Ms9oUSo0Qy61JyrDK7ZsEXazrHU9CJ005YUXx7zrCs/FaaW1irjFQNzaMUiJw1rSIzpandr3dMEIx/v/S9SyJ5TnA+koAHViF5vNIiHUAhayjFgOdxzCWZc5ucUzwG03SZ3eRdAAx34OILp0ln2TWQzBTdPr/uQEFiZoGeqf/T4WDa1fCymvf5uwwAxGc2pADIYsrw3+fjxuK4Pv4+CwDBg4RwZo2FrflBjhT8i92mYBb39QtrQPgviriSYViGCwoAq+5hHf/ZM0ghJ4S0kgzF0beOlQxXqoWUiidVl8f+Y6mgPKARubOpuZuyzJ37gw34S/uBQNAIWnfPBu/9mbhF0AyAUeJG/sv5A/SD9w0Vo3cT4taE5jkq2ilUfjceiPucv+AJego7OmJAHEgXThZticTlf+FtAgat9yZLDi4eBPQCrAhOaR31Nmglh5V014O7W8alfDwjeeSBGf0tvFUu5CKwIYAAqcAAABFQZq5SeEPJlMFETwz//6eEAAAAwBavT1V8OE64XBtkcUSHasxHP9wMtXM3+sMMABhtVGAB6pyDCiE4Engb7VmYnoIAAN/AAAAKgGe2GpCfwAAAwAYgTJekfMIFLIxtSRXC7hAMqVtwEuTZZmnaDnYAAAVcAAAAl1BmttJ4Q8mUwU8M//+nhAAAAMAWzmXR6JnMb62kfwSqrKMtBWKKrgN+hjrwUb9Ysu1xADbTjCI04nYwpbj1KeqeBv7LYdmvO7GO3Dv20R7jsG/r3wUGTy+hRnJ0xkBM2vxlMyqHsE9hnKBaA045eNqEFeAu8sFCSpKOZ5p1aMuvneiz36ngqiv9kDNAla7zAaotvUErXNJqvFlhz+iu3dehaNsxF/Ou+HogKFTKTIylcpRpZLop0VI+SKM41nb9Obo9X0GjfE2lOH2umXdDODKO1vkVyxu9EqrQrTus3ydmBT1ROGo8MutScqwyu2bBF2szkbuQJxoWFF8e86wrPxWmltYq4xUCeH3PkROGu8xai78/qHexfRappVXJm4gT1cD6SfYgXHVdPXSrVt3ZUk0wHO45hLMuK1m4PQHa3X0ILzKjiVsTh+F05PcQDcJZUswK5z2BNorALI25RvMmRpQ48Eh8PxaO1Tt8v5+StsHSkHfQFcID5TyyznnM5kFNvBDo7ucePTdd9U2r+zXwzhpAiH6D5wG53UNkAjbHk0uNzLDz63FXRQbl9dsmcAi5EIInP234juVNDY3QYlOSyO8tzFfwsqlrngWKd8BWMklNVIb5r7UDMk4VvZtUIsHLOaZpfWMRFVxA4eZDKnp2bWdKjd6q6WNUDYT028HZvEjQBKwFB9Z8SlE4Ffv77p+nbYM/R7EizK6qOmljoKnL5FVMnN4Jp4OZNsdPYMwGrlqf3Y3SNFFcMbpCGOdWAOSJ9TlETfu4IpKWFbQz+ZgyL//UBmDcnCNzGb5u9QFXQAAADEBnvpqQn8AAAMAGIEyQI+7WUEBy/t1eJ8Qitwd+rMHgd4QBrM5xhPYqPM4EiYjYHYZAAACQkGa/UnhDyZTBTwz//6eEAAAAwAAAwAPl7Hc6bx1/wkpFIAcHFBWuABmMKW49Snqngb+y2HZrzuxjtw79tEe47VlMqR455PL6FGcnTGQEza/GUzKoewT2GcoFoDTjnAhJxqbraEyEIB3LvLBQkqSjmeadWjLr53os9+p4Kor/ZAzTchvyyA1RbeoJWuaTVeLLDn9Fdu69C0bZiL+dd8PRAUK5/D1JMBSjSyXRToqR8kUZxrO36c3R6xYbn3N9KcPtdMu6GcGUdrfIrljd6JVcoIC4ABoMtyFpeFfGWe0KJUaIZdak5Vhlds2CLtZ1jqd6U6acsKL4951hWfitNLaxVxioG5tGKRE4a1pEZzdTu17umB4ZPB7IBCWGJJzgfSUADqxC83mkRDqASeuQdgOdxzCWZc5ucUzwG03SZ3e3RAAg9a2uoIn9mpSmuVJZJve1pveFyZoGeqc/T4WDa1fCymvf5uwwAxGc2o/9IYckZe+fjxuK4Pv4+CwDBg4RwZo2FrflBjhT8kd2mYBb39QtrQPgviriSYViGCwoAq+5hHf/ZM0ghJ4S0kgzF0beOVgEvRIUhybThN8f+Y6mgPKARubOpud/GSrFeD4OahaCaxpAFb/PMzYb+3Pwi6AZAKPEjf2X8gfpB+4aK0buJ8f8pSJGa2ilUfjceiPucv+AJego7OmJAHEgXThZticW8EHVpvJ0krfcmSw4uHgT0AqwITmmbk5N435AHgGvB3a3jUr4eEbzyQIz+lt4ql3IRWNhNDnAAAAMgGfHGpCfwAAAwAAAwAENiMXpHzCBSyMVqE9AAGygmUAyJJs4UFlNiKh+RUaM7JkVGmRAAAAUUGbHknhDyZTAhn//p4QAAADAAADAA+INDBA4e78Qc3KUR5y/GAGv3gbl/8U1KDcxp7+x9Cv91fARVQeb0e0gQLSHYAu92U//33QvKxGYLQ4YAAAAFJBmyFJ4Q8mUwIZ//6eEAAAAwAAAwAPlwnR6JpeV6pDiypeb6e0pMvFgqCAGnqVahZ+Y04gmcleyjy0/IV9GreLMEvNoAZqr1qien+KfOU9eS2mAAAALkGfX0URPCv/AAADAAADAANMP+P0vEJ6IYW1zGHPV4jbd59b7tUs62Z/rHkdy2EAAAATAZ9gakJ/AAADAAADAAAEl2+QcwAAAjpBm2JJqEFomUwIZ//+nhAAAAMARbjz4SV5oAHBxQVrgAZjCluPUp6p4G/sth2a87sY7cO/bRHuO2U5Cb78GTy+hRnJ0xkBM2vxlMyqHsE9hnKBaA045zzu9SJBcu8sFCSpKOZ5p1aMuvneiz36ngqiv9kDNQ711WYDVFt6gla5pNV4ssOf0V27r0LRtmIv513w9EBQsrWDTZWSlGlkuinRUj5IozjWdv05uj1kIemB6VsKKBOWMEM4Mo7W+RXLG70SrAZbmE6b5OzAp6onDUeGXWpOVYZXbNgi7WdY6qg2Nz/eFF8e86wrPxWmltYq4xUDc2jFIicNa0iNGsMPbnd0wtj5bG1Ew+4gT1cD6SgAdWIXm80iIdQHOJtaEBzuOYSzLnNzimeA2m6TO79AoFT8UdJZ9k1kMwU3T6/7kBBYmaBnrvoucOijrs5zRi4biD4Amjqige1UTz+QsXclQPLsijJ+PgsAwYOEcGaNha35QY4U9fGE0zALe/qFtaB8F8VcSTCsQwWFAFX3MI7/7JmkEJPCWkkGYujbysoS+dkY8BN8f+Y6mgPKARubOpuQ07OoK8Hwc1C0E1jSAK3+eZl3n7sfzMKgyAUeJG/sv5A/SD9w0Vo3cT4H6E5jy62ilUfjceiPucv+AJego7OmJAHEgXThZticW1Q59qfmKDunF7RYcnoBVgQnM44p3ElvkAeAa8HdreNSvh4RvPJAjP6W3iqXchFaDfrbng1O8AbGtAAJ6FC/xNkHiOEAAAJcQZuDSeEKUmUwIZ/+nhAAAAMAWzffwkrzQAODigrXAAzGFLcepT1TwN/ZbDs153Yx24d+2iPcdspyE334Mnl9CjOTpjICZtfjKZlUPYJ7DOUC0Bpxzrj66uGWi9dchwyJnEJKko5nmnVoy6+d6LPfqeCqK/2QM0/9VVzAaotvUErXNJqvFlhz+iu3dehaNsxF/Ou+HogKFjB+X2aRpRpZLop0VI+SKM41nb9Obo9Y7bpgqbSnD7XTLuhnBlHa3yK5Y3eiVYcsdAsoE9c49ufoswKeqJw1Hhl1qTlWGV2zYIu1mcjhm6W63gV44+86wrPxWmltYq4xUCeH3PkROGu8xabvC8tfKQXZNHlTY1LInlOcD6SfYgXHVdPXSrVt3HW9B4DnccwlmXFazcHoDtbr6EHrhQABDtCg95TYkPwunJ7iAbhLKlmBXOewJtFYBZG3KN5kyNKHHit3VOWjtU7fL+fkrbB0pB30BXCA+U8ss56xZg3vDn7mI0tVTf8O+qbV/Zr4Zw0gRD9B84DUw3LyBZIxAH/E5lh59birooNy+u2TOARciEETn7b8R3KmhsboMSo+ABIcw4pE4SNBubs654FinfAVjJJTVSG+a+1AzJOFb2bLoNBtpN5pfWMRFVxA4eZDKnp2bKtN+/uquljVA2E9NvB2bxI0ASsBQfWfEotWySOy0PqCqClIxdAEmZXVR00sdBU5fIqpk5vBSCUF1JCo4lh4XhwGrlqf3Y3SNFFcMbpCGOdWAOSJ/HuA2ddwRSUsK2hn8zBkX/+oDMG5OEbmM3zd66ILHoABNwAAAl9Bm6RJ4Q6JlMCG//6nhAAAAwAXX3hLeCBuszqMaOn5cxqWoo81jtYAEmAARnicNPdnw2/g3crgCImewZYwaUB+WfFu6rxgvzhh4MzamM2UXRT974JhnyZkyAwJ0sN2VJmcZYirIGHODHiCyKXVk65gacf13sYJgI3Xe2oFyWC9ZwC6zL4D9LIu/VhDUOrsgZykzQs2ByNoF987MS7i8U6lP7E8I+Z5dSzEaC2N0f3hQsApPQxWA0469OmoJiDH9kZ7d5fpvdHrDUlMEMqx9/YAbZUfBbTbmxYVaaBqafdkXePJ5MsUKjSJwzsBsCkTlKGV2zqny1EHCtosUwJECZc28Bct1ip0xhxVxi9kMPufNtlvd5i0zJ4uy8oQsYaulT8Ehw8QbhibZ0kzZCgninpRu3AKJtdgTn3iheAJiA+Jb0x1OF9CC4jp6iXfX/2hiW0y3exxJtBNK6fH1eHuFMH7T3dDC32ipRDJDIsZJZD3oueStQCvPr/eFcIAlTyyznuawV0id7eT3wJ7Iixkukn0ZaAy8osmwNKrInAZlG5eQLKY4rGL1Akn+juLm0+hHORvQsB47rIi1m3dypqLrwVdxEXuRv4loa3I8xZZE5grIHYaR7fcp6V9qBmaaZUkTnnmDlA63/bsBhclrRw8yIliB84P6VFvKhHmVMvXshmaEkHr3Pf+QHF8c3qIZwK/hMvzIQB8ruHVNZ3FbVM7MjoK44xXSfE4nEFyTbHqj8yXTiGen2EXA4sJ+pkhDHOvAHJE91yiJv6goAYtrS1SMmxcb//r4F1tsXYDRgrPXXYXAAACQEGbyEnhDyZTAhf//oywAAADAAADAA+vCdNd9fI/OQiUAIe35QYgAZjBGuVVMo0bh/k4RwYoVvcGod+wNn8dDLXK9G3lWAe8wwYzNR2Za/GUzKoewTYoPYHJYyHN9udiIU62K4u9Ve9zDISS17GWbfiad1870We/SgK8fSw8+A0LFaFIGcPswQhTuLVeLLDn9Fdu67C0bZiJSId6vRAUK88hFKL7RaSyXRGVrrQzp8VO2X6R3R6xZPn6OSaUPtdLOCGcGUdreupVjV6JVcoJ1gAJmT5Gi+JOpaeeqJw1HhDvx1eypU7JPwXXzrHU86J0lwttwtF8WrcrWG4LTtTxilG5tGKN7fRjjH5z35srd3S+Veqb/0sj7idYjYKIP6cdKyEf4t41lAJkXItAKvnNZmyd7mXAhQHM3SZ3e3HABZF0ddQSVrwmTWQzBcOpu1pveIpEnBRjhfUAEkQJcKymvf5uwwBXKZtSAORfHrhwC9EuhC7AZ5IRGs4OXqSxp+6LnbSdbLRpVycVTzuA9z4GPgve0diSViERTkAq+5hHhbBK8ghJ4S03gzF0beOagHm/iRNguJPE4gMY6mgPKAQ+HOpufPGSrFVr4PShaCaxpAFYPPMzYr+6jt3iAZAKPEjbECTeX4h+4cETlXdmxO25jmaGilzJh2OMlQlSQCJegbe3LIea6NjQEZticW8MIVcyY/B99hwgREusOT0AyOITmmLk5N475AHgGwnVa3jTN4eEXSSQIz+lt2ml3IRWNkwrmQAAAE9Bn+ZFETwr/wAAlVD6+gKvMgP6CJoCkBMFwN3ZKuRNiqjIH1bjHKAPxtWhM5bvVLpQleuPKJ2GSPT1IclKqkbX1E34wPEab4adEZPiyEs5AAAALwGeBXRCfwAAw/m412SHoWyAd0IDNlFqmdD0/kkyzGu3MSG9+XKXmOQKFipXEsixAAAAHgGeB2pCfwAAxDxY2dCI9lsAZIz4AW7/6UGiCMWPSAAAAFdBmglJqEFomUwIX//+jLAAAAMAAAMAD6DA0uEl9f4+uMQvOYa7lAoACE9LsL2KY6WJxcLDwp/eeF+8P9fBsMhEuwClg5l+HU9bKjlicyhtzUV7LfTEOGAAAAJZQZoqSeEKUmUwIZ/+nhAAAAMAWzffwkrzQAODigrXAAzGFLcepT1TwN/ZbDs153Yx24d+2iPcdspyE334Mnl9CjOTpjICZtfjKZlUPYJ7DOUC0Bpxznnd6kSC5d5YKElSUczzTq0ZdfO9Fnv1PBVFf7IGah3rqswGqLb1BK1zSarxZYc/ort3XoWjbMRfzrvh6IChZWsGmyslKNLJdFOipHyRRnGs7fpzdHrIQ9MD0rYUUCcsYIZwZR2t8iuWN3olWAy3MJ03ydmBT1ROGo8MutScqwyu2bBF2szkcO9jc/3hRfHvOsKz8VppbWKuMVAnh9z5EThrvMWqKQj253scI+WxtRMPuIE9XA+kn2IFx1XT10q1bhhNJJkBzuOYSzLitZuD0B2t19CDoRCOJdPub8Lpye4gG4SypZgVznsCbRWAWRtyjeZMjShx5NzW1o0dqnb5fz8lbYOlIO+gK4QHynllnPSE+P90725piNLVU3/Dvqm1f2a+GcNIEQ/QfOAx8Zy8gWSMQB/xOZYefW4q6KDcvrtkzgEXIhBE5+2/EdypobG6DEqlYLkb+IdntZVLXPAsU74CsZJKaqQ3zX2oGZJwrezZNbYOVM0zS+sYiKriBw8yGVPTs2TOdIknhpU6EpcSqYKihvEjQBKwFB9Z8SWoF6Y96idQVQUpGLoAkzK6qOmljoKnL5FVMnN4KGPQ6TbHT2DMBq5an92N0jRRXDG6QhjnVgDkies5RE37uCKSlhW0M/mYMi//1AZg3Jwjcxm+bvVuF7omiBDYBOm0gA1IoZeudIn/QQAAAllBmktJ4Q6JlMCGf/6eEAH91z8JK80ADg4oK1wAMxhS3HqU9U8Df2Ww7Ned2MduHftoj3HbKchN9+DJ5fQozk6YyAmbX4ymZVD2CewzlAtAacc553epEguXeWChJUlHM806tGXXzvRZ79TwVRX+yBmod66rMBqi29QStc0mq8WWHP6K7d16Fo2zEX8674eiAoWVrBpsrJSjSyXRToqR8kUZxrO36c3R6yEPTA9K2FFAnLGCGcGUdrfIrljd6JVgMtzCdN8nZgU9UThqPDLrUnKsMrtmwRdrM5HDvY3P94UXx7zrCs/FaaW1irjFQJ4fc+RE4a7zFqikI9ud7HCPlsbUTD7iBPVwPpJ9iBcdV09dKtW4YTSSZAc7jmEsy4rWbg9AdrdfQg6EQjiXT7m/C6cnuIBuEsqWYFc57Am0VgFkbco3mTI0oceTc1taNHap2+X8/JW2DpSDvoCuEB8p5ZZz0hPj/dO9uaYjS1VN/w76ptX9mvhnDSBEP0HzgMfGcvIFkjEAf8TmWHn1uKuig3L67ZM4BFyIQROftvxHcqaGxugxKpWC5G/iHZ7WVS1zwLFO+ArGSSmqkN819qBmScK3s2TW2DlTNM0vrGIiq4gcPMhlT07NkznSJJ4aVOhKXEqmCoobxI0ASsBQfWfElqBemPeonUFUFKRi6AJMyuqjppY6Cpy+RVTJzeChj0Ok2x09gzAauWp/djdI0UVwxukIY51YA5InrOURN+7gikpYVtDP5mDIv/9QGYNycI3MZvm71bhe6JogQ2ATptIANSKF7na6Nfb4AB0wAAAAT0GabEnhDyZTAhn//p4QAf3hOj0TOY31tI/glVWUZaCsUVXAawRw2pSHAfvF10cNtXuqGt6gBXAViuPEylhbFRY7SqUrxY8iM5THO4AAnYAAAAJAQZqOSeEPJlMFETwv//6MsAAAAwBb+ZcvDdfI/OQiUAIe35QYgAZjBGuVVMo0bh/k4RwYoVvcGod+wNn8dDLXK9G3lWAe8wwYzNR2Za/GUzKoewTYoPYHJYyHN9udiIU62K4u9Ve9zDISS17GWbfiad1870We/SgK8fSw8+A0LFaFIGcPswQhTuLVeLLDn9Fdu67C0bZiJSId6vRAUK88hFKL7RaSyXRGVrrQzp8VO2X6R3R6xZPn6OSaUPtdLOCGcGUdreupVjV6JVcoJ1gAJmT5Gi+JOpaeeqJw1HhDvx1eypU7JPwXXzrHU86J0lwttwtF8WrcrWG4LTtTxilG5tGKN7fRjjH5z35srd3S+Veqb/0sj7idYjYKIP6cdKyEf4t41lAJkXItAKvnNZmyd7mXAhQHM3SZ3e3HABZF0ddQSVrwmTWQzBcOpu1pveIpEnBRjhfUAEkQJcKymvf5uwwBXKZtSAORfHrhwC9EuhC7AZ5IRGs4OXqSxp+6LnbSdbLRpVycVTzuA9z4GPgve0diSViERTkAq+5hHhbBK8ghJ4S03gzF0beOaggBriIY3M4wm+PL3XfKmzoGTPzqbmnva/JmxthP8v7gUDQCUUJJS9R/h2dGIUGQCjxI2xAk3l+IfuHBE5V3ZqztuY5ahopcyYdjjJUJUkAiXoG3tyyHmujY0BGbYnE9aWXi/e6H32HCBES6w5PQDI4hOaQ6ARJjvkAeAbCdVreNM3h4RdJJAjP6W3aaXchFXpDRQAInAAAAMQGerWpCfwAAAwAYgTJekfMIFLIxWoT0AAbKCZQDIkmzhQWU2IqH5FRozsmRUUAAEbEAAAI4QZqvSeEPJlMCF//+jLABltafCSzJABwW+UGIAGYwRrlVTKNG4f5OEcGKFb3BqHfsDZ/HRIOYm+o+VYB7zDBjM1HZlr8ZTMqh7BNig9gcljIc5tDerIFY6SGcQklr2Ms2/E07r53os9+lAV4+lh58B4wYLQk/fEMwQhTuLVeLLDn9Fdu67C0bZiJSId6vRAULK7g023xotJZLojK11oZ0+KnbL9I7o9ZBLxg/7KVVeOlnBDODKO1vXUqxq9EqwAS1VX/EnUtPPVE4ajwh346vZUqdkn4Lr51jqp/Y3GnttwtF8WrcrWG4LTtTxilG5tGKN7fRjjH6NSvnZe7pgGREnSpHR9xOsRsFEH9OOlZCP8W8aygOOza6gFXzmszZO9zLgQoDmbpM7vyOONAlaNBn2TWQzBcOpu1pveIpEnBRn8i52CO/l8KVK9/m7DAFcpm1HtUCbeGVCwusS6ELsBnkhEazg5epLGn7oudtJ1sserOU4qnncB7nwMfBe9o7EkrEIinIBV9zCPC2CV5BCTwlpvBmLo28rJ+voZFxJ4nEBjHU0B5QCHw51NyGHZzZmxthP8v7gUDQCUUJJSzK/XGdGIUGQCjxI2xAk3l+IfuHBE5V3ZgHQnMeXQ0UuZMOxxkqEqSARL0Db25ZDzXRsaAjNsTi2pvPukMxQd4wvaLDk9AMjiE5nCFO4kv8gDwDYTqtbxpm8PCLpJIEZ/S27TS7kIrQb9bY3nXUgDiFnABxRYhcziPjkABJwQAAAj1BmtBJ4Q8mUwIX//6MsAGW4Tprvr5H5yESgBD2/KDEADMYI1yqplGjcP8nCODFCt7g1Dv2Bs/joZa5Xo28qwD3mGDGZqOzLX4ymZVD2CbFB7A5LGQ5vtzsRCnWxXF3qr3uYZCSWvYyzb8TTuvneiz36UBXj6WHnwGhYrQpAzh9mCEKdxarxZYc/ort3XYWjbMRKRDvV6IChXnkIpRfaLSWS6IytdaGdPip2y/SO6PWLJ8/RyTSh9rpZwQzgyjtb11KsavRKrlBOsABMyfI0XxJ1LTz1ROGo8Id+Or2VKnZJ+C6+dY6nnROkuFtuFovi1blaw3BadqeMUo3NoxRvb6McY/Oe/Nlbu6Xyr1Tf+lkfcTrEbBRB/TjpWQj/FvGsoBMi5FoBV85rM2Tvcy4EKA5m6TO7244ALIujrqCSteEyayGYLh1N2tN7xFIk4KMcL6gAkiBLhWU17/N2GAK5TNqQByL49cOAXol0IXYDPJCI1nBy9SWNP3Rc7aTrZaNKuTiqedwHufAx8F72jsSSsQiKcgFX3MI8LYJXkEJPCWm8GYujbyPJA4owqNbLiTxOIDGOpoDygEPhzqbnGoa/JmxthP8v7gUDQCUUJJS+F/h2dGIUGQCjxI2xAk3l+IfuHBE5V3ZtDtuY5ahopcyYdjjJUJUkAiXoG3tyyHmujY0BGbYnFufiuUtXYn32HCBES6w5PQDI4hOaP31Nmg1ifoE2E6rW8aZvDwi6SSBGf0tu00u5CKx9gAAAwAAMuAAAABSQZrxSeEPJlMCF//+jLABlTvXRCX1/j64xC8vTQ5ngACFHpDwFGEt7qww6Jrl0+Uw+rnHypAQnBVZSybfYvSeOwAtj6abrMHdcgU0egAAAwABFwAAAFNBmxJJ4Q8mUwIX//6MsAGW4Tprvr3b+kS8WpeIjrY6i71AEAUQBBCqwxZjt3D88B/lBfE5/3JfgvNEW4iPVirnOmqqUO01H85PF9GDoAAAAwAccQAAAj1BmzNJ4Q8mUwIX//6MsAE56b01318j85CJQAh7flBiABmMEa5VUyjRuH+ThHBihW9wah37A2fx0Mtcr0beVYB7zDBjM1HZlr8ZTMqh7BNig9gcljIc3252IhTrYri71V73MMhJLXsZZt+Jp3XzvRZ79KArx9LDz4DQsVoUgZw+zBCFO4tV4ssOf0V27rsLRtmIlIh3q9EBQrzyEUovtFpLJdEZWutDOnxU7ZfpHdHrFk+fo5JpQ+10s4IZwZR2t66lWNXolVygnWAAmZPkaL4k6lp56onDUeEO/HV7KlTsk/BdfOsdTzonSXC23C0XxatytYbgtO1PGKUbm0Yo3t9GOMfnPfmyt3dL5V6pv/SyPuJ1iNgog/px0rIR/i3jWUAmRci0Aq+c1mbJ3uZcCFAczdJnd7ccAFkXR11BJWvCZNZDMFw6m7Wm94ikScFGOF9QASRAlwrKa9/m7DAFcpm1IA5F8euHAL0S6ELsBnkhEazg5epLGn7oudtJ1stGlXJxVPO4D3PgY+C97R2JJWIRFOQCr7mEeFsEryCEnhLTeDMXRt5HkiVfb3OOBUkeJxAYx1NAeUAh8OdTcz1lmGxlSZwvkrkCgaASihJKXYf7cG3eIBkAo8SNsQJN5fiH7hwROVd2aX2tmOSoaKXMmHY4yVCVJAIl6Bt7csh5ro2NARm2JxOvkbpauxPvsOECIl1hyegGRxCc0VvqbNBrE/QJsJ1Wt40zeHhF0kkCM/pbdppdyEVgQwAAAwAAYsAAAAJaQZtVSeEPJlMFETwn//3xAAj3RNrMajw8OD9kihWRY0lllksDqoECfD+IAAHm33O3gByrha+ZdyTcbflVp3Kwvf5IL8GKDvB20DlyLZ/AMIzr3vNTbkxaozkx5mZZ8pR6uMceOK/dSyJ/WZn1HnegPDl86WChJLXsZYjhPP6meVYuoARYkdWMgZoZrYyTq9kryTSL0/OXWmkqf6m9Vny+yqEVrm49BeiAoVIeiWZhCOPLX+MmIB1EmER4UgCn2uPV820vompC+Kbj0ymBGWm3NYkxHTDU0+wfDvWKFkEUKeqJwzsBPrEvZzSp2RmOLYZ/RvPAn9dWg97XqqfrNBbcMO1XALyOw+5oNsYH3mLUR0brL5S6lv7xiTSocHSaKwULKN8iuVoGUhCN23c9Ro62be54KZBK8HxLegMLh4oQWOpHErVZPWPI0nfrZh9pG0FzRgl6fI/tFWdyjekc/X6WwOAvruuYosQkCL3HQWtK+TwCuEB4W88F2Oxbk3XfE8HVfzu1ZDB75KVsSGYVFk2IXdB84DerqGyARvbtfMeoEl9Pinb6Dn29vMbv8DX2uByD9/S5/sfrwVdxJAR3luO5MYQWd8LWcEFiUzvHXRIAp19qCSRQK3s2p5ohlWedWUXbE3doGPIoIdiB84wf6TDKRfeVMvXshn90sXu5/f+QGl8c3qlJwK/fmfuC4CNq6l3qNhOKtx7c/yJBsYUEyc3gnhuck2xqpK7GluPDmv1Txm8QPTcxCQhj5VIDkifg5RE3rRN1774ESbJNuHc//A6wHEjyAMGCs9d4RuAAAAJOAZ90akJ/AD+A0t/CfAAqz6XcjBevzei2on/jMAvVnmo8uemINub1YqBbs0Tkuk4K9g8+TZz6jvtEFHyXdTqCwY4ZwaFJyB4OSJNy/05itrHFMg0hLnwjd/8FW5JviQnY1KUw/XxSAIHBkjpgWHTMD5EQ9oEqEkmeo+mHbmWhS3d+WKjHsk/NR5NW8FepJjZPvc1gD9uCRRBmylSKvZrhWYAxqBNveLEjCToeFr5l3JNxf9cJLIj6UB/kVu30lGBxTlwXVM6v0eWgg8StsfUTomLrz/Kp9ikGqYKoFjUzbnRCNZLiT84gZ60Y0dCKKQ23Qk1VYGIve70Jp4+pViPqd2Jcic2W3B+ltHu/9cdnVpEjIdOsEvefjHV+LKjIicY94jw8485zB0mtl13R7GJvPyk4ou33DOJ+TFdC8CE89Vj9B0PmBFKJznkyiwGDOddweMOR86H4IBkHTqfX6eKgD5zxk5nMaKi9T1FXogCr93YDPNXkw5jHhxUZQelNFnKcXt0fN0N8dFajU5OoW/9R5YkO5R+wwSQ37fbOdytgORgU12ZGSZIhUT6rgMNGpgrZsBx1EIwH2pJzPoCzB5hC/43xVSJO8z0UCJjuyQ4aeQpcwteGMPsOiCYnqep6I2O4Fz+4BxPfpgp3HQ9h7ai8Jm1gnkRMr2bMplbLuU5CVa43Y6KvAzfcxthYaGjSQKZSLMiIpfo+8gG7h1D5gtDhAPNMDPs7WA0PuFYMOA0pj7dioVOPwB3jHqBAAAAT3s4EVM3YITMloqCEQUtAloEAAATabW9vdgAAAGxtdmhkAAAAAAAAAAAAAAAAAAAD6AAAFRgAAQAAAQAAAAAAAAAAAAAAAAEAAAAAAAAAAAAAAAAAAAABAAAAAAAAAAAAAAAAAABAAAAAAAAAAAAAAAAAAAAAAAAAAAAAAAAAAAAAAAAAAgAABAR0cmFrAAAAXHRraGQAAAADAAAAAAAAAAAAAAABAAAAAAAAFRgAAAAAAAAAAAAAAAAAAAAAAAEAAAAAAAAAAAAAAAAAAAABAAAAAAAAAAAAAAAAAABAAAAAAyAAAAHgAAAAAAAkZWR0cwAAABxlbHN0AAAAAAAAAAEAABUYAAAIAAABAAAAAAN8bWRpYQAAACBtZGhkAAAAAAAAAAAAAAAAAAAoAAAA2ABVxAAAAAAALWhkbHIAAAAAAAAAAHZpZGUAAAAAAAAAAAAAAABWaWRlb0hhbmRsZXIAAAADJ21pbmYAAAAUdm1oZAAAAAEAAAAAAAAAAAAAACRkaW5mAAAAHGRyZWYAAAAAAAAAAQAAAAx1cmwgAAAAAQAAAudzdGJsAAAAl3N0c2QAAAAAAAAAAQAAAIdhdmMxAAAAAAAAAAEAAAAAAAAAAAAAAAAAAAAAAyAB4ABIAAAASAAAAAAAAAABAAAAAAAAAAAAAAAAAAAAAAAAAAAAAAAAAAAAAAAAAAAAGP//AAAAMWF2Y0MBZAAW/+EAGGdkABas2UDIPaEAAAMAAQAAAwAUDxYtlgEABmjr48siwAAAABhzdHRzAAAAAAAAAAEAAAA2AAAEAAAAABRzdHNzAAAAAAAAAAEAAAABAAABAGN0dHMAAAAAAAAAHgAAAAkAAAgAAAAAAQAADAAAAAABAAAEAAAAAAIAAAgAAAAAAQAADAAAAAABAAAEAAAAAAYAAAgAAAAAAQAADAAAAAABAAAEAAAAAAEAAAgAAAAAAQAADAAAAAABAAAEAAAAAAEAAAwAAAAAAQAABAAAAAABAAAMAAAAAAEAAAQAAAAAAQAACAAAAAABAAAQAAAAAAIAAAQAAAAAAwAACAAAAAABAAAUAAAAAAEAAAgAAAAAAQAAAAAAAAABAAAEAAAAAAQAAAgAAAAAAQAADAAAAAABAAAEAAAAAAUAAAgAAAAAAQAADAAAAAABAAAEAAAAABxzdHNjAAAAAAAAAAEAAAABAAAANgAAAAEAAADsc3RzegAAAAAAAAAAAAAANgAACUQAAAKLAAACQgAAAjwAAABTAAACRQAAAE4AAAJgAAAASgAAAj4AAAA1AAAATgAAAmAAAABLAAAALQAAAj8AAAJhAAACXgAAAl0AAABXAAAAUgAAAFUAAAAuAAACQwAAAEkAAAAuAAACYQAAADUAAAJGAAAANgAAAFUAAABWAAAAMgAAABcAAAI+AAACYAAAAmMAAAJEAAAAUwAAADMAAAAiAAAAWwAAAl0AAAJdAAAAUwAAAkQAAAA1AAACPAAAAkEAAABWAAAAVwAAAkEAAAJeAAACUgAAABRzdGNvAAAAAAAAAAEAAAAwAAAAYnVkdGEAAABabWV0YQAAAAAAAAAhaGRscgAAAAAAAAAAbWRpcmFwcGwAAAAAAAAAAAAAAAAtaWxzdAAAACWpdG9vAAAAHWRhdGEAAAABAAAAAExhdmY1Ny44My4xMDA=\" type=\"video/mp4\" />\n",
              "                 </video>"
            ],
            "text/plain": [
              "<IPython.core.display.HTML object>"
            ]
          },
          "metadata": {
            "tags": []
          }
        }
      ]
    },
    {
      "cell_type": "markdown",
      "metadata": {
        "id": "snmFW5Bzqpwj"
      },
      "source": [
        "# Implementing Value Iteration\n",
        "\n",
        "1. Write a function ``bellman_operator`` that takes as input a function $Q$ and returns $T^* Q$.\n",
        "2. Write a function  ``value_iteration`` that returns a function $Q$ such that $||Q-T^* Q||_\\infty \\leq \\varepsilon$\n",
        "3. Evaluate the performance of the policy $\\pi(s) = \\arg\\max_a Q(s, a)$, where Q is returned by ``value_iteration``."
      ]
    },
    {
      "cell_type": "code",
      "metadata": {
        "id": "RPIOmpjkq0YX"
      },
      "source": [
        "def bellman_operator(Q, env, gamma=0.99):\n",
        "  S = env.observation_space.n\n",
        "  A = env.action_space.n \n",
        "  TQ = np.zeros((S, A))\n",
        "\n",
        "  # to complete...\n",
        "\n",
        "  return TQ"
      ],
      "execution_count": 26,
      "outputs": []
    },
    {
      "cell_type": "code",
      "metadata": {
        "id": "tEKAtA1LsYFx"
      },
      "source": [
        "def value_iteration(env, gamma=0.99, epsilon=1e-6):\n",
        "  S = env.observation_space.n\n",
        "  A = env.action_space.n \n",
        "  Q = np.zeros((S, A))\n",
        "\n",
        "  # to complete...\n",
        "\n",
        "  return Q"
      ],
      "execution_count": 27,
      "outputs": []
    },
    {
      "cell_type": "code",
      "metadata": {
        "id": "rZ7k-rDLssSk",
        "outputId": "e0cb4665-099d-4527-cb33-b5e57faba505",
        "colab": {
          "base_uri": "https://localhost:8080/",
          "height": 438
        }
      },
      "source": [
        "Q_vi = value_iteration(env)\n",
        "\n",
        "# Following value iteration policy \n",
        "state = env.reset()     \n",
        "env.enable_rendering()  \n",
        "for tt in range(100):   \n",
        "  action = Q_vi[state, :].argmax()\n",
        "  next_state, reward, is_terminal, info = env.step(action)\n",
        "  if is_terminal:\n",
        "    break\n",
        "  state = next_state\n",
        "\n",
        "# save video (run last cell to visualize it!)\n",
        "env.save_video('./videos/value_iteration_policy.mp4', framerate=10)\n",
        "# clear rendering data\n",
        "env.clear_render_buffer()\n",
        "# see video\n",
        "show_video(filename='./videos/value_iteration_policy.mp4')"
      ],
      "execution_count": 31,
      "outputs": [
        {
          "output_type": "stream",
          "text": [
            "videos/value_iteration_policy.mp4\n"
          ],
          "name": "stdout"
        },
        {
          "output_type": "display_data",
          "data": {
            "text/html": [
              "<video alt=\"videos/value_iteration_policy.mp4\" autoplay \n",
              "                      loop controls style=\"height: 400px;\">\n",
              "                      <source src=\"data:video/mp4;base64,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\" type=\"video/mp4\" />\n",
              "                 </video>"
            ],
            "text/plain": [
              "<IPython.core.display.HTML object>"
            ]
          },
          "metadata": {
            "tags": []
          }
        }
      ]
    },
    {
      "cell_type": "markdown",
      "metadata": {
        "id": "1Uw6LVyVulOX"
      },
      "source": [
        "# Implementing Q-Learning\n",
        "\n",
        "Implement a function ``q_learning`` that takes as input an environment, runs Q learning for $T$ time steps and returns $Q_T$. \n",
        "\n",
        "Test different learning rates:\n",
        "  * $\\alpha_t(s, a) = \\frac{1}{\\text{number of visits to} (s, a)}$\n",
        "  * $\\alpha_t(s, a) =$ constant in $]0, 1[$\n",
        "  * others?\n",
        "\n",
        "Test different initializations of the Q function and try different values of $\\varepsilon$ in the $\\varepsilon$-greedy exploration!\n",
        "\n",
        "It might be very useful to plot the difference between the Q-learning approximation and the output of value iteration above, as a function of time.\n"
      ]
    },
    {
      "cell_type": "code",
      "metadata": {
        "id": "OrhUOlrfv6xp"
      },
      "source": [
        "def q_learning(env, gamma=0.99, T=5000, Q_vi=None):\n",
        "  \"\"\"\n",
        "  Q_vi is the output of value iteration.\n",
        "  \"\"\"\n",
        "  S = env.observation_space.n\n",
        "  A = env.action_space.n \n",
        "  error = np.zeros(T)\n",
        "  Q = np.zeros((S, A))  # can we improve this initialization? \n",
        "\n",
        "  state = env.reset()\n",
        "    # to complete...\n",
        "  for tt in range(T):\n",
        "    # choose action a_t\n",
        "    # ...\n",
        "    # take action, observe next state and reward \n",
        "    # ...\n",
        "    # compute delta_t\n",
        "    # ...\n",
        "    # update Q\n",
        "    # ...\n",
        "\n",
        "    error[tt] = np.abs(Q-Q_vi).max()\n",
        "  \n",
        "  plt.plot(error)\n",
        "  plt.xlabel('iteration')\n",
        "  plt.title('Q-Learning error')\n",
        "  plt.show()\n",
        "  \n",
        "  return Q "
      ],
      "execution_count": 32,
      "outputs": []
    },
    {
      "cell_type": "code",
      "metadata": {
        "id": "fOetdWM4xhLt",
        "colab": {
          "base_uri": "https://localhost:8080/",
          "height": 716
        },
        "outputId": "3bf9bd60-b658-46d2-f26b-ef57b4bb31e3"
      },
      "source": [
        "Q_ql = q_learning(env, Q_vi=Q_vi)\n",
        "\n",
        "# Following Q-Learning policy \n",
        "state = env.reset()     \n",
        "env.enable_rendering()  \n",
        "for tt in range(100):   \n",
        "  action = Q_ql[state, :].argmax()\n",
        "  next_state, reward, is_terminal, info = env.step(action)\n",
        "  if is_terminal:\n",
        "    break\n",
        "  state = next_state\n",
        "\n",
        "# save video (run last cell to visualize it!)\n",
        "env.save_video('./videos/q_learning_policy.mp4', framerate=10)\n",
        "# clear rendering data\n",
        "env.clear_render_buffer()\n",
        "# see video\n",
        "show_video(filename='./videos/q_learning_policy.mp4')"
      ],
      "execution_count": 33,
      "outputs": [
        {
          "output_type": "display_data",
          "data": {
            "image/png": "[encoded data removed]",
            "text/plain": [
              "<Figure size 432x288 with 1 Axes>"
            ]
          },
          "metadata": {
            "tags": [],
            "needs_background": "light"
          }
        },
        {
          "output_type": "stream",
          "text": [
            "videos/q_learning_policy.mp4\n"
          ],
          "name": "stdout"
        },
        {
          "output_type": "display_data",
          "data": {
            "text/html": [
              "<video alt=\"videos/q_learning_policy.mp4\" autoplay \n",
              "                      loop controls style=\"height: 400px;\">\n",
              "                      <source src=\"data:video/mp4;base64,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\" type=\"video/mp4\" />\n",
              "                 </video>"
            ],
            "text/plain": [
              "<IPython.core.display.HTML object>"
            ]
          },
          "metadata": {
            "tags": []
          }
        }
      ]
    }
  ]
}