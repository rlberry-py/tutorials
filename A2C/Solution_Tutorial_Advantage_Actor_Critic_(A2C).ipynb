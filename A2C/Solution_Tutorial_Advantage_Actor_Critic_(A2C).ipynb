{
  "nbformat": 4,
  "nbformat_minor": 0,
  "metadata": {
    "colab": {
      "name": "(Solution) Tutorial - Advantage Actor Critic (A2C).ipynb",
      "provenance": [],
      "collapsed_sections": [],
      "authorship_tag": "ABX9TyOTk8tArP3yUhb0ckWR3jIr",
      "include_colab_link": true
    },
    "kernelspec": {
      "name": "python3",
      "display_name": "Python 3"
    }
  },
  "cells": [
    {
      "cell_type": "markdown",
      "metadata": {
        "id": "view-in-github",
        "colab_type": "text"
      },
      "source": [
        "<a href=\"https://colab.research.google.com/github/rlberry-py/tutorials/blob/main/A2C/(Solution)_Tutorial_Advantage_Actor_Critic_(A2C).ipynb\" target=\"_parent\"><img src=\"https://colab.research.google.com/assets/colab-badge.svg\" alt=\"Open In Colab\"/></a>"
      ]
    },
    {
      "cell_type": "markdown",
      "metadata": {
        "id": "FRvfou6G9RGn"
      },
      "source": [
        "# Tutorial - Advantage Actor Critic (A2C)\n",
        "\n",
        "A2C keeps two neural networks:\n",
        "*   One network with paramemeters $\\theta$ to represent the policy $\\pi_\\theta$.\n",
        "*   One network with parameters $\\omega$ to represent a value function $V_\\omega$, that approximates $V^{\\pi_\\theta}$\n",
        "\n",
        "\n",
        "At each iteration, A2C collects $M$ transitions $(s_i, a_i, r_i, s_i')_{i=1}^M$ by following the policy $\\pi_\\theta$. If a terminal state is reached, we simply go back to the initial state and continue to play $\\pi_\\theta$ until we gather the $M$ transitions.\n",
        "\n",
        "Consider the following quantities, defined based on the collected transitions:\n",
        "\n",
        "$$\n",
        "\\widehat{V}(s_i) = \\widehat{Q}(s_i, a_i) = \\sum_{t=i}^{\\tau_i \\wedge M} \\gamma^{t-i} r_t + \\gamma^{M-i+1} V_\\omega(s_M')\\mathbb{I}\\{\\tau_i>M\\}\n",
        "$$\n",
        "\n",
        "where and $\\tau_i = \\min\\{t\\geq i: s_i' \\text{ is a terminal state}\\}$, and \n",
        "\n",
        "$$\n",
        "\\mathbf{A}_\\omega(s_i, a_i) = \\widehat{Q}(s_i, a_i) -  V_\\omega(s_i)  \n",
        "$$\n",
        "\n",
        "\n",
        "A2C then takes a gradient step to minimize the policy \"loss\" (keeping $\\omega$ fixed):\n",
        "\n",
        "$$\n",
        "L_\\pi(\\theta) =\n",
        "-\\frac{1}{M} \\sum_{i=1}^M \\mathbf{A}_\\omega(s_i, a_i) \\log \\pi_\\theta(a_i|s_i)\n",
        "- \\frac{\\alpha}{M}\\sum_{i=1}^M \\sum_a  \\pi(a|s_i) \\log \\frac{1}{\\pi(a|s_i)}\n",
        "$$\n",
        "\n",
        "and a gradient step to minimize the value loss (keeping $\\theta$ fixed):\n",
        "\n",
        "$$\n",
        "L_v(\\omega) = \\frac{1}{M} \\sum_{i=1}^M \\left( \\widehat{V}(s_i) - V_\\omega(s_i)   \\right)^2\n",
        "$$\n",
        " \n",
        "\n",
        "\n",
        "# Reminders\n",
        "\n",
        "\n",
        "Objective function:\n",
        "\n",
        "$$\n",
        "J(\\theta) = \\mathbb{E}_{\\pi_\\theta}\n",
        "\\left[ \n",
        "  \\sum_{t=0}^\\infty \\gamma^t r(S_t, A_t)\n",
        "\\right]\n",
        "$$\n",
        "\n",
        "Policy gradient:\n",
        "\n",
        "$$\n",
        "\\nabla_\\theta J(\\theta)= \\mathbb{E}_{\\pi_\\theta}\n",
        "\\left[ \n",
        "  \\sum_{t=0}^\\infty \\gamma^t A^{\\pi_\\theta}(S_t, A_t) \n",
        "  \\nabla_\\theta \\log \\pi_\\theta(A_t|S_t)\n",
        "\\right]\n",
        "$$\n",
        "where $A^{\\pi_\\theta}(s, a) = Q^{\\pi_\\theta}(s, a) - V^{\\pi_\\theta}(s) $ is the advantage function."
      ]
    },
    {
      "cell_type": "markdown",
      "metadata": {
        "id": "Er4wbIih9e24"
      },
      "source": [
        "# Colab setup"
      ]
    },
    {
      "cell_type": "code",
      "metadata": {
        "colab": {
          "base_uri": "https://localhost:8080/"
        },
        "id": "O12jMLD29DAU",
        "outputId": "6c74dcf8-7447-4374-b70b-5f112115cc3f"
      },
      "source": [
        "# After installing, restart the kernel\n",
        "\n",
        "# install rlberry library\n",
        "!git clone https://github.com/rlberry-py/rlberry.git \n",
        "!cd rlberry && git pull && pip install -e .[full] > /dev/null 2>&1\n",
        "!pip install ffmpeg-python > /dev/null 2>&1\n",
        "\n",
        "# gym\n",
        "!pip install 'gym[all]' > /dev/null 2>&1\n",
        "\n",
        "# packages required to show video\n",
        "!pip install pyvirtualdisplay > /dev/null 2>&1\n",
        "!apt-get install -y xvfb python-opengl ffmpeg > /dev/null 2>&1\n",
        "\n",
        "# ask to restart runtime\n",
        "print(\"\")\n",
        "print(\" ~~~  Libraries installed, please restart the runtime! ~~~ \")\n",
        "print(\"\")"
      ],
      "execution_count": null,
      "outputs": [
        {
          "output_type": "stream",
          "text": [
            "Cloning into 'rlberry'...\n",
            "remote: Enumerating objects: 491, done.\u001b[K\n",
            "remote: Counting objects: 100% (491/491), done.\u001b[K\n",
            "remote: Compressing objects: 100% (309/309), done.\u001b[K\n",
            "remote: Total 3560 (delta 296), reused 335 (delta 179), pack-reused 3069\u001b[K\n",
            "Receiving objects: 100% (3560/3560), 889.06 KiB | 1.22 MiB/s, done.\n",
            "Resolving deltas: 100% (2290/2290), done.\n",
            "Already up to date.\n",
            "\n",
            " ~~~  Libraries installed, please restart the runtime! ~~~ \n",
            "\n"
          ],
          "name": "stdout"
        }
      ]
    },
    {
      "cell_type": "code",
      "metadata": {
        "id": "gKOp4h0Oe9-X"
      },
      "source": [
        "import gym\r\n",
        "from gym import logger as gymlogger\r\n",
        "from gym.wrappers import Monitor\r\n",
        "gymlogger.set_level(40)  # error only\r\n",
        "\r\n",
        "import torch\r\n",
        "import torch.nn as nn\r\n",
        "import torch.nn.functional as F \r\n",
        "from torch import optim\r\n",
        "\r\n",
        "import numpy as np\r\n",
        "\r\n",
        "\r\n",
        "# for videos\r\n",
        "import rlberry.colab_utils.display_setup\r\n",
        "from rlberry.colab_utils.display_setup import show_video"
      ],
      "execution_count": null,
      "outputs": []
    },
    {
      "cell_type": "code",
      "metadata": {
        "id": "MESFRbWdfA6P"
      },
      "source": [
        "class ActorNetwork(nn.Module):\r\n",
        "    \"\"\"\r\n",
        "     This network represents the policy\r\n",
        "    \"\"\"\r\n",
        "\r\n",
        "    def __init__(self, input_size, hidden_size, action_size):\r\n",
        "        super(ActorNetwork, self).__init__()\r\n",
        "        self.n_actions = action_size\r\n",
        "        self.dim_observation = input_size\r\n",
        "        \r\n",
        "        self.net = nn.Sequential(\r\n",
        "            nn.Linear(in_features=self.dim_observation, out_features=hidden_size),\r\n",
        "            nn.ReLU(),\r\n",
        "            nn.Linear(in_features=hidden_size, out_features=hidden_size),\r\n",
        "            nn.ReLU(),\r\n",
        "            nn.Linear(in_features=hidden_size, out_features=self.n_actions),\r\n",
        "            nn.Softmax(dim=-1)\r\n",
        "        )\r\n",
        "        \r\n",
        "    def policy(self, state):\r\n",
        "        state = torch.tensor(state, dtype=torch.float)\r\n",
        "        return self.net(state)\r\n",
        "    \r\n",
        "    def sample_action(self, state):\r\n",
        "        state = torch.tensor(state, dtype=torch.float)\r\n",
        "        action = torch.multinomial(self.policy(state), 1)\r\n",
        "        return action.item()"
      ],
      "execution_count": null,
      "outputs": []
    },
    {
      "cell_type": "code",
      "metadata": {
        "id": "R_DHHAQNfD7Z"
      },
      "source": [
        "class ValueNetwork(nn.Module):\r\n",
        "  \"\"\"\r\n",
        "   This class represents the value function\r\n",
        "  \"\"\"\r\n",
        "\r\n",
        "  def __init__(self, input_size, hidden_size, output_size):\r\n",
        "      super(ValueNetwork, self).__init__()\r\n",
        "      self.fc1 = nn.Linear(input_size, hidden_size)\r\n",
        "      self.fc2 = nn.Linear(hidden_size, hidden_size)\r\n",
        "      self.fc3 = nn.Linear(hidden_size, output_size)\r\n",
        "\r\n",
        "  def forward(self, x):\r\n",
        "      out = F.relu(self.fc1(x))\r\n",
        "      out = F.relu(self.fc2(out))\r\n",
        "      out = self.fc3(out)\r\n",
        "      return out\r\n",
        "  \r\n",
        "  def value(self, state):\r\n",
        "      state = torch.tensor(state, dtype=torch.float)\r\n",
        "      return self.forward(state)"
      ],
      "execution_count": null,
      "outputs": []
    },
    {
      "cell_type": "code",
      "metadata": {
        "id": "_Ry-b3HgfGx5",
        "colab": {
          "base_uri": "https://localhost:8080/"
        },
        "outputId": "8e2bc307-ebdc-4a92-d8d8-d087725b38f4"
      },
      "source": [
        "# You can select your environment here\r\n",
        "env_id = 'CartPole-v1'  # @param [\"CartPole-v1\", \"LunarLander-v2\", \"MountainCar-v0\"]\r\n",
        "env = gym.make(env_id)\r\n",
        "eval_env = gym.make(env_id) # environment to evaluate the policy"
      ],
      "execution_count": null,
      "outputs": [
        {
          "output_type": "stream",
          "text": [
            "INFO: Making new env: CartPole-v1\n",
            "INFO: Making new env: CartPole-v1\n"
          ],
          "name": "stdout"
        }
      ]
    },
    {
      "cell_type": "code",
      "metadata": {
        "colab": {
          "base_uri": "https://localhost:8080/"
        },
        "id": "h65dXIY5fMZg",
        "outputId": "8680e55f-e934-4728-ceaa-3a0acf2cfaeb"
      },
      "source": [
        "# Define you networks\r\n",
        "value_network = ValueNetwork(env.observation_space.shape[0], 16, 1)\r\n",
        "actor_network = ActorNetwork(env.observation_space.shape[0], 16, env.action_space.n)\r\n",
        "print(value_network)\r\n",
        "print(actor_network)\r\n",
        "\r\n",
        "# Define your optimizers\r\n",
        "value_network_optimizer = torch.optim.RMSprop(value_network.parameters(), lr=0.01)\r\n",
        "actor_network_optimizer = torch.optim.RMSprop(actor_network.parameters(), lr=0.01)\r\n",
        "\r\n",
        "# --------------------------------------------------------------\r\n",
        "# Parameters\r\n",
        "# --------------------------------------------------------------\r\n",
        "num_iterations = 300     # Number of iterations\r\n",
        "batch_size = 512         # How many samples to collect (value of M)\r\n",
        "gamma = 1                # Discount factor\r\n",
        "alpha = 0.001            # Entropy term coefficient\r\n",
        "reward_threshold = 495   # Stop training when the policy achieves this amound of rewards\r\n",
        "\r\n",
        "\r\n",
        "# --------------------------------------------------------------\r\n",
        "# Train\r\n",
        "# --------------------------------------------------------------\r\n",
        "for iteration in range(num_iterations):\r\n",
        "    # Initialize batch storage\r\n",
        "    batch_losses = torch.zeros(batch_size)\r\n",
        "    batch_returns = np.zeros(batch_size)\r\n",
        "\r\n",
        "\r\n",
        "    states = np.empty((batch_size,) + env.observation_space.shape, dtype=np.float)        # shape (batch_size, state_dim)\r\n",
        "    rewards = np.empty((batch_size,), dtype=np.float)                                     # shape (batch_size, )                                 \r\n",
        "    next_states = np.empty((batch_size,) + env.observation_space.shape, dtype=np.float)   # shape (batch_size, state_dim)\r\n",
        "    dones = np.empty((batch_size,), dtype=np.bool)                                        # shape (batch_size, ) \r\n",
        "    proba = torch.empty((batch_size,), dtype=np.float)                                    # shape (batch_size, ), store pi(a_t|s_t)\r\n",
        "    next_value = 0                               # \r\n",
        "  \r\n",
        "    # Intialize environment\r\n",
        "    state = env.reset()\r\n",
        "\r\n",
        "  # Generate batch\r\n",
        "    for i in range(batch_size):\r\n",
        "        action = actor_network.sample_action(state)\r\n",
        "        next_state, reward, done, _ = env.step(action)\r\n",
        "\r\n",
        "        states[i] = state\r\n",
        "        rewards[i] = reward\r\n",
        "        next_states[i] = next_state\r\n",
        "        dones[i] = done\r\n",
        "        proba[i] = actor_network.policy(state)[action]\r\n",
        "\r\n",
        "        state = next_state\r\n",
        "        if done:\r\n",
        "          state = env.reset()\r\n",
        "\r\n",
        "    if not done:\r\n",
        "        next_value = value_network.value(next_states[-1]).detach().numpy()[0]\r\n",
        "\r\n",
        "    # compute returns\r\n",
        "    returns = np.zeros((batch_size,), dtype=np.float)\r\n",
        "    T = batch_size\r\n",
        "    for j in range(T):\r\n",
        "        returns[T-j-1] = rewards[T-j-1]\r\n",
        "        if j > 0:\r\n",
        "            returns[T-j-1] += gamma * returns[T-j] * (1 - dones[T-j])\r\n",
        "        else:\r\n",
        "            returns[T-j-1] += gamma * next_value\r\n",
        "\r\n",
        "    # compute advantage\r\n",
        "    values = value_network.value(states)\r\n",
        "    advantages = returns - values.detach().numpy().squeeze()\r\n",
        "\r\n",
        "    # Compute MSE\r\n",
        "    value_network_optimizer.zero_grad()\r\n",
        "    loss_value = F.mse_loss(values, torch.tensor(returns, dtype=torch.float).unsqueeze(1)) \r\n",
        "    loss_value.backward()\r\n",
        "    value_network_optimizer.step()\r\n",
        "\r\n",
        "    # compute entropy term\r\n",
        "    dist = actor_network.policy(states)\r\n",
        "    entropy_term = -(dist*dist.log()).sum(-1).mean()\r\n",
        "\r\n",
        "    # Compute Actor Gradient\r\n",
        "    actor_network_optimizer.zero_grad()\r\n",
        "    loss_policy = -torch.mean(torch.log(proba) * torch.tensor(advantages, dtype=torch.float))\r\n",
        "    loss_policy += -alpha * entropy_term\r\n",
        "    loss_policy.backward()\r\n",
        "    actor_network_optimizer.step()\r\n",
        "\r\n",
        "    if( (iteration+1)%10 == 0 ):\r\n",
        "        eval_rewards = np.zeros(5)\r\n",
        "        for sim in range(5):\r\n",
        "            eval_done = False\r\n",
        "            eval_state = eval_env.reset()\r\n",
        "            while not eval_done:\r\n",
        "                eval_action = actor_network.sample_action(eval_state)\r\n",
        "                eval_next_state, eval_reward, eval_done, _ = eval_env.step(eval_action)\r\n",
        "                eval_rewards[sim] += eval_reward\r\n",
        "                eval_state = eval_next_state\r\n",
        "        print(\"Iteration = {}, loss_value = {:0.3f}, loss_policy = {:0.3f}, rewards = {:0.2f}\"\r\n",
        "              .format(iteration +1, loss_value.item(), loss_policy.item(), eval_rewards.mean()))\r\n",
        "        if (eval_rewards.mean() > reward_threshold):\r\n",
        "            break"
      ],
      "execution_count": null,
      "outputs": [
        {
          "output_type": "stream",
          "text": [
            "ValueNetwork(\n",
            "  (fc1): Linear(in_features=4, out_features=16, bias=True)\n",
            "  (fc2): Linear(in_features=16, out_features=16, bias=True)\n",
            "  (fc3): Linear(in_features=16, out_features=1, bias=True)\n",
            ")\n",
            "ActorNetwork(\n",
            "  (net): Sequential(\n",
            "    (0): Linear(in_features=4, out_features=16, bias=True)\n",
            "    (1): ReLU()\n",
            "    (2): Linear(in_features=16, out_features=16, bias=True)\n",
            "    (3): ReLU()\n",
            "    (4): Linear(in_features=16, out_features=2, bias=True)\n",
            "    (5): Softmax(dim=-1)\n",
            "  )\n",
            ")\n"
          ],
          "name": "stdout"
        },
        {
          "output_type": "stream",
          "text": [
            "/usr/local/lib/python3.6/dist-packages/ipykernel_launcher.py:21: UserWarning: To copy construct from a tensor, it is recommended to use sourceTensor.clone().detach() or sourceTensor.clone().detach().requires_grad_(True), rather than torch.tensor(sourceTensor).\n"
          ],
          "name": "stderr"
        },
        {
          "output_type": "stream",
          "text": [
            "Iteration = 10, loss_value = 1631.849, loss_policy = 11.716, rewards = 65.00\n",
            "Iteration = 20, loss_value = 413.188, loss_policy = -5.621, rewards = 61.80\n",
            "Iteration = 30, loss_value = 572.310, loss_policy = -7.139, rewards = 62.20\n",
            "Iteration = 40, loss_value = 3875.631, loss_policy = 13.241, rewards = 106.20\n",
            "Iteration = 50, loss_value = 2029.424, loss_policy = 4.542, rewards = 195.60\n",
            "Iteration = 60, loss_value = 1659.521, loss_policy = -9.202, rewards = 57.40\n",
            "Iteration = 70, loss_value = 22123.277, loss_policy = 24.466, rewards = 253.40\n",
            "Iteration = 80, loss_value = 320.646, loss_policy = -0.344, rewards = 127.40\n",
            "Iteration = 90, loss_value = 30235.520, loss_policy = 34.976, rewards = 165.20\n",
            "Iteration = 100, loss_value = 6986.101, loss_policy = 8.136, rewards = 392.60\n",
            "Iteration = 110, loss_value = 17869.715, loss_policy = 12.621, rewards = 445.40\n",
            "Iteration = 120, loss_value = 19477.117, loss_policy = 4.367, rewards = 500.00\n"
          ],
          "name": "stdout"
        }
      ]
    },
    {
      "cell_type": "code",
      "metadata": {
        "colab": {
          "base_uri": "https://localhost:8080/",
          "height": 512
        },
        "id": "kPzvAqDVhc_K",
        "outputId": "155606f2-db44-4cfc-fe5e-0cc7f6d0a211"
      },
      "source": [
        "env = Monitor(env, \"./gym-results\", force=True, video_callable=lambda episode: True)\r\n",
        "for episode in range(1):\r\n",
        "    done = False\r\n",
        "    state = env.reset()\r\n",
        "    while not done:\r\n",
        "        action = actor_network.sample_action(state)\r\n",
        "        state, reward, done, info = env.step(action)\r\n",
        "env.close()\r\n",
        "show_video(directory=\"./gym-results\")"
      ],
      "execution_count": null,
      "outputs": [
        {
          "output_type": "stream",
          "text": [
            "INFO: Creating monitor directory ./gym-results\n",
            "INFO: Starting new video recorder writing to /content/gym-results/openaigym.video.0.532.video000000.mp4\n"
          ],
          "name": "stdout"
        },
        {
          "output_type": "stream",
          "text": [
            "/usr/local/lib/python3.6/dist-packages/ipykernel_launcher.py:21: UserWarning: To copy construct from a tensor, it is recommended to use sourceTensor.clone().detach() or sourceTensor.clone().detach().requires_grad_(True), rather than torch.tensor(sourceTensor).\n"
          ],
          "name": "stderr"
        },
        {
          "output_type": "stream",
          "text": [
            "INFO: Finished writing results. You can upload them to the scoreboard via gym.upload('/content/gym-results')\n"
          ],
          "name": "stdout"
        },
        {
          "output_type": "display_data",
          "data": {
            "text/html": [
              "<video alt=\"gym-results/openaigym.video.0.532.video000000.mp4\" autoplay\n",
              "                      loop controls style=\"height: 400px;\">\n",
              "                    <source src=\"data:video/mp4;base64,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\" type=\"video/mp4\" />\n",
              "                 </video>"
            ],
            "text/plain": [
              "<IPython.core.display.HTML object>"
            ]
          },
          "metadata": {
            "tags": []
          }
        }
      ]
    },
    {
      "cell_type": "markdown",
      "metadata": {
        "id": "vNqnseJtlU87"
      },
      "source": [
        "# Test other environments!\r\n",
        "\r\n",
        "Try some other environments available in OpenAI gym ([link](https://gym.openai.com/envs/#classic_control)). Suggestion: use `classic control` or `Box2D` environments."
      ]
    }
  ]
}
