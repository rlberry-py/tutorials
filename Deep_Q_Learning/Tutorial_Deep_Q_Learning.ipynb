{
  "nbformat": 4,
  "nbformat_minor": 0,
  "metadata": {
    "colab": {
      "name": "Tutorial_Deep_Q_Learning.ipynb",
      "provenance": [],
      "collapsed_sections": [],
      "authorship_tag": "ABX9TyP9EbLl6g2dURBpFFjKPouU",
      "include_colab_link": true
    },
    "kernelspec": {
      "name": "python3",
      "display_name": "Python 3"
    }
  },
  "cells": [
    {
      "cell_type": "markdown",
      "metadata": {
        "id": "view-in-github",
        "colab_type": "text"
      },
      "source": [
        "<a href=\"https://colab.research.google.com/github/rlberry-py/tutorials/blob/main/Deep_Q_Learning/Tutorial_Deep_Q_Learning.ipynb\" target=\"_parent\"><img src=\"https://colab.research.google.com/assets/colab-badge.svg\" alt=\"Open In Colab\"/></a>"
      ]
    },
    {
      "cell_type": "markdown",
      "metadata": {
        "id": "2j_no2BuvPUE"
      },
      "source": [
        "# Tutorial - Deep Q-Learning \n",
        "\n",
        "Deep Q-Learning uses a neural network to approximate $Q$ functions. Hence, we usually refer to this algorithm as DQN (for *deep Q network*).\n",
        "\n",
        "The parameters of the neural network are denoted by $\\theta$. \n",
        "*   As input, the network takes a state $s$,\n",
        "*   As output, the network returns $Q(s, a, \\theta)$, the value of each action $a$ in state $s$, according to the parameters $\\theta$.\n",
        "\n",
        "\n",
        "The goal of Deep Q-Learning is to learn the parameters $\\theta$ so that $Q(s, a, \\theta)$ approximates well the optimal $Q$-function $Q^*(s, a)$. \n",
        "\n",
        "In addition to the network with parameters $\\theta$, the algorithm keeps another network with the same architecture and parameters $\\theta^-$, called **target network**.\n",
        "\n",
        "The algorithm works as follows:\n",
        "\n",
        "1.   At each time $t$, the agent is in state $s_t$ and has observed the transitions $(s_i, a_i, r_i, s_i')_{i=1}^{t-1}$, which are stored in a **replay buffer**.\n",
        "\n",
        "2.  Choose action $a_t = \\arg\\max_a Q(s_t, a)$ with probability $1-\\varepsilon_t$, and $a_t$=random action with probability $\\varepsilon_t$. \n",
        "\n",
        "3. Take action $a_t$, observe reward $r_t$ and next state $s_t'$.\n",
        "\n",
        "4. Add transition $(s_t, a_t, r_t, s_t')$ to the **replay buffer**.\n",
        "\n",
        "4.  Sample a minibatch $\\mathcal{B}$ containing $B$ transitions from the replay buffer. Using this minibatch, we define the loss:\n",
        "\n",
        "$$\n",
        "L(\\theta) = \\sum_{(s_i, a_i, r_i, s_i') \\in \\mathcal{B}}\n",
        "\\left[\n",
        "Q(s_i, a_i, \\theta) -  y_i\n",
        "\\right]^2\n",
        "$$\n",
        "where the $y_i$ are the **targets** computed with the **target network** $\\theta^-$:\n",
        "\n",
        "$$\n",
        "y_i = r_i + \\gamma \\max_{a'} Q(s_i', a', \\theta^-).\n",
        "$$\n",
        "\n",
        "5. Update the parameters $\\theta$ to minimize the loss, e.g., with gradient descent (**keeping $\\theta^-$ fixed**): \n",
        "$$\n",
        "\\theta \\gets \\theta - \\eta \\nabla_\\theta L(\\theta)\n",
        "$$\n",
        "where $\\eta$ is the optimization learning rate. \n",
        "\n",
        "6. Every $N$ transitions ($t\\mod N$ = 0), update target parameters: $\\theta^- \\gets \\theta$.\n",
        "\n",
        "7. $t \\gets t+1$. Stop if $t = T$, otherwise go to step 2."
      ]
    },
    {
      "cell_type": "markdown",
      "metadata": {
        "id": "HhKHif__t9OD"
      },
      "source": [
        "# Colab setup"
      ]
    },
    {
      "cell_type": "code",
      "metadata": {
        "colab": {
          "base_uri": "https://localhost:8080/"
        },
        "id": "aylqy_sDqebM",
        "outputId": "e1a78b7f-f832-4119-e8c5-3e02264944d9"
      },
      "source": [
        "# After installing, restart the kernel\n",
        "\n",
        "if 'google.colab' in str(get_ipython()):\n",
        "  print(\"Installing packages, please wait a few moments. You may need to restart the runtime after the installation.\")\n",
        "\n",
        "  # install rlberry library\n",
        "  !pip install git+https://github.com/rlberry-py/rlberry.git#egg=rlberry[default] > /dev/null 2>&1\n",
        "\n",
        "  # install gym\n",
        "  !pip install gym[all] > /dev/null 2>&1\n",
        "\n",
        "  # packages required to show video\n",
        "  !pip install pyvirtualdisplay > /dev/null 2>&1\n",
        "  !apt-get install -y xvfb python-opengl ffmpeg > /dev/null 2>&1"
      ],
      "execution_count": 18,
      "outputs": [
        {
          "output_type": "stream",
          "name": "stdout",
          "text": [
            "Installing packages, please wait a few moments. You may need to restart the runtime after the installation.\n"
          ]
        }
      ]
    },
    {
      "cell_type": "code",
      "metadata": {
        "id": "VWBRfwosfA9f"
      },
      "source": [
        "# Imports\n",
        "import torch\n",
        "import torch.nn as nn\n",
        "import torch.nn.functional as F\n",
        "import torch.optim as optim\n",
        "import numpy as np\n",
        "import random\n",
        "from copy import deepcopy\n",
        "from gym.wrappers import Monitor\n",
        "import gym"
      ],
      "execution_count": 19,
      "outputs": []
    },
    {
      "cell_type": "code",
      "metadata": {
        "id": "35Zzr-xCya5y"
      },
      "source": [
        "# Create directory for saving videos\n",
        "!mkdir videos > /dev/null 2>&1\n",
        "\n",
        "# Initialize display and import function to show videos\n",
        "import rlberry.colab_utils.display_setup\n",
        "from rlberry.colab_utils.display_setup import show_video"
      ],
      "execution_count": 20,
      "outputs": []
    },
    {
      "cell_type": "code",
      "metadata": {
        "id": "FLLwJLQlrTxo"
      },
      "source": [
        "# Random number generator\n",
        "import rlberry.seeding as seeding \n",
        "seeder = seeding.Seeder(456)\n",
        "rng = seeder.rng"
      ],
      "execution_count": 21,
      "outputs": []
    },
    {
      "cell_type": "markdown",
      "metadata": {
        "id": "528oqsgefIFl"
      },
      "source": [
        "# 1. Define the parameters"
      ]
    },
    {
      "cell_type": "code",
      "metadata": {
        "id": "CtExtR4dfMbm",
        "colab": {
          "base_uri": "https://localhost:8080/"
        },
        "outputId": "64f36e7b-b953-4442-bc88-9d9fe6b90ef7"
      },
      "source": [
        "# Environment\n",
        "env = gym.make(\"CartPole-v0\")\n",
        "\n",
        "# Discount factor\n",
        "GAMMA = 0.99\n",
        "\n",
        "# Batch size\n",
        "BATCH_SIZE = 256\n",
        "# Capacity of the replay buffer\n",
        "BUFFER_CAPACITY = 10000\n",
        "# Update target net every ... episodes\n",
        "UPDATE_TARGET_EVERY = 20\n",
        "\n",
        "# Initial value of epsilon\n",
        "EPSILON_START = 1.0\n",
        "# Parameter to decrease epsilon\n",
        "DECREASE_EPSILON = 200\n",
        "# Minimum value of epislon\n",
        "EPSILON_MIN = 0.05\n",
        "\n",
        "# Number of training episodes\n",
        "N_EPISODES = 200\n",
        "\n",
        "# Learning rate\n",
        "LEARNING_RATE = 0.1"
      ],
      "execution_count": 22,
      "outputs": [
        {
          "output_type": "stream",
          "name": "stdout",
          "text": [
            "INFO: Making new env: CartPole-v0\n"
          ]
        }
      ]
    },
    {
      "cell_type": "markdown",
      "metadata": {
        "id": "6g16Je-dhM2Q"
      },
      "source": [
        "# 2. Define the replay buffer"
      ]
    },
    {
      "cell_type": "code",
      "metadata": {
        "id": "Jvh82br9hMNt"
      },
      "source": [
        "class ReplayBuffer:\n",
        "    def __init__(self, capacity):\n",
        "        self.capacity = capacity\n",
        "        self.memory = []\n",
        "        self.position = 0\n",
        "\n",
        "    def push(self, state, action, reward, next_state, done):\n",
        "        \"\"\"Saves a transition.\"\"\"\n",
        "        if len(self.memory) < self.capacity:\n",
        "            self.memory.append(None)\n",
        "        self.memory[self.position] = (state, action, reward, next_state, done)\n",
        "        self.position = (self.position + 1) % self.capacity\n",
        "\n",
        "    def sample(self, batch_size):\n",
        "        return rng.choice(self.memory, batch_size).tolist()\n",
        "\n",
        "\n",
        "    def __len__(self):\n",
        "        return len(self.memory)\n",
        "\n",
        "# create instance of replay buffer\n",
        "replay_buffer = ReplayBuffer(BUFFER_CAPACITY)"
      ],
      "execution_count": 23,
      "outputs": []
    },
    {
      "cell_type": "markdown",
      "metadata": {
        "id": "UCc9WZppi92W"
      },
      "source": [
        "# 3. Define the neural network architecture, objective and optimizer"
      ]
    },
    {
      "cell_type": "code",
      "metadata": {
        "id": "sdNz3Jrwi9iS"
      },
      "source": [
        "class Net(nn.Module):\n",
        "    \"\"\"\n",
        "    Basic neural net.\n",
        "    \"\"\"\n",
        "    def __init__(self, obs_size, hidden_size, n_actions):\n",
        "        super(Net, self).__init__()\n",
        "        self.net = nn.Sequential(\n",
        "            nn.Linear(obs_size, hidden_size),\n",
        "            nn.ReLU(),\n",
        "            nn.Linear(hidden_size, n_actions)\n",
        "        )\n",
        "\n",
        "    def forward(self, x):\n",
        "        return self.net(x)"
      ],
      "execution_count": 24,
      "outputs": []
    },
    {
      "cell_type": "code",
      "metadata": {
        "id": "NI9hFJ28jLZ_"
      },
      "source": [
        "# create network and target network\n",
        "hidden_size = 128\n",
        "obs_size = env.observation_space.shape[0]\n",
        "n_actions = env.action_space.n\n",
        "\n",
        "q_net = Net(obs_size, hidden_size, n_actions)\n",
        "target_net = Net(obs_size, hidden_size, n_actions)\n",
        "\n",
        "# objective and optimizer\n",
        "objective = nn.MSELoss()\n",
        "optimizer = optim.Adam(params=q_net.parameters(), lr=LEARNING_RATE)"
      ],
      "execution_count": 25,
      "outputs": []
    },
    {
      "cell_type": "markdown",
      "metadata": {
        "id": "xnR8nfoSjZjL"
      },
      "source": [
        "# 4. Implement Deep Q-Learning"
      ]
    },
    {
      "cell_type": "code",
      "metadata": {
        "id": "z6fT8cKdjmTZ"
      },
      "source": [
        "#\n",
        "#  Some useful functions\n",
        "#\n",
        "\n",
        "def get_q(states):\n",
        "    \"\"\"\n",
        "    Compute Q function for a list of states\n",
        "    \"\"\"\n",
        "    with torch.no_grad():\n",
        "        states_v = torch.FloatTensor([states])\n",
        "        output = q_net.forward(states_v).data.numpy()  # shape (1, len(states), n_actions)\n",
        "    return output[0, :, :]  # shape (len(states), n_actions)\n",
        "\n",
        "def eval_dqn(n_sim=5):\n",
        "    \"\"\"   \n",
        "    Monte Carlo evaluation of DQN agent.\n",
        "\n",
        "    Repeat n_sim times:\n",
        "        * Run the DQN policy until the environment reaches a terminal state (= one episode)\n",
        "        * Compute the sum of rewards in this episode\n",
        "        * Store the sum of rewards in the episode_rewards array.\n",
        "    \"\"\"\n",
        "    env_copy = deepcopy(env)\n",
        "    episode_rewards = np.zeros(n_sim)\n",
        "\n",
        "    for ii in range(n_sim):\n",
        "        state = env_copy.reset()\n",
        "        done = False \n",
        "        while not done:\n",
        "            action = choose_action(state, 0.0)\n",
        "            next_state, reward, done, _ = env_copy.step(action)\n",
        "            episode_rewards[ii] += reward\n",
        "            state = next_state\n",
        "    return episode_rewards"
      ],
      "execution_count": 26,
      "outputs": []
    },
    {
      "cell_type": "code",
      "metadata": {
        "id": "OMspDNntkIoe"
      },
      "source": [
        "def choose_action(state, epsilon):\n",
        "    \"\"\"\n",
        "    ** TO BE IMPLEMENTED **\n",
        "    \n",
        "    Return action according to an epsilon-greedy exploration policy\n",
        "    \"\"\"\n",
        "    return 0\n",
        "    \n",
        "\n",
        "def update(state, action, reward, next_state, done):\n",
        "    \"\"\"\n",
        "    ** TO BE COMPLETED **\n",
        "    \"\"\"\n",
        "    \n",
        "    # add data to replay buffer\n",
        "    replay_buffer.push(state, action, reward, next_state, done)\n",
        "    \n",
        "    if len(replay_buffer) < BATCH_SIZE:\n",
        "        return np.inf\n",
        "    \n",
        "    # get batch\n",
        "    transitions = replay_buffer.sample(BATCH_SIZE)\n",
        "\n",
        "    # Compute loss - TO BE IMPLEMENTED!\n",
        "    values  = torch.zeros(BATCH_SIZE)   # to be computed using batch\n",
        "    targets = torch.zeros(BATCH_SIZE)   # to be computed using batch\n",
        "    loss = objective(values, targets)\n",
        "     \n",
        "    # Optimize the model - UNCOMMENT!\n",
        "#     optimizer.zero_grad()\n",
        "#     loss.backward()\n",
        "#     optimizer.step()\n",
        "    \n",
        "    return loss.data.numpy()"
      ],
      "execution_count": 27,
      "outputs": []
    },
    {
      "cell_type": "code",
      "metadata": {
        "id": "QIhpKPhkkU4W",
        "colab": {
          "base_uri": "https://localhost:8080/"
        },
        "outputId": "93f23393-0bc4-48bf-d315-1fbc1d94f7c2"
      },
      "source": [
        "\n",
        "#\n",
        "# Train\n",
        "# \n",
        "\n",
        "EVAL_EVERY = 5\n",
        "REWARD_THRESHOLD = 199\n",
        "\n",
        "def train():\n",
        "    state = env.reset()\n",
        "    epsilon = EPSILON_START\n",
        "    ep = 0\n",
        "    total_time = 0\n",
        "    while ep < N_EPISODES:\n",
        "        action = choose_action(state, epsilon)\n",
        "\n",
        "        # take action and update replay buffer and networks\n",
        "        next_state, reward, done, _ = env.step(action)\n",
        "        loss = update(state, action, reward, next_state, done)\n",
        "\n",
        "        # update state\n",
        "        state = next_state\n",
        "\n",
        "        # end episode if done\n",
        "        if done:\n",
        "            state = env.reset()\n",
        "            ep   += 1\n",
        "            if ( (ep+1)% EVAL_EVERY == 0):\n",
        "                rewards = eval_dqn()\n",
        "                print(\"episode =\", ep+1, \", reward = \", np.mean(rewards))\n",
        "                if np.mean(rewards) >= REWARD_THRESHOLD:\n",
        "                    break\n",
        "\n",
        "            # update target network\n",
        "            if ep % UPDATE_TARGET_EVERY == 0:\n",
        "                target_net.load_state_dict(q_net.state_dict())\n",
        "            # decrease epsilon\n",
        "            epsilon = EPSILON_MIN + (EPSILON_START - EPSILON_MIN) * \\\n",
        "                            np.exp(-1. * ep / DECREASE_EPSILON )    \n",
        "\n",
        "        total_time += 1\n",
        "\n",
        "# Run the training loop\n",
        "train()\n",
        "\n",
        "# Evaluate the final policy\n",
        "rewards = eval_dqn(20)\n",
        "print(\"\")\n",
        "print(\"mean reward after training = \", np.mean(rewards))"
      ],
      "execution_count": 28,
      "outputs": [
        {
          "output_type": "stream",
          "name": "stdout",
          "text": [
            "episode = 5 , reward =  9.6\n",
            "episode = 10 , reward =  9.4\n",
            "episode = 15 , reward =  9.4\n",
            "episode = 20 , reward =  9.2\n",
            "episode = 25 , reward =  9.2\n",
            "episode = 30 , reward =  9.8\n",
            "episode = 35 , reward =  9.8\n",
            "episode = 40 , reward =  10.0\n",
            "episode = 45 , reward =  9.2\n",
            "episode = 50 , reward =  9.8\n"
          ]
        },
        {
          "output_type": "stream",
          "name": "stderr",
          "text": [
            "/usr/local/lib/python3.7/dist-packages/ipykernel_launcher.py:15: VisibleDeprecationWarning: Creating an ndarray from ragged nested sequences (which is a list-or-tuple of lists-or-tuples-or ndarrays with different lengths or shapes) is deprecated. If you meant to do this, you must specify 'dtype=object' when creating the ndarray\n",
            "  from ipykernel import kernelapp as app\n"
          ]
        },
        {
          "output_type": "stream",
          "name": "stdout",
          "text": [
            "episode = 55 , reward =  9.8\n",
            "episode = 60 , reward =  9.4\n",
            "episode = 65 , reward =  9.6\n",
            "episode = 70 , reward =  9.6\n",
            "episode = 75 , reward =  8.8\n",
            "episode = 80 , reward =  10.0\n",
            "episode = 85 , reward =  9.2\n",
            "episode = 90 , reward =  9.4\n",
            "episode = 95 , reward =  9.2\n",
            "episode = 100 , reward =  9.2\n",
            "episode = 105 , reward =  9.2\n",
            "episode = 110 , reward =  9.6\n",
            "episode = 115 , reward =  9.2\n",
            "episode = 120 , reward =  9.2\n",
            "episode = 125 , reward =  9.4\n",
            "episode = 130 , reward =  9.8\n",
            "episode = 135 , reward =  9.2\n",
            "episode = 140 , reward =  9.2\n",
            "episode = 145 , reward =  10.2\n",
            "episode = 150 , reward =  9.2\n",
            "episode = 155 , reward =  9.4\n",
            "episode = 160 , reward =  9.6\n",
            "episode = 165 , reward =  9.6\n",
            "episode = 170 , reward =  9.4\n",
            "episode = 175 , reward =  9.0\n",
            "episode = 180 , reward =  9.0\n",
            "episode = 185 , reward =  9.6\n",
            "episode = 190 , reward =  9.2\n",
            "episode = 195 , reward =  9.4\n",
            "episode = 200 , reward =  9.4\n",
            "\n",
            "mean reward after training =  9.8\n"
          ]
        }
      ]
    },
    {
      "cell_type": "markdown",
      "metadata": {
        "id": "c8QZwuvjgrMm"
      },
      "source": [
        "# Visualize the DQN policy"
      ]
    },
    {
      "cell_type": "code",
      "metadata": {
        "colab": {
          "base_uri": "https://localhost:8080/",
          "height": 474
        },
        "id": "FGcGwOcEfzPz",
        "outputId": "3aa22829-9b5c-4308-cd1a-aadb1a629fb0"
      },
      "source": [
        "def render_env(env):\n",
        "  env = deepcopy(env)\n",
        "  env = Monitor(env, './videos', force=True, video_callable=lambda episode: True)\n",
        "  for episode in range(1):\n",
        "    done = False\n",
        "    state = env.reset()\n",
        "    env.render()\n",
        "    while not done:\n",
        "        action = action = choose_action(state, 0.0)\n",
        "        state, reward, done, info = env.step(action)\n",
        "        env.render()\n",
        "    env.close()\n",
        "    show_video()\n",
        "\n",
        "render_env(env)"
      ],
      "execution_count": 29,
      "outputs": [
        {
          "output_type": "stream",
          "name": "stdout",
          "text": [
            "INFO: Clearing 4 monitor files from previous run (because force=True was provided)\n",
            "INFO: Starting new video recorder writing to /content/videos/openaigym.video.1.705.video000000.mp4\n",
            "INFO: Finished writing results. You can upload them to the scoreboard via gym.upload('/content/videos')\n"
          ]
        },
        {
          "output_type": "display_data",
          "data": {
            "text/html": [
              "<video alt=\"videos/openaigym.video.1.705.video000000.mp4\" autoplay\n",
              "                      loop controls style=\"height: 400px;\">\n",
              "                    <source src=\"data:video/mp4;base64,AAAAIGZ0eXBpc29tAAACAGlzb21pc28yYXZjMW1wNDEAAAAIZnJlZQAACX1tZGF0AAACrgYF//+q3EXpvebZSLeWLNgg2SPu73gyNjQgLSBjb3JlIDE1MiByMjg1NCBlOWE1OTAzIC0gSC4yNjQvTVBFRy00IEFWQyBjb2RlYyAtIENvcHlsZWZ0IDIwMDMtMjAxNyAtIGh0dHA6Ly93d3cudmlkZW9sYW4ub3JnL3gyNjQuaHRtbCAtIG9wdGlvbnM6IGNhYmFjPTEgcmVmPTMgZGVibG9jaz0xOjA6MCBhbmFseXNlPTB4MzoweDExMyBtZT1oZXggc3VibWU9NyBwc3k9MSBwc3lfcmQ9MS4wMDowLjAwIG1peGVkX3JlZj0xIG1lX3JhbmdlPTE2IGNocm9tYV9tZT0xIHRyZWxsaXM9MSA4eDhkY3Q9MSBjcW09MCBkZWFkem9uZT0yMSwxMSBmYXN0X3Bza2lwPTEgY2hyb21hX3FwX29mZnNldD0tMiB0aHJlYWRzPTMgbG9va2FoZWFkX3RocmVhZHM9MSBzbGljZWRfdGhyZWFkcz0wIG5yPTAgZGVjaW1hdGU9MSBpbnRlcmxhY2VkPTAgYmx1cmF5X2NvbXBhdD0wIGNvbnN0cmFpbmVkX2ludHJhPTAgYmZyYW1lcz0zIGJfcHlyYW1pZD0yIGJfYWRhcHQ9MSBiX2JpYXM9MCBkaXJlY3Q9MSB3ZWlnaHRiPTEgb3Blbl9nb3A9MCB3ZWlnaHRwPTIga2V5aW50PTI1MCBrZXlpbnRfbWluPTI1IHNjZW5lY3V0PTQwIGludHJhX3JlZnJlc2g9MCByY19sb29rYWhlYWQ9NDAgcmM9Y3JmIG1idHJlZT0xIGNyZj0yMy4wIHFjb21wPTAuNjAgcXBtaW49MCBxcG1heD02OSBxcHN0ZXA9NCBpcF9yYXRpbz0xLjQwIGFxPTE6MS4wMACAAAACDmWIhAAv//72rvzLK0cLlS4dWXuzUfLoSXL9iDB9aAAAAwAAAwAAJuKiZ0WFMeJsgAAALmAIWElDyDzETFWKgS4v4K+ByKAPrX3tgDEZATr4EXstyvAXFCWbtM70af/KAoobdfsSp7KUox0D/RhweLc7ILF+6Mrkf6N5VIlp8kRNrQsd35qhIun0khNd/8eQWjVl8EFCLUxnnD47VhGUyNBLJuw9vk9MG0zOal06uBnJ8clLV/6hH4/m8W0Vks7xjI1SR0vmsTMyPlYAswgwqLzxTLkkbzz52lXLcIjHdcjGRFnfDuORQW98QBL1RQA0ZZulitn/ab2kMnDSDkFuaJhADJLNijoKwJ9PR4AlV/5TU/0Xt6b5Sr23S3VqRRq4vd8JRfDUAxE7XkFJQV66sMoMJdaLSwWTSnV+8tf1TjoKe/dR/VLfwjab/oTGZLAoQB1tU8vrQ4A0O5lGKhl8/7KhhV30eo5z+K2bZRS7bpofY242RXJyoi+K1wpgYv2oFDkmXwLwo4lWWekRzlX/eyTHlg6/uxNubwDifU+cDoRG+hgwy5Zq4AryFpUQaxmmvG86N7oXBk5uJNMfp3pXiIC6sVAY7p4r8+8R4+ANYSPM26AJhkPeNfox9wQq9ot7j7ymlICm/IGYu1pjH3a+HYZKvFI7GGbXbyNX9fZZUmK6OfO3eYAAAAMAAAMAE/EAAACuQZokbEK//jhAAAEVG4q4vQAOLIsPgNjcDI4fPXsr59vSY5wdspWyB3HWMOI+MqnNXF8WHDs49T6xtTTZAX93KEk/qs/fucNS/ik2zm/PGM0Bk7WhJy8+vhTmEgD4I6CWLFOpmjI1xVeHrdZHfie6G/TwmhvyvmqRr6WSQLWfwQjXUqykhrvW/LCv8oqvkXzvtcPM05/hoPhqtwAAAwAAyLHZrDSVry9nLhIHorHIAAAAV0GeQniEfwAAF05LsDni6HXS+JhC7h4pOLSrUMgjs39E4IABO1PObtRG5Dsnp66GLv8jGvvcIvQ5Sl8og8CQv377WMJOKObhRGZzpMAAAAZCvt0sPCCXgQAAADcBnmF0R/8AAA3XwoKXPn+Bo3GshD+HidXLE276W6EtRqu+tjP9mS10KAAAAwAAEaxfmzZYQE7AAAAAPAGeY2pH/wAAJLHL6MH8GsEREx9QXQA7rLPMIHDaL3WmY27WnTTvCiVy+QWX2FcpoIAAAGAj79H/LLAsoQAAAM1BmmdJqEFomUwIV//+OEAAARU236L6pneNM4JyAnpY9AC3jtwjf9iXHt1MKVxnIDVRAMAAr5XmiKAEfOcCm4l+4MSgS3LjIRH9Do38qPT/58jmzVKO+hqknaGtMsJTH9TV4oVpucLx5MSKnek3KdYCzGRtANT3WQYIjO9ERz0M9FOCP/yHLYvwpwMwQqLUNxQHKJMKTnEJBKbVtrXuXI1i/aQctx2yhTh7wOpZf6f8jfmrhBQhp0fzb8GsC9NazDc0USBZoP609u+/wHKRAAAAVUGehUURLCP/AAAXUEfYkZFRAAi5FAYJ0+6dxMon7dKkFi+I6Bakib3K/lcDtfUKuvz1gokvQd+seHXG+SaSTkXc3KF8hXmMp0w7c+GY/Jdm/qy2bMEAAABJAZ6makf/AAAko3FrluIUIyFOmGkGpuB8BUa+zQwAXE+hqoncaWP3cJPiKxnyDqu4+HH0V/9E5ADSSWkQPz8o/0VQTFuBm0zxYQAAAL5BmqpJqEFsmUwI//yEAAAQb1q5rig20pKAFhd6fG5rGmuauoKy3xot5FeeXl/NPXPVSHWbf4m1E/XPw6mVQqDrSHMQSyTI2X8F8gUVnNBcF7VkfI9uaFfrkPAVmZxMcH79Lxs+qtY2SOifkuELlbOSH2sHkQ3txZyvCi/fY5+oSSIfpXrT39p4IXvMw4SJrFwIfYSMXNhn812M8RZdoOuCFSdaRIur0cY1T0pW7FXTVY2y8zzrwlTfqLVtW2IwAAAAeUGeyEUVLCP/AAAXRQ+O0BTZv9DnkXAltZHPclrhUYR1Vseec7QP3ZwAtwJTkEpZI1VxLrMSTuO2AyAoCahAREgZTXzvW3/0p22LSUYN5iYCPHrP2913SCZX8TFdv23+QaLf9pnHSiseyXNxHQRnc4rory9a6OkwlQcAAABvAZ7pakf/AAAjxxXDSAAcQefJKSplyzCQhZTb5ShpFpal4whdLJ87U14MhQDenf4UlqLLIORB1aAjsWgbg3K5qmMdHOEMqBPRTCNh33KvKKprz9tjjF7amq4TG68385mebjaDIB2lrse0w9xDyAjZAAADh21vb3YAAABsbXZoZAAAAAAAAAAAAAAAAAAAA+gAAADcAAEAAAEAAAAAAAAAAAAAAAABAAAAAAAAAAAAAAAAAAAAAQAAAAAAAAAAAAAAAAAAQAAAAAAAAAAAAAAAAAAAAAAAAAAAAAAAAAAAAAAAAAIAAAKxdHJhawAAAFx0a2hkAAAAAwAAAAAAAAAAAAAAAQAAAAAAAADcAAAAAAAAAAAAAAAAAAAAAAABAAAAAAAAAAAAAAAAAAAAAQAAAAAAAAAAAAAAAAAAQAAAAAJYAAABkAAAAAAAJGVkdHMAAAAcZWxzdAAAAAAAAAABAAAA3AAAAgAAAQAAAAACKW1kaWEAAAAgbWRoZAAAAAAAAAAAAAAAAAAAMgAAAAsAVcQAAAAAAC1oZGxyAAAAAAAAAAB2aWRlAAAAAAAAAAAAAAAAVmlkZW9IYW5kbGVyAAAAAdRtaW5mAAAAFHZtaGQAAAABAAAAAAAAAAAAAAAkZGluZgAAABxkcmVmAAAAAAAAAAEAAAAMdXJsIAAAAAEAAAGUc3RibAAAAJhzdHNkAAAAAAAAAAEAAACIYXZjMQAAAAAAAAABAAAAAAAAAAAAAAAAAAAAAAJYAZAASAAAAEgAAAAAAAAAAQAAAAAAAAAAAAAAAAAAAAAAAAAAAAAAAAAAAAAAAAAAABj//wAAADJhdmNDAWQAH//hABlnZAAfrNlAmDPl4QAAAwABAAADAGQPGDGWAQAGaOvjyyLAAAAAGHN0dHMAAAAAAAAAAQAAAAsAAAEAAAAAFHN0c3MAAAAAAAAAAQAAAAEAAABYY3R0cwAAAAAAAAAJAAAAAQAAAgAAAAABAAAFAAAAAAEAAAIAAAAAAQAAAAAAAAABAAABAAAAAAEAAAQAAAAAAgAAAQAAAAABAAAEAAAAAAIAAAEAAAAAHHN0c2MAAAAAAAAAAQAAAAEAAAALAAAAAQAAAEBzdHN6AAAAAAAAAAAAAAALAAAExAAAALIAAABbAAAAOwAAAEAAAADRAAAAWQAAAE0AAADCAAAAfQAAAHMAAAAUc3RjbwAAAAAAAAABAAAAMAAAAGJ1ZHRhAAAAWm1ldGEAAAAAAAAAIWhkbHIAAAAAAAAAAG1kaXJhcHBsAAAAAAAAAAAAAAAALWlsc3QAAAAlqXRvbwAAAB1kYXRhAAAAAQAAAABMYXZmNTcuODMuMTAw\" type=\"video/mp4\" />\n",
              "                 </video>"
            ],
            "text/plain": [
              "<IPython.core.display.HTML object>"
            ]
          },
          "metadata": {}
        }
      ]
    }
  ]
}