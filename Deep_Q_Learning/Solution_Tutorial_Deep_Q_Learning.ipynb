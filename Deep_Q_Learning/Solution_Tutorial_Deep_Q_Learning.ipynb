{
  "nbformat": 4,
  "nbformat_minor": 0,
  "metadata": {
    "colab": {
      "name": "Solution_Tutorial_Deep_Q_Learning.ipynb",
      "provenance": [],
      "collapsed_sections": [],
      "authorship_tag": "ABX9TyOO2dAOehEB6RC+y/pwqoEN",
      "include_colab_link": true
    },
    "kernelspec": {
      "name": "python3",
      "display_name": "Python 3"
    }
  },
  "cells": [
    {
      "cell_type": "markdown",
      "metadata": {
        "id": "view-in-github",
        "colab_type": "text"
      },
      "source": [
        "<a href=\"https://colab.research.google.com/github/rlberry-py/tutorials/blob/solution/Deep_Q_Learning/Solution_Tutorial_Deep_Q_Learning.ipynb\" target=\"_parent\"><img src=\"https://colab.research.google.com/assets/colab-badge.svg\" alt=\"Open In Colab\"/></a>"
      ]
    },
    {
      "cell_type": "markdown",
      "metadata": {
        "id": "2j_no2BuvPUE"
      },
      "source": [
        "# Tutorial - Deep Q-Learning \n",
        "\n",
        "Deep Q-Learning uses a neural network to approximate $Q$ functions. Hence, we usually refer to this algorithm as DQN (for *deep Q network*).\n",
        "\n",
        "The parameters of the neural network are denoted by $\\theta$. \n",
        "*   As input, the network takes a state $s$,\n",
        "*   As output, the network returns $Q(s, a, \\theta)$, the value of each action $a$ in state $s$, according to the parameters $\\theta$.\n",
        "\n",
        "\n",
        "The goal of Deep Q-Learning is to learn the parameters $\\theta$ so that $Q(s, a, \\theta)$ approximates well the optimal $Q$-function $Q^*(s, a)$. \n",
        "\n",
        "In addition to the network with parameters $\\theta$, the algorithm keeps another network with the same architecture and parameters $\\theta^-$, called **target network**.\n",
        "\n",
        "The algorithm works as follows:\n",
        "\n",
        "1.   At each time $t$, the agent is in state $s_t$ and has observed the transitions $(s_i, a_i, r_i, s_i')_{i=1}^{t-1}$, which are stored in a **replay buffer**.\n",
        "\n",
        "2.  Choose action $a_t = \\arg\\max_a Q(s_t, a)$ with probability $1-\\varepsilon_t$, and $a_t$=random action with probability $\\varepsilon_t$. \n",
        "\n",
        "3. Take action $a_t$, observe reward $r_t$ and next state $s_t'$.\n",
        "\n",
        "4. Add transition $(s_t, a_t, r_t, s_t')$ to the **replay buffer**.\n",
        "\n",
        "4.  Sample a minibatch $\\mathcal{B}$ containing $B$ transitions from the replay buffer. Using this minibatch, we define the loss:\n",
        "\n",
        "$$\n",
        "L(\\theta) = \\sum_{(s_i, a_i, r_i, s_i') \\in \\mathcal{B}}\n",
        "\\left[\n",
        "Q(s_i, a_i, \\theta) -  y_i\n",
        "\\right]^2\n",
        "$$\n",
        "where the $y_i$ are the **targets** computed with the **target network** $\\theta^-$:\n",
        "\n",
        "$$\n",
        "y_i = r_i + \\gamma \\max_{a'} Q(s_i', a', \\theta^-).\n",
        "$$\n",
        "\n",
        "5. Update the parameters $\\theta$ to minimize the loss, e.g., with gradient descent (**keeping $\\theta^-$ fixed**): \n",
        "$$\n",
        "\\theta \\gets \\theta - \\eta \\nabla_\\theta L(\\theta)\n",
        "$$\n",
        "where $\\eta$ is the optimization learning rate. \n",
        "\n",
        "6. Every $N$ transitions ($t\\mod N$ = 0), update target parameters: $\\theta^- \\gets \\theta$.\n",
        "\n",
        "7. $t \\gets t+1$. Stop if $t = T$, otherwise go to step 2."
      ]
    },
    {
      "cell_type": "markdown",
      "metadata": {
        "id": "HhKHif__t9OD"
      },
      "source": [
        "# Colab setup"
      ]
    },
    {
      "cell_type": "code",
      "metadata": {
        "colab": {
          "base_uri": "https://localhost:8080/"
        },
        "id": "aylqy_sDqebM",
        "outputId": "e217574a-4b14-4ccc-f433-02390569f834"
      },
      "source": [
        "# After installing, restart the kernel\n",
        "\n",
        "if 'google.colab' in str(get_ipython()):\n",
        "  print(\"Installing packages, please wait a few moments. You may need to restart the runtime after the installation.\")\n",
        "\n",
        "  # install rlberry library\n",
        "  !pip install git+https://github.com/rlberry-py/rlberry.git#egg=rlberry[default] > /dev/null 2>&1\n",
        "\n",
        "  # install gym\n",
        "  !pip install gym[all] > /dev/null 2>&1\n",
        "\n",
        "  # packages required to show video\n",
        "  !pip install pyvirtualdisplay > /dev/null 2>&1\n",
        "  !apt-get install -y xvfb python-opengl ffmpeg > /dev/null 2>&1"
      ],
      "execution_count": 1,
      "outputs": [
        {
          "output_type": "stream",
          "name": "stdout",
          "text": [
            "Installing packages, please wait a few moments. You may need to restart the runtime after the installation.\n"
          ]
        }
      ]
    },
    {
      "cell_type": "code",
      "metadata": {
        "id": "VWBRfwosfA9f"
      },
      "source": [
        "# Imports\n",
        "import torch\n",
        "import torch.nn as nn\n",
        "import torch.nn.functional as F\n",
        "import torch.optim as optim\n",
        "import numpy as np\n",
        "import random\n",
        "from copy import deepcopy\n",
        "from gym.wrappers import Monitor\n",
        "import gym"
      ],
      "execution_count": 2,
      "outputs": []
    },
    {
      "cell_type": "code",
      "metadata": {
        "id": "msNV7rtZwnZl"
      },
      "source": [
        "# Create directory for saving videos\n",
        "!mkdir videos > /dev/null 2>&1\n",
        "\n",
        "# Initialize display and import function to show videos\n",
        "import rlberry.colab_utils.display_setup\n",
        "from rlberry.colab_utils.display_setup import show_video"
      ],
      "execution_count": 3,
      "outputs": []
    },
    {
      "cell_type": "code",
      "metadata": {
        "id": "SDcNzX0nr_qH"
      },
      "source": [
        "# Random number generator\n",
        "import rlberry.seeding as seeding \n",
        "seeder = seeding.Seeder(789)\n",
        "rng = seeder.rng"
      ],
      "execution_count": 4,
      "outputs": []
    },
    {
      "cell_type": "markdown",
      "metadata": {
        "id": "528oqsgefIFl"
      },
      "source": [
        "# 1. Define the parameters"
      ]
    },
    {
      "cell_type": "code",
      "metadata": {
        "id": "CtExtR4dfMbm",
        "colab": {
          "base_uri": "https://localhost:8080/"
        },
        "outputId": "53650572-68f5-4f93-c91c-9bce6ad17d2b"
      },
      "source": [
        "# Environment\n",
        "env = gym.make(\"CartPole-v0\")\n",
        "\n",
        "# Discount factor\n",
        "GAMMA = 0.99\n",
        "\n",
        "# Batch size\n",
        "BATCH_SIZE = 256\n",
        "# Capacity of the replay buffer\n",
        "BUFFER_CAPACITY = 10000\n",
        "# Update target net every ... episodes\n",
        "UPDATE_TARGET_EVERY = 20\n",
        "\n",
        "# Initial value of epsilon\n",
        "EPSILON_START = 1.0\n",
        "# Parameter to decrease epsilon\n",
        "DECREASE_EPSILON = 200\n",
        "# Minimum value of epislon\n",
        "EPSILON_MIN = 0.05\n",
        "\n",
        "# Number of training episodes\n",
        "N_EPISODES = 400\n",
        "\n",
        "# Learning rate\n",
        "LEARNING_RATE = 0.1"
      ],
      "execution_count": 5,
      "outputs": [
        {
          "output_type": "stream",
          "name": "stdout",
          "text": [
            "INFO: Making new env: CartPole-v0\n"
          ]
        }
      ]
    },
    {
      "cell_type": "markdown",
      "metadata": {
        "id": "6g16Je-dhM2Q"
      },
      "source": [
        "# 2. Define the replay buffer"
      ]
    },
    {
      "cell_type": "code",
      "metadata": {
        "id": "Jvh82br9hMNt"
      },
      "source": [
        "class ReplayBuffer:\n",
        "    def __init__(self, capacity):\n",
        "        self.capacity = capacity\n",
        "        self.memory = []\n",
        "        self.position = 0\n",
        "\n",
        "    def push(self, state, action, reward, next_state, done):\n",
        "        \"\"\"Saves a transition.\"\"\"\n",
        "        if len(self.memory) < self.capacity:\n",
        "            self.memory.append(None)\n",
        "        self.memory[self.position] = (state, action, reward, next_state, done)\n",
        "        self.position = (self.position + 1) % self.capacity\n",
        "\n",
        "    def sample(self, batch_size):\n",
        "        return rng.choice(self.memory, batch_size).tolist()\n",
        "\n",
        "\n",
        "    def __len__(self):\n",
        "        return len(self.memory)\n",
        "\n",
        "# create instance of replay buffer\n",
        "replay_buffer = ReplayBuffer(BUFFER_CAPACITY)"
      ],
      "execution_count": 6,
      "outputs": []
    },
    {
      "cell_type": "markdown",
      "metadata": {
        "id": "UCc9WZppi92W"
      },
      "source": [
        "# 3. Define the neural network architecture, objective and optimizer"
      ]
    },
    {
      "cell_type": "code",
      "metadata": {
        "id": "sdNz3Jrwi9iS"
      },
      "source": [
        "class Net(nn.Module):\n",
        "    \"\"\"\n",
        "    Basic neural net.\n",
        "    \"\"\"\n",
        "    def __init__(self, obs_size, hidden_size, n_actions):\n",
        "        super(Net, self).__init__()\n",
        "        self.net = nn.Sequential(\n",
        "            nn.Linear(obs_size, hidden_size),\n",
        "            nn.ReLU(),\n",
        "            nn.Linear(hidden_size, n_actions)\n",
        "        )\n",
        "\n",
        "    def forward(self, x):\n",
        "        return self.net(x)\n",
        "\n",
        "\n",
        "# Example: \n",
        "\n",
        "# state = env.observation_space.sample()\n",
        "# state_torch = torch.from_numpy(state)\n",
        "\n",
        "# net = Net(state.shape[0], 128, env.action_space.n)\n",
        "# print(net)\n",
        "\n",
        "# q_state = net(state_torch)\n",
        "# print(state)\n",
        "# print(q_state)"
      ],
      "execution_count": 7,
      "outputs": []
    },
    {
      "cell_type": "code",
      "metadata": {
        "id": "NI9hFJ28jLZ_"
      },
      "source": [
        "# create network and target network\n",
        "hidden_size = 128\n",
        "obs_size = env.observation_space.shape[0]\n",
        "n_actions = env.action_space.n\n",
        "\n",
        "q_net = Net(obs_size, hidden_size, n_actions)\n",
        "target_net = Net(obs_size, hidden_size, n_actions)\n",
        "\n",
        "# objective and optimizer\n",
        "objective = nn.MSELoss()\n",
        "optimizer = optim.Adam(params=q_net.parameters(), lr=LEARNING_RATE)"
      ],
      "execution_count": 8,
      "outputs": []
    },
    {
      "cell_type": "markdown",
      "metadata": {
        "id": "xnR8nfoSjZjL"
      },
      "source": [
        "# 4. Implement Deep Q-Learning"
      ]
    },
    {
      "cell_type": "code",
      "metadata": {
        "id": "z6fT8cKdjmTZ"
      },
      "source": [
        "#\n",
        "#  Some useful functions\n",
        "#\n",
        "\n",
        "def get_q(states):\n",
        "    \"\"\"\n",
        "    Compute Q function for a list of states\n",
        "    \"\"\"\n",
        "    with torch.no_grad():\n",
        "        states_v = torch.FloatTensor([states])\n",
        "        output = q_net.forward(states_v).data.numpy()  # shape (1, len(states), n_actions)\n",
        "    return output[0, :, :]  # shape (len(states), n_actions)\n",
        "\n",
        "def eval_dqn(n_sim=5):\n",
        "    \"\"\"   \n",
        "    Monte Carlo evaluation of DQN agent.\n",
        "\n",
        "    Repeat n_sim times:\n",
        "        * Run the DQN policy until the environment reaches a terminal state (= one episode)\n",
        "        * Compute the sum of rewards in this episode\n",
        "        * Store the sum of rewards in the episode_rewards array.\n",
        "    \"\"\"\n",
        "    env_copy = deepcopy(env)\n",
        "    episode_rewards = np.zeros(n_sim)\n",
        "\n",
        "    for ii in range(n_sim):\n",
        "        state = env_copy.reset()\n",
        "        done = False \n",
        "        while not done:\n",
        "            action = choose_action(state, 0.0)\n",
        "            next_state, reward, done, _ = env_copy.step(action)\n",
        "            episode_rewards[ii] += reward\n",
        "            state = next_state\n",
        "    return episode_rewards"
      ],
      "execution_count": 9,
      "outputs": []
    },
    {
      "cell_type": "code",
      "metadata": {
        "id": "OMspDNntkIoe"
      },
      "source": [
        "def choose_action(state, epsilon):\n",
        "    \"\"\"\n",
        "    ** TO BE IMPLEMENTED **\n",
        "    \n",
        "    Return action according to an epsilon-greedy exploration policy\n",
        "    \"\"\"\n",
        "    if np.random.uniform() < epsilon:\n",
        "        return env.action_space.sample()\n",
        "    else:\n",
        "        q = get_q([state])[0]\n",
        "        return q.argmax()    \n",
        "\n",
        "def update(state, action, reward, next_state, done):\n",
        "    \"\"\"\n",
        "    ** TO BE COMPLETED **\n",
        "    \"\"\"\n",
        "    \n",
        "    # add data to replay buffer\n",
        "    replay_buffer.push(state, action, reward, next_state, done)\n",
        "    \n",
        "    if len(replay_buffer) < BATCH_SIZE:\n",
        "        return np.inf\n",
        "    \n",
        "    # get batch\n",
        "    transitions = replay_buffer.sample(BATCH_SIZE)\n",
        "\n",
        "\n",
        "    # values_debug  = torch.zeros(BATCH_SIZE)   # to be computed using batch   ->  Q(s_i, a_i)\n",
        "    # targets_debug = torch.zeros(BATCH_SIZE)   # to be computed using batch   ->  y_i \n",
        "\n",
        "    # for ii, transition in enumerate(transitions):\n",
        "    #     s_i, a_i, r_i, next_s_i = transition\n",
        "\n",
        "    #     # compute Q(s_i, a_i) = Q_i\n",
        "    #     s_i = torch.FloatTensor([s_i])[0]\n",
        "    #     Q_i = q_net(s_i)[a_i]\n",
        "    #     values_debug[ii] = Q_i\n",
        "\n",
        "\n",
        "    #     # compute y_i\n",
        "    #     r_i = torch.FloatTensor([r_i])[0]\n",
        "\n",
        "    #     # \n",
        "    #     max_q_next_state = 0.0\n",
        "    #     if next_s_i is not None:\n",
        "    #         next_s_i = torch.FloatTensor([next_s_i])[0]\n",
        "    #         max_q_next_state = target_net(next_s_i).detach().max()\n",
        "\n",
        "    #     y_i = r_i + GAMMA*max_q_next_state\n",
        "\n",
        "    #     targets_debug[ii] = y_i\n",
        "\n",
        "    # # ----------------------------------------------\n",
        "\n",
        "    # ------------------------\n",
        "    # process batch of (state, action, reward, next_state)\n",
        "    states = np.array([transitions[ii][0] for  ii in range(BATCH_SIZE)])\n",
        "    actions = np.array([transitions[ii][1] for  ii in range(BATCH_SIZE)])\n",
        "    rewards = np.array([transitions[ii][2] for  ii in range(BATCH_SIZE)])\n",
        "    next_states = np.array([transitions[ii][3] for  ii in range(BATCH_SIZE)])\n",
        "    dones = np.array([transitions[ii][4] for  ii in range(BATCH_SIZE)])\n",
        "\n",
        "    # Convert to torch tensors\n",
        "    states_torch = torch.FloatTensor(states)\n",
        "    actions_torch = torch.LongTensor(actions).view(-1,1)\n",
        "    rewards_torch = torch.FloatTensor(rewards).view(-1, 1)\n",
        "    next_states_torch = torch.FloatTensor(next_states)\n",
        "    dones = torch.FloatTensor(dones)\n",
        "\n",
        "    # Q(s_i, a_i)\n",
        "    values = q_net(states_torch)\n",
        "    values = torch.gather(values, dim=1, index=actions_torch)[:, 0]\n",
        "\n",
        "    # max_a Q(s_{i+1}, a)\n",
        "    values_next_states = target_net(next_states_torch).max(dim=1)[0].detach()\n",
        "    assert values_next_states.shape == values.shape\n",
        "    # targets y_i\n",
        "    targets = rewards_torch + GAMMA * (1.0 - dones) * values_next_states\n",
        "    \n",
        "    # Loss function\n",
        "    loss = objective(values, targets)\n",
        "     \n",
        "    # Optimize the model \n",
        "    optimizer.zero_grad()\n",
        "    loss.backward()\n",
        "    optimizer.step()\n",
        "    \n",
        "    return loss.data.numpy()"
      ],
      "execution_count": 10,
      "outputs": []
    },
    {
      "cell_type": "code",
      "metadata": {
        "id": "QIhpKPhkkU4W",
        "colab": {
          "base_uri": "https://localhost:8080/"
        },
        "outputId": "42e0d552-343d-473b-b8b5-081038054d4b"
      },
      "source": [
        "\n",
        "#\n",
        "# Train\n",
        "# \n",
        "\n",
        "EVAL_EVERY = 5\n",
        "REWARD_THRESHOLD = 199\n",
        "\n",
        "def train():\n",
        "    state = env.reset()\n",
        "    epsilon = EPSILON_START\n",
        "    ep = 0\n",
        "    total_time = 0\n",
        "    while ep < N_EPISODES:\n",
        "        action = choose_action(state, epsilon)\n",
        "\n",
        "        # take action and update replay buffer and networks\n",
        "        next_state, reward, done, _ = env.step(action)\n",
        "        loss = update(state, action, reward, next_state, done)\n",
        "\n",
        "        # update state\n",
        "        state = next_state\n",
        "\n",
        "        # end episode if done\n",
        "        if done:\n",
        "            state = env.reset()\n",
        "            ep   += 1\n",
        "            if ( (ep+1)% EVAL_EVERY == 0):\n",
        "                rewards = eval_dqn()\n",
        "                print(\"episode =\", ep+1, \", reward = \", np.mean(rewards))\n",
        "                if np.mean(rewards) >= REWARD_THRESHOLD:\n",
        "                    break\n",
        "\n",
        "            # update target network\n",
        "            if ep % UPDATE_TARGET_EVERY == 0:\n",
        "                target_net.load_state_dict(q_net.state_dict())\n",
        "            # decrease epsilon\n",
        "            epsilon = EPSILON_MIN + (EPSILON_START - EPSILON_MIN) * \\\n",
        "                            np.exp(-1. * ep / DECREASE_EPSILON )    \n",
        "\n",
        "        total_time += 1\n",
        "\n",
        "# Run the training loop\n",
        "train()\n",
        "\n",
        "# Evaluate the final policy\n",
        "rewards = eval_dqn(20)\n",
        "print(\"\")\n",
        "print(\"mean reward after training = \", np.mean(rewards))"
      ],
      "execution_count": 11,
      "outputs": [
        {
          "output_type": "stream",
          "name": "stderr",
          "text": [
            "/usr/local/lib/python3.7/dist-packages/ipykernel_launcher.py:10: UserWarning: Creating a tensor from a list of numpy.ndarrays is extremely slow. Please consider converting the list to a single numpy.ndarray with numpy.array() before converting to a tensor. (Triggered internally at  ../torch/csrc/utils/tensor_new.cpp:201.)\n",
            "  # Remove the CWD from sys.path while we load stuff.\n",
            "/usr/local/lib/python3.7/dist-packages/ipykernel_launcher.py:15: VisibleDeprecationWarning: Creating an ndarray from ragged nested sequences (which is a list-or-tuple of lists-or-tuples-or ndarrays with different lengths or shapes) is deprecated. If you meant to do this, you must specify 'dtype=object' when creating the ndarray\n",
            "  from ipykernel import kernelapp as app\n",
            "/usr/local/lib/python3.7/dist-packages/torch/nn/modules/loss.py:520: UserWarning: Using a target size (torch.Size([256, 256])) that is different to the input size (torch.Size([256])). This will likely lead to incorrect results due to broadcasting. Please ensure they have the same size.\n",
            "  return F.mse_loss(input, target, reduction=self.reduction)\n"
          ]
        },
        {
          "output_type": "stream",
          "name": "stdout",
          "text": [
            "episode = 5 , reward =  10.0\n",
            "episode = 10 , reward =  10.0\n",
            "episode = 15 , reward =  17.2\n",
            "episode = 20 , reward =  14.6\n",
            "episode = 25 , reward =  9.8\n",
            "episode = 30 , reward =  95.6\n",
            "episode = 35 , reward =  9.6\n",
            "episode = 40 , reward =  13.4\n",
            "episode = 45 , reward =  12.8\n",
            "episode = 50 , reward =  20.6\n",
            "episode = 55 , reward =  98.8\n",
            "episode = 60 , reward =  31.4\n",
            "episode = 65 , reward =  22.4\n",
            "episode = 70 , reward =  79.0\n",
            "episode = 75 , reward =  87.0\n",
            "episode = 80 , reward =  35.8\n",
            "episode = 85 , reward =  10.4\n",
            "episode = 90 , reward =  102.0\n",
            "episode = 95 , reward =  79.4\n",
            "episode = 100 , reward =  59.2\n",
            "episode = 105 , reward =  200.0\n",
            "\n",
            "mean reward after training =  200.0\n"
          ]
        }
      ]
    },
    {
      "cell_type": "markdown",
      "metadata": {
        "id": "c8QZwuvjgrMm"
      },
      "source": [
        "# Visualize the DQN policy"
      ]
    },
    {
      "cell_type": "code",
      "metadata": {
        "colab": {
          "base_uri": "https://localhost:8080/",
          "height": 474
        },
        "id": "FGcGwOcEfzPz",
        "outputId": "df6536ff-04a5-451a-cbf6-8e48881b9ff8"
      },
      "source": [
        "def render_env(env):\n",
        "  env = deepcopy(env)\n",
        "  env = Monitor(env, './videos', force=True, video_callable=lambda episode: True)\n",
        "  for episode in range(1):\n",
        "    done = False\n",
        "    state = env.reset()\n",
        "    env.render()\n",
        "    while not done:\n",
        "        action = action = choose_action(state, 0.0)\n",
        "        state, reward, done, info = env.step(action)\n",
        "        env.render()\n",
        "    env.close()\n",
        "    show_video()\n",
        "\n",
        "render_env(env)"
      ],
      "execution_count": 12,
      "outputs": [
        {
          "output_type": "stream",
          "name": "stdout",
          "text": [
            "INFO: Clearing 4 monitor files from previous run (because force=True was provided)\n",
            "INFO: Starting new video recorder writing to /content/videos/openaigym.video.0.1090.video000000.mp4\n",
            "INFO: Finished writing results. You can upload them to the scoreboard via gym.upload('/content/videos')\n"
          ]
        },
        {
          "output_type": "display_data",
          "data": {
            "text/html": [
              "<video alt=\"videos/openaigym.video.0.1090.video000000.mp4\" autoplay\n",
              "                      loop controls style=\"height: 400px;\">\n",
              "                    <source src=\"data:video/mp4;base64,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\" type=\"video/mp4\" />\n",
              "                 </video>"
            ],
            "text/plain": [
              "<IPython.core.display.HTML object>"
            ]
          },
          "metadata": {}
        }
      ]
    }
  ]
}