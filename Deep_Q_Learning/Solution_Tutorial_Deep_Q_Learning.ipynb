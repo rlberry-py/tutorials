{
  "nbformat": 4,
  "nbformat_minor": 0,
  "metadata": {
    "colab": {
      "name": "Solution_Tutorial_Deep_Q_Learning.ipynb",
      "provenance": [],
      "collapsed_sections": [],
      "authorship_tag": "ABX9TyPlF7HmAG1W4Qf53P3dG0JO",
      "include_colab_link": true
    },
    "kernelspec": {
      "name": "python3",
      "display_name": "Python 3"
    }
  },
  "cells": [
    {
      "cell_type": "markdown",
      "metadata": {
        "id": "view-in-github",
        "colab_type": "text"
      },
      "source": [
        "<a href=\"https://colab.research.google.com/github/rlberry-py/tutorials/blob/solution/Deep_Q_Learning/Solution_Tutorial_Deep_Q_Learning.ipynb\" target=\"_parent\"><img src=\"https://colab.research.google.com/assets/colab-badge.svg\" alt=\"Open In Colab\"/></a>"
      ]
    },
    {
      "cell_type": "markdown",
      "metadata": {
        "id": "2j_no2BuvPUE"
      },
      "source": [
        "# Tutorial - Deep Q-Learning \n",
        "\n",
        "Deep Q-Learning uses a neural network to approximate $Q$ functions. Hence, we usually refer to this algorithm as DQN (for *deep Q network*).\n",
        "\n",
        "The parameters of the neural network are denoted by $\\theta$. \n",
        "*   As input, the network takes a state $s$,\n",
        "*   As output, the network returns $Q(s, a, \\theta)$, the value of each action $a$ in state $s$, according to the parameters $\\theta$.\n",
        "\n",
        "\n",
        "The goal of Deep Q-Learning is to learn the parameters $\\theta$ so that $Q(s, a, \\theta)$ approximates well the optimal $Q$-function $Q^*(s, a)$. \n",
        "\n",
        "In addition to the network with parameters $\\theta$, the algorithm keeps another network with the same architecture and parameters $\\theta^-$, called **target network**.\n",
        "\n",
        "The algorithm works as follows:\n",
        "\n",
        "1.   At each time $t$, the agent is in state $s_t$ and has observed the transitions $(s_i, a_i, r_i, s_i')_{i=1}^{t-1}$, which are stored in a **replay buffer**.\n",
        "\n",
        "2.  Choose action $a_t = \\arg\\max_a Q(s_t, a)$ with probability $1-\\varepsilon_t$, and $a_t$=random action with probability $\\varepsilon_t$. \n",
        "\n",
        "3. Take action $a_t$, observe reward $r_t$ and next state $s_t'$.\n",
        "\n",
        "4. Add transition $(s_t, a_t, r_t, s_t')$ to the **replay buffer**.\n",
        "\n",
        "4.  Sample a minibatch $\\mathcal{B}$ containing $B$ transitions from the replay buffer. Using this minibatch, we define the loss:\n",
        "\n",
        "$$\n",
        "L(\\theta) = \\sum_{(s_i, a_i, r_i, s_i') \\in \\mathcal{B}}\n",
        "\\left[\n",
        "Q(s_i, a_i, \\theta) -  y_i\n",
        "\\right]^2\n",
        "$$\n",
        "where the $y_i$ are the **targets** computed with the **target network** $\\theta^-$:\n",
        "\n",
        "$$\n",
        "y_i = r_i + \\gamma \\max_{a'} Q(s_i', a', \\theta^-).\n",
        "$$\n",
        "\n",
        "5. Update the parameters $\\theta$ to minimize the loss, e.g., with gradient descent (**keeping $\\theta^-$ fixed**): \n",
        "$$\n",
        "\\theta \\gets \\theta - \\eta \\nabla_\\theta L(\\theta)\n",
        "$$\n",
        "where $\\eta$ is the optimization learning rate. \n",
        "\n",
        "6. Every $N$ transitions ($t\\mod N$ = 0), update target parameters: $\\theta^- \\gets \\theta$.\n",
        "\n",
        "7. $t \\gets t+1$. Stop if $t = T$, otherwise go to step 2."
      ]
    },
    {
      "cell_type": "markdown",
      "metadata": {
        "id": "HhKHif__t9OD"
      },
      "source": [
        "# Colab setup"
      ]
    },
    {
      "cell_type": "code",
      "metadata": {
        "colab": {
          "base_uri": "https://localhost:8080/"
        },
        "id": "aylqy_sDqebM",
        "outputId": "213d1301-c6aa-4e36-8a1a-80022f3b7505"
      },
      "source": [
        "# After installing, restart the kernel\n",
        "\n",
        "if 'google.colab' in str(get_ipython()):\n",
        "  print(\"Installing packages, please wait a few moments. You may need to restart the runtime after the installation.\")\n",
        "\n",
        "  # install rlberry library\n",
        "  !pip install git+https://github.com/rlberry-py/rlberry.git#egg=rlberry[default] > /dev/null 2>&1\n",
        "\n",
        "  # install gym\n",
        "  !pip install gym[all] > /dev/null 2>&1\n",
        "\n",
        "  # packages required to show video\n",
        "  !pip install pyvirtualdisplay > /dev/null 2>&1\n",
        "  !apt-get update > /dev/null 2>&1\n",
        "  !apt-get install -y xvfb python-opengl ffmpeg > /dev/null 2>&1"
      ],
      "execution_count": 1,
      "outputs": [
        {
          "output_type": "stream",
          "name": "stdout",
          "text": [
            "Installing packages, please wait a few moments. You may need to restart the runtime after the installation.\n"
          ]
        }
      ]
    },
    {
      "cell_type": "code",
      "metadata": {
        "id": "VWBRfwosfA9f"
      },
      "source": [
        "# Imports\n",
        "import torch\n",
        "import torch.nn as nn\n",
        "import torch.nn.functional as F\n",
        "import torch.optim as optim\n",
        "import numpy as np\n",
        "import random\n",
        "from copy import deepcopy\n",
        "from gym.wrappers import Monitor\n",
        "import gym"
      ],
      "execution_count": 2,
      "outputs": []
    },
    {
      "cell_type": "code",
      "metadata": {
        "id": "msNV7rtZwnZl"
      },
      "source": [
        "# Create directory for saving videos\n",
        "!mkdir videos > /dev/null 2>&1\n",
        "\n",
        "# Initialize display and import function to show videos\n",
        "import rlberry.colab_utils.display_setup\n",
        "from rlberry.colab_utils.display_setup import show_video"
      ],
      "execution_count": 3,
      "outputs": []
    },
    {
      "cell_type": "code",
      "metadata": {
        "id": "SDcNzX0nr_qH"
      },
      "source": [
        "# Random number generator\n",
        "import rlberry.seeding as seeding \n",
        "seeder = seeding.Seeder(789)\n",
        "rng = seeder.rng"
      ],
      "execution_count": 4,
      "outputs": []
    },
    {
      "cell_type": "markdown",
      "metadata": {
        "id": "528oqsgefIFl"
      },
      "source": [
        "# 1. Define the parameters"
      ]
    },
    {
      "cell_type": "code",
      "metadata": {
        "id": "CtExtR4dfMbm",
        "colab": {
          "base_uri": "https://localhost:8080/"
        },
        "outputId": "a531f7a0-162d-467e-90e9-f602f581ee31"
      },
      "source": [
        "# Environment\n",
        "env = gym.make(\"CartPole-v0\")\n",
        "\n",
        "# Discount factor\n",
        "GAMMA = 0.99\n",
        "\n",
        "# Batch size\n",
        "BATCH_SIZE = 256\n",
        "# Capacity of the replay buffer\n",
        "BUFFER_CAPACITY = 10000\n",
        "# Update target net every ... episodes\n",
        "UPDATE_TARGET_EVERY = 20\n",
        "\n",
        "# Initial value of epsilon\n",
        "EPSILON_START = 1.0\n",
        "# Parameter to decrease epsilon\n",
        "DECREASE_EPSILON = 200\n",
        "# Minimum value of epislon\n",
        "EPSILON_MIN = 0.05\n",
        "\n",
        "# Number of training episodes\n",
        "N_EPISODES = 400\n",
        "\n",
        "# Learning rate\n",
        "LEARNING_RATE = 0.1"
      ],
      "execution_count": 5,
      "outputs": [
        {
          "output_type": "stream",
          "name": "stdout",
          "text": [
            "INFO: Making new env: CartPole-v0\n"
          ]
        }
      ]
    },
    {
      "cell_type": "markdown",
      "metadata": {
        "id": "6g16Je-dhM2Q"
      },
      "source": [
        "# 2. Define the replay buffer"
      ]
    },
    {
      "cell_type": "code",
      "metadata": {
        "id": "Jvh82br9hMNt"
      },
      "source": [
        "class ReplayBuffer:\n",
        "    def __init__(self, capacity):\n",
        "        self.capacity = capacity\n",
        "        self.memory = []\n",
        "        self.position = 0\n",
        "\n",
        "    def push(self, state, action, reward, next_state, done):\n",
        "        \"\"\"Saves a transition.\"\"\"\n",
        "        if len(self.memory) < self.capacity:\n",
        "            self.memory.append(None)\n",
        "        self.memory[self.position] = (state, action, reward, next_state, done)\n",
        "        self.position = (self.position + 1) % self.capacity\n",
        "\n",
        "    def sample(self, batch_size):\n",
        "        return rng.choice(self.memory, batch_size).tolist()\n",
        "\n",
        "\n",
        "    def __len__(self):\n",
        "        return len(self.memory)\n",
        "\n",
        "# create instance of replay buffer\n",
        "replay_buffer = ReplayBuffer(BUFFER_CAPACITY)"
      ],
      "execution_count": 6,
      "outputs": []
    },
    {
      "cell_type": "markdown",
      "metadata": {
        "id": "UCc9WZppi92W"
      },
      "source": [
        "# 3. Define the neural network architecture, objective and optimizer"
      ]
    },
    {
      "cell_type": "code",
      "metadata": {
        "id": "sdNz3Jrwi9iS"
      },
      "source": [
        "class Net(nn.Module):\n",
        "    \"\"\"\n",
        "    Basic neural net.\n",
        "    \"\"\"\n",
        "    def __init__(self, obs_size, hidden_size, n_actions):\n",
        "        super(Net, self).__init__()\n",
        "        self.net = nn.Sequential(\n",
        "            nn.Linear(obs_size, hidden_size),\n",
        "            nn.ReLU(),\n",
        "            nn.Linear(hidden_size, n_actions)\n",
        "        )\n",
        "\n",
        "    def forward(self, x):\n",
        "        return self.net(x)\n",
        "\n",
        "\n",
        "# Example: \n",
        "\n",
        "# state = env.observation_space.sample()\n",
        "# state_torch = torch.from_numpy(state)\n",
        "\n",
        "# net = Net(state.shape[0], 128, env.action_space.n)\n",
        "# print(net)\n",
        "\n",
        "# q_state = net(state_torch)\n",
        "# print(state)\n",
        "# print(q_state)"
      ],
      "execution_count": 7,
      "outputs": []
    },
    {
      "cell_type": "code",
      "metadata": {
        "id": "NI9hFJ28jLZ_"
      },
      "source": [
        "# create network and target network\n",
        "hidden_size = 128\n",
        "obs_size = env.observation_space.shape[0]\n",
        "n_actions = env.action_space.n\n",
        "\n",
        "q_net = Net(obs_size, hidden_size, n_actions)\n",
        "target_net = Net(obs_size, hidden_size, n_actions)\n",
        "\n",
        "# objective and optimizer\n",
        "objective = nn.MSELoss()\n",
        "optimizer = optim.Adam(params=q_net.parameters(), lr=LEARNING_RATE)"
      ],
      "execution_count": 8,
      "outputs": []
    },
    {
      "cell_type": "markdown",
      "metadata": {
        "id": "xnR8nfoSjZjL"
      },
      "source": [
        "# 4. Implement Deep Q-Learning"
      ]
    },
    {
      "cell_type": "code",
      "metadata": {
        "id": "z6fT8cKdjmTZ"
      },
      "source": [
        "#\n",
        "#  Some useful functions\n",
        "#\n",
        "\n",
        "def get_q(states):\n",
        "    \"\"\"\n",
        "    Compute Q function for a list of states\n",
        "    \"\"\"\n",
        "    with torch.no_grad():\n",
        "        states_v = torch.FloatTensor([states])\n",
        "        output = q_net.forward(states_v).data.numpy()  # shape (1, len(states), n_actions)\n",
        "    return output[0, :, :]  # shape (len(states), n_actions)\n",
        "\n",
        "def eval_dqn(n_sim=5):\n",
        "    \"\"\"   \n",
        "    Monte Carlo evaluation of DQN agent.\n",
        "\n",
        "    Repeat n_sim times:\n",
        "        * Run the DQN policy until the environment reaches a terminal state (= one episode)\n",
        "        * Compute the sum of rewards in this episode\n",
        "        * Store the sum of rewards in the episode_rewards array.\n",
        "    \"\"\"\n",
        "    env_copy = deepcopy(env)\n",
        "    episode_rewards = np.zeros(n_sim)\n",
        "\n",
        "    for ii in range(n_sim):\n",
        "        state = env_copy.reset()\n",
        "        done = False \n",
        "        while not done:\n",
        "            action = choose_action(state, 0.0)\n",
        "            next_state, reward, done, _ = env_copy.step(action)\n",
        "            episode_rewards[ii] += reward\n",
        "            state = next_state\n",
        "    return episode_rewards"
      ],
      "execution_count": 9,
      "outputs": []
    },
    {
      "cell_type": "code",
      "metadata": {
        "id": "OMspDNntkIoe"
      },
      "source": [
        "def choose_action(state, epsilon):\n",
        "    \"\"\"\n",
        "    ** TO BE IMPLEMENTED **\n",
        "    \n",
        "    Return action according to an epsilon-greedy exploration policy\n",
        "    \"\"\"\n",
        "    if np.random.uniform() < epsilon:\n",
        "        return env.action_space.sample()\n",
        "    else:\n",
        "        q = get_q([state])[0]\n",
        "        return q.argmax()    \n",
        "\n",
        "def update(state, action, reward, next_state, done):\n",
        "    \"\"\"\n",
        "    ** TO BE COMPLETED **\n",
        "    \"\"\"\n",
        "    \n",
        "    # add data to replay buffer\n",
        "    replay_buffer.push(state, action, reward, next_state, done)\n",
        "    \n",
        "    if len(replay_buffer) < BATCH_SIZE:\n",
        "        return np.inf\n",
        "    \n",
        "    # get batch\n",
        "    transitions = replay_buffer.sample(BATCH_SIZE)\n",
        "\n",
        "\n",
        "    # values_debug  = torch.zeros(BATCH_SIZE)   # to be computed using batch   ->  Q(s_i, a_i)\n",
        "    # targets_debug = torch.zeros(BATCH_SIZE)   # to be computed using batch   ->  y_i \n",
        "\n",
        "    # for ii, transition in enumerate(transitions):\n",
        "    #     s_i, a_i, r_i, next_s_i = transition\n",
        "\n",
        "    #     # compute Q(s_i, a_i) = Q_i\n",
        "    #     s_i = torch.FloatTensor([s_i])[0]\n",
        "    #     Q_i = q_net(s_i)[a_i]\n",
        "    #     values_debug[ii] = Q_i\n",
        "\n",
        "\n",
        "    #     # compute y_i\n",
        "    #     r_i = torch.FloatTensor([r_i])[0]\n",
        "\n",
        "    #     # \n",
        "    #     max_q_next_state = 0.0\n",
        "    #     if next_s_i is not None:\n",
        "    #         next_s_i = torch.FloatTensor([next_s_i])[0]\n",
        "    #         max_q_next_state = target_net(next_s_i).detach().max()\n",
        "\n",
        "    #     y_i = r_i + GAMMA*max_q_next_state\n",
        "\n",
        "    #     targets_debug[ii] = y_i\n",
        "\n",
        "    # # ----------------------------------------------\n",
        "\n",
        "    # ------------------------\n",
        "    # process batch of (state, action, reward, next_state)\n",
        "    states = np.array([transitions[ii][0] for  ii in range(BATCH_SIZE)])\n",
        "    actions = np.array([transitions[ii][1] for  ii in range(BATCH_SIZE)])\n",
        "    rewards = np.array([transitions[ii][2] for  ii in range(BATCH_SIZE)])\n",
        "    next_states = np.array([transitions[ii][3] for  ii in range(BATCH_SIZE)])\n",
        "    dones = np.array([transitions[ii][4] for  ii in range(BATCH_SIZE)])\n",
        "\n",
        "    # Convert to torch tensors\n",
        "    states_torch = torch.FloatTensor(states)\n",
        "    actions_torch = torch.LongTensor(actions).view(-1,1)\n",
        "    rewards_torch = torch.FloatTensor(rewards).view(-1, 1)\n",
        "    next_states_torch = torch.FloatTensor(next_states)\n",
        "    dones = torch.FloatTensor(dones)\n",
        "\n",
        "    # Q(s_i, a_i)\n",
        "    values = q_net(states_torch)\n",
        "    values = torch.gather(values, dim=1, index=actions_torch)[:, 0]\n",
        "\n",
        "    # max_a Q(s_{i+1}, a)\n",
        "    values_next_states = target_net(next_states_torch).max(dim=1)[0].detach()\n",
        "    assert values_next_states.shape == values.shape\n",
        "    # targets y_i\n",
        "    targets = rewards_torch + GAMMA * (1.0 - dones) * values_next_states\n",
        "    \n",
        "    # Loss function\n",
        "    loss = objective(values, targets)\n",
        "     \n",
        "    # Optimize the model \n",
        "    optimizer.zero_grad()\n",
        "    loss.backward()\n",
        "    optimizer.step()\n",
        "    \n",
        "    return loss.data.numpy()"
      ],
      "execution_count": 10,
      "outputs": []
    },
    {
      "cell_type": "code",
      "metadata": {
        "id": "QIhpKPhkkU4W",
        "colab": {
          "base_uri": "https://localhost:8080/"
        },
        "outputId": "425e5329-18e5-4318-d736-e16376c0436c"
      },
      "source": [
        "\n",
        "#\n",
        "# Train\n",
        "# \n",
        "\n",
        "EVAL_EVERY = 5\n",
        "REWARD_THRESHOLD = 199\n",
        "\n",
        "def train():\n",
        "    state = env.reset()\n",
        "    epsilon = EPSILON_START\n",
        "    ep = 0\n",
        "    total_time = 0\n",
        "    while ep < N_EPISODES:\n",
        "        action = choose_action(state, epsilon)\n",
        "\n",
        "        # take action and update replay buffer and networks\n",
        "        next_state, reward, done, _ = env.step(action)\n",
        "        loss = update(state, action, reward, next_state, done)\n",
        "\n",
        "        # update state\n",
        "        state = next_state\n",
        "\n",
        "        # end episode if done\n",
        "        if done:\n",
        "            state = env.reset()\n",
        "            ep   += 1\n",
        "            if ( (ep+1)% EVAL_EVERY == 0):\n",
        "                rewards = eval_dqn()\n",
        "                print(\"episode =\", ep+1, \", reward = \", np.mean(rewards))\n",
        "                if np.mean(rewards) >= REWARD_THRESHOLD:\n",
        "                    break\n",
        "\n",
        "            # update target network\n",
        "            if ep % UPDATE_TARGET_EVERY == 0:\n",
        "                target_net.load_state_dict(q_net.state_dict())\n",
        "            # decrease epsilon\n",
        "            epsilon = EPSILON_MIN + (EPSILON_START - EPSILON_MIN) * \\\n",
        "                            np.exp(-1. * ep / DECREASE_EPSILON )    \n",
        "\n",
        "        total_time += 1\n",
        "\n",
        "# Run the training loop\n",
        "train()\n",
        "\n",
        "# Evaluate the final policy\n",
        "rewards = eval_dqn(20)\n",
        "print(\"\")\n",
        "print(\"mean reward after training = \", np.mean(rewards))"
      ],
      "execution_count": 11,
      "outputs": [
        {
          "output_type": "stream",
          "name": "stderr",
          "text": [
            "/usr/local/lib/python3.7/dist-packages/ipykernel_launcher.py:10: UserWarning: Creating a tensor from a list of numpy.ndarrays is extremely slow. Please consider converting the list to a single numpy.ndarray with numpy.array() before converting to a tensor. (Triggered internally at  ../torch/csrc/utils/tensor_new.cpp:201.)\n",
            "  # Remove the CWD from sys.path while we load stuff.\n",
            "/usr/local/lib/python3.7/dist-packages/ipykernel_launcher.py:15: VisibleDeprecationWarning: Creating an ndarray from ragged nested sequences (which is a list-or-tuple of lists-or-tuples-or ndarrays with different lengths or shapes) is deprecated. If you meant to do this, you must specify 'dtype=object' when creating the ndarray\n",
            "  from ipykernel import kernelapp as app\n",
            "/usr/local/lib/python3.7/dist-packages/torch/nn/modules/loss.py:520: UserWarning: Using a target size (torch.Size([256, 256])) that is different to the input size (torch.Size([256])). This will likely lead to incorrect results due to broadcasting. Please ensure they have the same size.\n",
            "  return F.mse_loss(input, target, reduction=self.reduction)\n"
          ]
        },
        {
          "output_type": "stream",
          "name": "stdout",
          "text": [
            "episode = 5 , reward =  20.6\n",
            "episode = 10 , reward =  18.2\n",
            "episode = 15 , reward =  9.6\n",
            "episode = 20 , reward =  10.0\n",
            "episode = 25 , reward =  9.4\n",
            "episode = 30 , reward =  9.6\n",
            "episode = 35 , reward =  9.6\n",
            "episode = 40 , reward =  10.2\n",
            "episode = 45 , reward =  9.8\n",
            "episode = 50 , reward =  9.8\n",
            "episode = 55 , reward =  9.8\n",
            "episode = 60 , reward =  10.6\n",
            "episode = 65 , reward =  95.8\n",
            "episode = 70 , reward =  30.0\n",
            "episode = 75 , reward =  16.0\n",
            "episode = 80 , reward =  25.4\n",
            "episode = 85 , reward =  20.8\n",
            "episode = 90 , reward =  14.4\n",
            "episode = 95 , reward =  21.8\n",
            "episode = 100 , reward =  10.8\n",
            "episode = 105 , reward =  11.4\n",
            "episode = 110 , reward =  28.2\n",
            "episode = 115 , reward =  13.2\n",
            "episode = 120 , reward =  13.8\n",
            "episode = 125 , reward =  82.4\n",
            "episode = 130 , reward =  23.4\n",
            "episode = 135 , reward =  18.2\n",
            "episode = 140 , reward =  11.2\n",
            "episode = 145 , reward =  58.0\n",
            "episode = 150 , reward =  60.8\n",
            "episode = 155 , reward =  72.0\n",
            "episode = 160 , reward =  68.8\n",
            "episode = 165 , reward =  67.6\n",
            "episode = 170 , reward =  57.8\n",
            "episode = 175 , reward =  188.2\n",
            "episode = 180 , reward =  200.0\n",
            "\n",
            "mean reward after training =  176.6\n"
          ]
        }
      ]
    },
    {
      "cell_type": "markdown",
      "metadata": {
        "id": "c8QZwuvjgrMm"
      },
      "source": [
        "# Visualize the DQN policy"
      ]
    },
    {
      "cell_type": "code",
      "metadata": {
        "colab": {
          "base_uri": "https://localhost:8080/",
          "height": 457
        },
        "id": "FGcGwOcEfzPz",
        "outputId": "638f0999-3c59-45e7-8fa4-f5803e5c80ab"
      },
      "source": [
        "def render_env(env):\n",
        "  env = deepcopy(env)\n",
        "  env = Monitor(env, './videos', force=True, video_callable=lambda episode: True)\n",
        "  for episode in range(1):\n",
        "    done = False\n",
        "    state = env.reset()\n",
        "    env.render()\n",
        "    while not done:\n",
        "        action = action = choose_action(state, 0.0)\n",
        "        state, reward, done, info = env.step(action)\n",
        "        env.render()\n",
        "    env.close()\n",
        "    show_video()\n",
        "\n",
        "render_env(env)"
      ],
      "execution_count": 12,
      "outputs": [
        {
          "output_type": "stream",
          "name": "stdout",
          "text": [
            "INFO: Starting new video recorder writing to /content/videos/openaigym.video.0.60.video000000.mp4\n",
            "INFO: Finished writing results. You can upload them to the scoreboard via gym.upload('/content/videos')\n"
          ]
        },
        {
          "output_type": "display_data",
          "data": {
            "text/html": [
              "<video alt=\"videos/openaigym.video.0.60.video000000.mp4\" autoplay\n",
              "                      loop controls style=\"height: 400px;\">\n",
              "                    <source src=\"data:video/mp4;base64,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\" type=\"video/mp4\" />\n",
              "                 </video>"
            ],
            "text/plain": [
              "<IPython.core.display.HTML object>"
            ]
          },
          "metadata": {}
        }
      ]
    }
  ]
}