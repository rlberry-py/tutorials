{
  "nbformat": 4,
  "nbformat_minor": 0,
  "metadata": {
    "colab": {
      "name": "test_rlberry_setup.ipynb",
      "provenance": [],
      "collapsed_sections": [],
      "authorship_tag": "ABX9TyPQv8z98W6rMJameaMmS0I9",
      "include_colab_link": true
    },
    "kernelspec": {
      "name": "python3",
      "display_name": "Python 3"
    }
  },
  "cells": [
    {
      "cell_type": "markdown",
      "metadata": {
        "id": "view-in-github",
        "colab_type": "text"
      },
      "source": [
        "<a href=\"https://colab.research.google.com/github/rlberry-py/tutorials/blob/main/colab_test/test_rlberry_setup.ipynb\" target=\"_parent\"><img src=\"https://colab.research.google.com/assets/colab-badge.svg\" alt=\"Open In Colab\"/></a>"
      ]
    },
    {
      "cell_type": "markdown",
      "metadata": {
        "id": "qL-gF6FESKFk"
      },
      "source": [
        "# Colab setup"
      ]
    },
    {
      "cell_type": "code",
      "metadata": {
        "id": "sK5bE1AsL2Z8",
        "outputId": "f17c2b0f-6839-4b4e-c381-a25d2a9df190",
        "colab": {
          "base_uri": "https://localhost:8080/"
        }
      },
      "source": [
        "# After installing, restart the kernel\n",
        "\n",
        "# install rlberry library\n",
        "!git clone https://github.com/rlberry-py/rlberry.git\n",
        "!cd rlberry && git pull && pip install -e .\n",
        "!pip install ffmpeg-python > /dev/null 2>&1\n",
        "\n",
        "# packages required to show video\n",
        "!pip install pyvirtualdisplay > /dev/null 2>&1\n",
        "!apt-get install -y xvfb python-opengl ffmpeg > /dev/null 2>&1\n",
        "\n",
        "# restart runtime\n",
        "import os\n",
        "os.kill(os.getpid(), 9)"
      ],
      "execution_count": null,
      "outputs": [
        {
          "output_type": "stream",
          "text": [
            "fatal: destination path 'rlberry' already exists and is not an empty directory.\n",
            "remote: Enumerating objects: 41, done.\u001b[K\n",
            "remote: Counting objects: 100% (41/41), done.\u001b[K\n",
            "remote: Compressing objects: 100% (5/5), done.\u001b[K\n",
            "remote: Total 21 (delta 16), reused 21 (delta 16), pack-reused 0\u001b[K\n",
            "Unpacking objects: 100% (21/21), done.\n",
            "From https://github.com/rlberry-py/rlberry\n",
            "   eb75f14..71ab46f  main          -> origin/main\n",
            "   a296274..71ab46f  rendering_dev -> origin/rendering_dev\n",
            "Updating eb75f14..71ab46f\n",
            "Fast-forward\n",
            " examples/demo_value_iteration.py                   | 28 \u001b[32m+++++++++\u001b[m\u001b[31m----------\u001b[m\n",
            " rlberry/envs/classic_control/acrobot.py            |  2 \u001b[32m+\u001b[m\u001b[31m-\u001b[m\n",
            " rlberry/envs/classic_control/mountain_car.py       |  6 \u001b[32m++\u001b[m\u001b[31m---\u001b[m\n",
            " rlberry/envs/finite/chain.py                       |  6 \u001b[32m++\u001b[m\u001b[31m---\u001b[m\n",
            " rlberry/envs/finite/gridworld.py                   | 20 \u001b[32m+++\u001b[m\u001b[31m-----------\u001b[m\n",
            " rlberry/envs/toy_exploration/pball.py              |  4 \u001b[32m+\u001b[m\u001b[31m--\u001b[m\n",
            " rlberry/rendering/__init__.py                      | 13 \u001b[31m---------\u001b[m\n",
            " rlberry/rendering/common_shapes.py                 |  4 \u001b[32m+\u001b[m\u001b[31m--\u001b[m\n",
            " rlberry/rendering/core.py                          | 31 \u001b[32m+++++++++++++\u001b[m\u001b[31m---------\u001b[m\n",
            " rlberry/rendering/opengl_render2d.py               | 25 \u001b[32m+++++++\u001b[m\u001b[31m----------\u001b[m\n",
            " rlberry/rendering/pygame_render2d.py               | 12 \u001b[32m++\u001b[m\u001b[31m-------\u001b[m\n",
            " rlberry/rendering/render_interface.py              |  8 \u001b[32m++++++\u001b[m\n",
            " .../rendering/tests/test_rendering_interface.py    |  7 \u001b[32m++\u001b[m\u001b[31m---\u001b[m\n",
            " 13 files changed, 72 insertions(+), 94 deletions(-)\n",
            "Obtaining file:///content/rlberry\n",
            "Requirement already satisfied: numpy>=1.17 in /usr/local/lib/python3.6/dist-packages (from rlberry==0.0.1) (1.18.5)\n",
            "Requirement already satisfied: pytest in /usr/local/lib/python3.6/dist-packages (from rlberry==0.0.1) (3.6.4)\n",
            "Requirement already satisfied: numba in /usr/local/lib/python3.6/dist-packages (from rlberry==0.0.1) (0.48.0)\n",
            "Requirement already satisfied: PyOpenGL in /usr/local/lib/python3.6/dist-packages (from rlberry==0.0.1) (3.1.5)\n",
            "Requirement already satisfied: PyOpenGL_accelerate in /usr/local/lib/python3.6/dist-packages (from rlberry==0.0.1) (3.1.5)\n",
            "Requirement already satisfied: pygame in /usr/local/lib/python3.6/dist-packages (from rlberry==0.0.1) (2.0.0)\n",
            "Requirement already satisfied: torch>=1.6.0 in /usr/local/lib/python3.6/dist-packages (from rlberry==0.0.1) (1.7.0+cu101)\n",
            "Requirement already satisfied: joblib in /usr/local/lib/python3.6/dist-packages (from rlberry==0.0.1) (0.17.0)\n",
            "Requirement already satisfied: matplotlib in /usr/local/lib/python3.6/dist-packages (from rlberry==0.0.1) (3.2.2)\n",
            "Requirement already satisfied: seaborn in /usr/local/lib/python3.6/dist-packages (from rlberry==0.0.1) (0.11.0)\n",
            "Requirement already satisfied: pandas in /usr/local/lib/python3.6/dist-packages (from rlberry==0.0.1) (1.1.4)\n",
            "Requirement already satisfied: more-itertools>=4.0.0 in /usr/local/lib/python3.6/dist-packages (from pytest->rlberry==0.0.1) (8.6.0)\n",
            "Requirement already satisfied: py>=1.5.0 in /usr/local/lib/python3.6/dist-packages (from pytest->rlberry==0.0.1) (1.9.0)\n",
            "Requirement already satisfied: attrs>=17.4.0 in /usr/local/lib/python3.6/dist-packages (from pytest->rlberry==0.0.1) (20.2.0)\n",
            "Requirement already satisfied: six>=1.10.0 in /usr/local/lib/python3.6/dist-packages (from pytest->rlberry==0.0.1) (1.15.0)\n",
            "Requirement already satisfied: setuptools in /usr/local/lib/python3.6/dist-packages (from pytest->rlberry==0.0.1) (50.3.2)\n",
            "Requirement already satisfied: atomicwrites>=1.0 in /usr/local/lib/python3.6/dist-packages (from pytest->rlberry==0.0.1) (1.4.0)\n",
            "Requirement already satisfied: pluggy<0.8,>=0.5 in /usr/local/lib/python3.6/dist-packages (from pytest->rlberry==0.0.1) (0.7.1)\n",
            "Requirement already satisfied: llvmlite<0.32.0,>=0.31.0dev0 in /usr/local/lib/python3.6/dist-packages (from numba->rlberry==0.0.1) (0.31.0)\n",
            "Requirement already satisfied: dataclasses in /usr/local/lib/python3.6/dist-packages (from torch>=1.6.0->rlberry==0.0.1) (0.7)\n",
            "Requirement already satisfied: typing-extensions in /usr/local/lib/python3.6/dist-packages (from torch>=1.6.0->rlberry==0.0.1) (3.7.4.3)\n",
            "Requirement already satisfied: future in /usr/local/lib/python3.6/dist-packages (from torch>=1.6.0->rlberry==0.0.1) (0.16.0)\n",
            "Requirement already satisfied: cycler>=0.10 in /usr/local/lib/python3.6/dist-packages (from matplotlib->rlberry==0.0.1) (0.10.0)\n",
            "Requirement already satisfied: python-dateutil>=2.1 in /usr/local/lib/python3.6/dist-packages (from matplotlib->rlberry==0.0.1) (2.8.1)\n",
            "Requirement already satisfied: pyparsing!=2.0.4,!=2.1.2,!=2.1.6,>=2.0.1 in /usr/local/lib/python3.6/dist-packages (from matplotlib->rlberry==0.0.1) (2.4.7)\n",
            "Requirement already satisfied: kiwisolver>=1.0.1 in /usr/local/lib/python3.6/dist-packages (from matplotlib->rlberry==0.0.1) (1.3.1)\n",
            "Requirement already satisfied: scipy>=1.0 in /usr/local/lib/python3.6/dist-packages (from seaborn->rlberry==0.0.1) (1.4.1)\n",
            "Requirement already satisfied: pytz>=2017.2 in /usr/local/lib/python3.6/dist-packages (from pandas->rlberry==0.0.1) (2018.9)\n",
            "Installing collected packages: rlberry\n",
            "  Found existing installation: rlberry 0.0.1\n",
            "    Can't uninstall 'rlberry'. No files were found to uninstall.\n",
            "  Running setup.py develop for rlberry\n",
            "Successfully installed rlberry\n"
          ],
          "name": "stdout"
        }
      ]
    },
    {
      "cell_type": "code",
      "metadata": {
        "id": "jr1cmKKoSFpq",
        "outputId": "3db5217d-aca2-43b6-ab10-26267c92eb31",
        "colab": {
          "base_uri": "https://localhost:8080/"
        }
      },
      "source": [
        "# The following code is will be used to visualize the environments.\n",
        "import base64\n",
        "from pyvirtualdisplay import Display\n",
        "from IPython import display as ipythondisplay\n",
        "from IPython.display import clear_output\n",
        "from pathlib import Path\n",
        "\n",
        "# create directory for saving videos\n",
        "!mkdir videos\n",
        "\n",
        "def show_video(directory='./videos'):\n",
        "    html = []\n",
        "    for mp4 in Path(directory).glob(\"*.mp4\"):\n",
        "        video_b64 = base64.b64encode(mp4.read_bytes())\n",
        "        html.append('''<video alt=\"{}\" autoplay \n",
        "                      loop controls style=\"height: 400px;\">\n",
        "                      <source src=\"data:video/mp4;base64,{}\" type=\"video/mp4\" />\n",
        "                 </video>'''.format(mp4, video_b64.decode('ascii')))\n",
        "    ipythondisplay.display(ipythondisplay.HTML(data=\"<br>\".join(html)))\n",
        "     \n",
        "from pyvirtualdisplay import Display\n",
        "display = Display(visible=0, size=(800, 800))\n",
        "display.start()"
      ],
      "execution_count": 1,
      "outputs": [
        {
          "output_type": "stream",
          "text": [
            "mkdir: cannot create directory ‘videos’: File exists\n"
          ],
          "name": "stdout"
        },
        {
          "output_type": "execute_result",
          "data": {
            "text/plain": [
              "<pyvirtualdisplay.display.Display at 0x7f30be018470>"
            ]
          },
          "metadata": {
            "tags": []
          },
          "execution_count": 1
        }
      ]
    },
    {
      "cell_type": "markdown",
      "metadata": {
        "id": "PNZY8gcrSP--"
      },
      "source": [
        "# 1. Importing modules and running unit tests\n",
        "---"
      ]
    },
    {
      "cell_type": "code",
      "metadata": {
        "id": "0JdnSic9PCDm"
      },
      "source": [
        "import rlberry\n",
        "import rlberry.agents\n",
        "import rlberry.eval\n",
        "import rlberry.envs\n",
        "import rlberry.exploration_tools\n",
        "import rlberry.rendering\n",
        "import rlberry.seeding \n",
        "import rlberry.spaces \n",
        "import rlberry.utils\n",
        "import rlberry.wrappers"
      ],
      "execution_count": 2,
      "outputs": []
    },
    {
      "cell_type": "code",
      "metadata": {
        "id": "UeNblieLHklr",
        "outputId": "73801af1-840a-49bd-fb52-5da9827e4d0c",
        "colab": {
          "base_uri": "https://localhost:8080/"
        }
      },
      "source": [
        "!python -m pytest rlberry/"
      ],
      "execution_count": 3,
      "outputs": [
        {
          "output_type": "stream",
          "text": [
            "\u001b[1m============================= test session starts ==============================\u001b[0m\n",
            "platform linux -- Python 3.6.9, pytest-3.6.4, py-1.9.0, pluggy-0.7.1\n",
            "rootdir: /content/rlberry, inifile:\n",
            "plugins: typeguard-2.7.1\n",
            "collected 143 items                                                            \u001b[0m\n",
            "\n",
            "rlberry/rlberry/agents/dynprog/tests/test_value_iteration.py ...........\u001b[36m [  7%]\n",
            "\u001b[0m.............\u001b[36m                                                            [ 16%]\u001b[0m\n",
            "rlberry/rlberry/agents/mbqvi/tests/test_mbqvi.py ..\u001b[36m                      [ 18%]\u001b[0m\n",
            "rlberry/rlberry/envs/tests/test_env_seeding.py ............\u001b[36m              [ 26%]\u001b[0m\n",
            "rlberry/rlberry/envs/tests/test_instantiation.py ......\u001b[36m                  [ 30%]\u001b[0m\n",
            "rlberry/rlberry/eval/tests/test_agent_stats.py .\u001b[36m                         [ 31%]\u001b[0m\n",
            "rlberry/rlberry/exploration_tools/tests/test_discrete_counter.py ...\u001b[36m     [ 33%]\u001b[0m\n",
            "rlberry/rlberry/rendering/tests/test_rendering_interface.py ............\u001b[36m [ 41%]\n",
            "\u001b[0m\u001b[36m                                                                         [ 41%]\u001b[0m\n",
            "rlberry/rlberry/seeding/tests/test_seeding.py ..\u001b[36m                         [ 43%]\u001b[0m\n",
            "rlberry/rlberry/spaces/tests/test_spaces.py ............................\u001b[36m [ 62%]\n",
            "\u001b[0m..\u001b[36m                                                                       [ 64%]\u001b[0m\n",
            "rlberry/rlberry/utils/tests/test_binsearch.py .....\u001b[36m                      [ 67%]\u001b[0m\n",
            "rlberry/rlberry/utils/tests/test_metrics.py ....\u001b[36m                         [ 70%]\u001b[0m\n",
            "rlberry/rlberry/wrappers/tests/test_basewrapper.py ..\u001b[36m                    [ 72%]\u001b[0m\n",
            "rlberry/rlberry/wrappers/tests/test_common_wrappers.py ..............\u001b[36m    [ 81%]\u001b[0m\n",
            "rlberry/rlberry/wrappers/tests/test_wrapper_seeding.py .................\u001b[36m [ 93%]\n",
            "\u001b[0m.........\u001b[36m                                                                [100%]\u001b[0m\n",
            "\n",
            "\u001b[32m\u001b[1m========================= 143 passed in 20.26 seconds ==========================\u001b[0m\n"
          ],
          "name": "stdout"
        }
      ]
    },
    {
      "cell_type": "markdown",
      "metadata": {
        "id": "wdaxg13aIa9X"
      },
      "source": [
        "# 2. Interacting with GridWorld and saving video"
      ]
    },
    {
      "cell_type": "code",
      "metadata": {
        "id": "ZwpyeJAsRKRR",
        "outputId": "7a0b3c93-0892-4084-d9fc-cde6fa45deb7",
        "colab": {
          "base_uri": "https://localhost:8080/",
          "height": 420
        }
      },
      "source": [
        "from rlberry.envs import GridWorld\n",
        "\n",
        "env = GridWorld(nrows=12, ncols=15, walls=((5,5),(6, 6)))\n",
        "\n",
        "# call enable_rendering if you want to record a video from the interactions\n",
        "env.enable_rendering()\n",
        "# get initial state\n",
        "state = env.reset()\n",
        "# run a random policy for 100 time steps\n",
        "for tt in range(100):\n",
        "  action = env.action_space.sample()  # a good RL algorithm must learn a better way to choose actions!\n",
        "  next_state, reward, is_terminal, info = env.step(action)\n",
        "  if is_terminal:\n",
        "    break\n",
        "  state = next_state\n",
        "env.save_video(\"videos/env_example.mp4\", framerate=10)\n",
        "\n",
        "# show video\n",
        "show_video()"
      ],
      "execution_count": 4,
      "outputs": [
        {
          "output_type": "display_data",
          "data": {
            "text/html": [
              "<video alt=\"videos/env_example.mp4\" autoplay \n",
              "                      loop controls style=\"height: 400px;\">\n",
              "                      <source src=\"data:video/mp4;base64,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\" type=\"video/mp4\" />\n",
              "                 </video>"
            ],
            "text/plain": [
              "<IPython.core.display.HTML object>"
            ]
          },
          "metadata": {
            "tags": []
          }
        }
      ]
    },
    {
      "cell_type": "code",
      "metadata": {
        "id": "YAsvlO52TMBX"
      },
      "source": [
        ""
      ],
      "execution_count": null,
      "outputs": []
    }
  ]
}