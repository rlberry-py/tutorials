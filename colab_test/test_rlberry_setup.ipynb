{
  "nbformat": 4,
  "nbformat_minor": 0,
  "metadata": {
    "colab": {
      "name": "test_rlberry_setup.ipynb",
      "provenance": [],
      "collapsed_sections": [],
      "authorship_tag": "ABX9TyO6kyz5+E9FocC44CxfHJ76",
      "include_colab_link": true
    },
    "kernelspec": {
      "name": "python3",
      "display_name": "Python 3"
    }
  },
  "cells": [
    {
      "cell_type": "markdown",
      "metadata": {
        "id": "view-in-github",
        "colab_type": "text"
      },
      "source": [
        "<a href=\"https://colab.research.google.com/github/rlberry-py/tutorials/blob/main/colab_test/test_rlberry_setup.ipynb\" target=\"_parent\"><img src=\"https://colab.research.google.com/assets/colab-badge.svg\" alt=\"Open In Colab\"/></a>"
      ]
    },
    {
      "cell_type": "markdown",
      "metadata": {
        "id": "qL-gF6FESKFk"
      },
      "source": [
        "# Colab setup"
      ]
    },
    {
      "cell_type": "code",
      "metadata": {
        "id": "sK5bE1AsL2Z8"
      },
      "source": [
        "# After installing, restart the kernel\n",
        "\n",
        "# install rlberry library\n",
        "!git clone https://github.com/rlberry-py/rlberry.git\n",
        "!cd rlberry && git pull && pip install -e .[full]\n",
        "!pip install ffmpeg-python > /dev/null 2>&1\n",
        "\n",
        "# packages required to show video\n",
        "!pip install pyvirtualdisplay > /dev/null 2>&1\n",
        "!apt-get install -y xvfb python-opengl ffmpeg > /dev/null 2>&1\n",
        "\n",
        "# restart runtime\n",
        "import os\n",
        "os.kill(os.getpid(), 9)"
      ],
      "execution_count": null,
      "outputs": []
    },
    {
      "cell_type": "code",
      "metadata": {
        "id": "jr1cmKKoSFpq"
      },
      "source": [
        "# Create directory for saving videos\n",
        "!mkdir videos > /dev/null 2>&1\n",
        "\n",
        "# Initialize virtual display and import show_video function\n",
        "import rlberry.colab_utils.display_setup\n",
        "from rlberry.colab_utils.display_setup import show_video"
      ],
      "execution_count": 4,
      "outputs": []
    },
    {
      "cell_type": "markdown",
      "metadata": {
        "id": "PNZY8gcrSP--"
      },
      "source": [
        "# 1. Importing modules and running unit tests\n",
        "---"
      ]
    },
    {
      "cell_type": "code",
      "metadata": {
        "id": "0JdnSic9PCDm"
      },
      "source": [
        "import rlberry\n",
        "import rlberry.agents\n",
        "import rlberry.stats\n",
        "import rlberry.envs\n",
        "import rlberry.exploration_tools\n",
        "import rlberry.rendering\n",
        "import rlberry.seeding \n",
        "import rlberry.spaces \n",
        "import rlberry.utils\n",
        "import rlberry.wrappers"
      ],
      "execution_count": 5,
      "outputs": []
    },
    {
      "cell_type": "code",
      "metadata": {
        "id": "UeNblieLHklr"
      },
      "source": [
        "!python -m pytest rlberry/"
      ],
      "execution_count": null,
      "outputs": []
    },
    {
      "cell_type": "markdown",
      "metadata": {
        "id": "wdaxg13aIa9X"
      },
      "source": [
        "# 2. Interacting with GridWorld and saving video"
      ]
    },
    {
      "cell_type": "code",
      "metadata": {
        "id": "ZwpyeJAsRKRR"
      },
      "source": [
        "from rlberry.envs import GridWorld\n",
        "\n",
        "env = GridWorld(nrows=12, ncols=15, walls=((5,5),(6, 6)))\n",
        "\n",
        "# call enable_rendering if you want to record a video from the interactions\n",
        "env.enable_rendering()\n",
        "# get initial state\n",
        "state = env.reset()\n",
        "# run a random policy for 100 time steps\n",
        "for tt in range(100):\n",
        "  action = env.action_space.sample()  # a good RL algorithm must learn a better way to choose actions!\n",
        "  next_state, reward, is_terminal, info = env.step(action)\n",
        "  if is_terminal:\n",
        "    break\n",
        "  state = next_state\n",
        "env.save_video(\"videos/env_example.mp4\", framerate=10)\n",
        "\n",
        "# show video\n",
        "show_video()"
      ],
      "execution_count": null,
      "outputs": []
    },
    {
      "cell_type": "code",
      "metadata": {
        "id": "YAsvlO52TMBX"
      },
      "source": [
        ""
      ],
      "execution_count": null,
      "outputs": []
    }
  ]
}